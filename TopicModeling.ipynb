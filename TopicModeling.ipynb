{
  "cells": [
    {
      "cell_type": "code",
      "execution_count": null,
      "metadata": {
        "colab": {
          "base_uri": "https://localhost:8080/"
        },
        "id": "B4h-Con9jlvo",
        "outputId": "91807911-32a5-4c18-9bfb-93c1f2b16bb2"
      },
      "outputs": [
        {
          "output_type": "stream",
          "name": "stdout",
          "text": [
            "Looking in indexes: https://pypi.org/simple, https://us-python.pkg.dev/colab-wheels/public/simple/\n",
            "Collecting spark-nlp==4.2.4\n",
            "  Downloading spark_nlp-4.2.4-py2.py3-none-any.whl (448 kB)\n",
            "\u001b[K     |████████████████████████████████| 448 kB 5.3 MB/s \n",
            "\u001b[?25hCollecting pyspark==3.2.1\n",
            "  Downloading pyspark-3.2.1.tar.gz (281.4 MB)\n",
            "\u001b[K     |████████████████████████████████| 281.4 MB 36 kB/s \n",
            "\u001b[?25hCollecting py4j==0.10.9.3\n",
            "  Downloading py4j-0.10.9.3-py2.py3-none-any.whl (198 kB)\n",
            "\u001b[K     |████████████████████████████████| 198 kB 33.7 MB/s \n",
            "\u001b[?25hBuilding wheels for collected packages: pyspark\n",
            "  Building wheel for pyspark (setup.py) ... \u001b[?25l\u001b[?25hdone\n",
            "  Created wheel for pyspark: filename=pyspark-3.2.1-py2.py3-none-any.whl size=281853643 sha256=77f62fae6caf79cb11bb87b6d024376b9b50c17ab97388cc843526b8e3f5683d\n",
            "  Stored in directory: /root/.cache/pip/wheels/58/94/83/915c9059e4b038e2d43a6058f307fe1c3e8536e5745f3b23b7\n",
            "Successfully built pyspark\n",
            "Installing collected packages: py4j, spark-nlp, pyspark\n",
            "Successfully installed py4j-0.10.9.3 pyspark-3.2.1 spark-nlp-4.2.4\n"
          ]
        }
      ],
      "source": [
        "! pip install spark-nlp==4.2.4 pyspark==3.2.1"
      ]
    },
    {
      "cell_type": "code",
      "execution_count": null,
      "metadata": {
        "id": "PNpiLansnBAs"
      },
      "outputs": [],
      "source": [
        "from google.colab import drive\n",
        "drive.mount('/content/gdrive')"
      ]
    },
    {
      "cell_type": "code",
      "execution_count": null,
      "metadata": {
        "id": "A9mpTbJBndKW"
      },
      "outputs": [],
      "source": [
        "import pyspark.sql.functions as F\n",
        "\n",
        "import sparknlp\n",
        "\n",
        "from sparknlp.annotator import Tokenizer\n",
        "from sparknlp.base import DocumentAssembler\n",
        "from sparknlp.annotator import Normalizer\n",
        "from sparknlp.annotator import LemmatizerModel\n",
        "import nltk\n",
        "nltk.download('stopwords')\n",
        "from nltk.corpus import stopwords\n",
        "eng_stopwords = stopwords.words('english')\n",
        "from nltk.corpus import stopwords\n",
        "from sparknlp.annotator import StopWordsCleaner\n",
        "from sparknlp.annotator import NGramGenerator\n",
        "from sparknlp.annotator import PerceptronModel\n",
        "from sparknlp.base import Finisher\n",
        "from pyspark.ml import Pipeline\n",
        "from pyspark.sql import types as T"
      ]
    },
    {
      "cell_type": "code",
      "execution_count": null,
      "metadata": {
        "colab": {
          "base_uri": "https://localhost:8080/"
        },
        "id": "uRPPxeYbnIZG",
        "outputId": "009e813a-214f-4654-cf96-38c985340f1c"
      },
      "outputs": [
        {
          "name": "stdout",
          "output_type": "stream",
          "text": [
            "Archive:  /content/gdrive/Shareddrives/ukraine-russia/ukraine-russia.zip\n",
            "   creating: ukraine-russia/\n",
            "  inflating: ukraine-russia/08.csv   \n",
            "  inflating: __MACOSX/ukraine-russia/._08.csv  \n",
            "  inflating: ukraine-russia/09.csv   \n",
            "  inflating: __MACOSX/ukraine-russia/._09.csv  \n",
            "  inflating: ukraine-russia/02.csv   \n",
            "  inflating: __MACOSX/ukraine-russia/._02.csv  \n",
            "  inflating: ukraine-russia/03.csv   \n",
            "  inflating: __MACOSX/ukraine-russia/._03.csv  \n",
            "  inflating: ukraine-russia/04.csv   \n",
            "  inflating: __MACOSX/ukraine-russia/._04.csv  \n",
            "  inflating: ukraine-russia/10.csv   \n",
            "  inflating: __MACOSX/ukraine-russia/._10.csv  \n",
            "  inflating: ukraine-russia/05.csv   \n",
            "  inflating: __MACOSX/ukraine-russia/._05.csv  \n",
            "  inflating: ukraine-russia/07.csv   \n",
            "  inflating: __MACOSX/ukraine-russia/._07.csv  \n",
            "  inflating: ukraine-russia/06.csv   \n",
            "  inflating: __MACOSX/ukraine-russia/._06.csv  \n"
          ]
        }
      ],
      "source": [
        "!unzip /content/gdrive/Shareddrives/ukraine-russia/ukraine-russia.zip"
      ]
    },
    {
      "cell_type": "code",
      "execution_count": null,
      "metadata": {
        "id": "7xQ9si5GnLSu"
      },
      "outputs": [],
      "source": [
        "spark = sparknlp.start()"
      ]
    },
    {
      "cell_type": "code",
      "execution_count": null,
      "metadata": {
        "id": "o3aar3yfnW3X"
      },
      "outputs": [],
      "source": [
        "df = spark.read.csv(\"./ukraine-russia/08.csv\", header=True,  inferSchema=True)\n",
        "df = df.filter(F.col(\"language\")==\"en\")"
      ]
    },
    {
      "cell_type": "code",
      "execution_count": null,
      "metadata": {
        "id": "3ATFuWF8sKSa"
      },
      "outputs": [],
      "source": [
        "df = df.filter(F.col(\"language\")==\"en\")"
      ]
    },
    {
      "cell_type": "code",
      "execution_count": null,
      "metadata": {
        "colab": {
          "base_uri": "https://localhost:8080/"
        },
        "id": "FqK49fNFsE4b",
        "outputId": "4365e376-6cca-47b2-9bf3-10262b818647"
      },
      "outputs": [
        {
          "data": {
            "text/plain": [
              "41358"
            ]
          },
          "execution_count": 12,
          "metadata": {},
          "output_type": "execute_result"
        }
      ],
      "source": [
        "df.count()"
      ]
    },
    {
      "cell_type": "code",
      "execution_count": null,
      "metadata": {
        "id": "wmW9S98YnYsf"
      },
      "outputs": [],
      "source": [
        "def preprocess_data(df):\n",
        "\n",
        "  df = df.filter(df.text.isNotNull())\n",
        "  tweet_col = 'text'\n",
        "  review_text = df.select(tweet_col).filter(F.col(tweet_col).isNotNull())\n",
        "  clean = review_text.withColumn('text', F.regexp_replace('text', r\"http\\S+\", ''))\n",
        "  clean = clean.withColumn('text', F.regexp_replace('text', r\"\\w+followback\\w+\", ''))\n",
        "  clean = clean.withColumn('text', F.regexp_replace('text', '#', ''))\n",
        "  clean = clean.withColumn('text', F.regexp_replace('text', 'RT', ''))\n",
        "  clean_text = clean.withColumn('text', F.regexp_replace('text', ':', ''))\n",
        "\n",
        "  documentAssembler = DocumentAssembler() \\\n",
        "     .setInputCol(tweet_col) \\\n",
        "     .setOutputCol('document')\n",
        "\n",
        "  tokenizer = Tokenizer() \\\n",
        "     .setInputCols(['document']) \\\n",
        "     .setOutputCol('tokenized')\n",
        "\n",
        "  normalizer = Normalizer() \\\n",
        "     .setInputCols(['tokenized']) \\\n",
        "     .setOutputCol('normalized') \\\n",
        "     .setLowercase(True)\n",
        "\n",
        "  lemmatizer = LemmatizerModel.pretrained() \\\n",
        "     .setInputCols(['normalized']) \\\n",
        "     .setOutputCol('lemmatized')\n",
        "\n",
        "  stopwords_cleaner = StopWordsCleaner() \\\n",
        "     .setInputCols(['lemmatized']) \\\n",
        "     .setOutputCol('unigrams') \\\n",
        "     .setStopWords(eng_stopwords)\n",
        "\n",
        "  ngrammer = NGramGenerator() \\\n",
        "    .setInputCols(['lemmatized']) \\\n",
        "    .setOutputCol('ngrams') \\\n",
        "    .setN(3) \\\n",
        "    .setEnableCumulative(True) \\\n",
        "    .setDelimiter('_')\n",
        "\n",
        "  pos_tagger = PerceptronModel.pretrained('pos_anc') \\\n",
        "    .setInputCols(['document', 'lemmatized']) \\\n",
        "    .setOutputCol('pos')\n",
        "\n",
        "  finisher = Finisher() \\\n",
        "     .setInputCols(['unigrams', 'ngrams', 'pos']) \n",
        "  \n",
        "  pipeline = Pipeline() \\\n",
        "     .setStages([documentAssembler,                  \n",
        "                 tokenizer,\n",
        "                 normalizer,                  \n",
        "                 lemmatizer,                  \n",
        "                 stopwords_cleaner, \n",
        "                 pos_tagger,\n",
        "                 ngrammer,  \n",
        "                 finisher])\n",
        "     \n",
        "  processed_tweet = pipeline.fit(clean_text).transform(clean_text)\n",
        "  udf_join_arr = F.udf(lambda x: ' '.join(x), T.StringType())\n",
        "  processed_tweet  = processed_tweet.withColumn('finished_pos', udf_join_arr(F.col('finished_pos')))\n",
        "  pos_documentAssembler = DocumentAssembler() \\\n",
        "     .setInputCol('finished_pos') \\\n",
        "     .setOutputCol('pos_document')\n",
        "  pos_tokenizer = Tokenizer() \\\n",
        "     .setInputCols(['pos_document']) \\\n",
        "     .setOutputCol('pos')\n",
        "  pos_ngrammer = NGramGenerator() \\\n",
        "    .setInputCols(['pos']) \\\n",
        "    .setOutputCol('pos_ngrams') \\\n",
        "    .setN(3) \\\n",
        "    .setEnableCumulative(True) \\\n",
        "    .setDelimiter('_')\n",
        "\n",
        "  pos_finisher = Finisher() \\\n",
        "     .setInputCols(['pos', 'pos_ngrams']) \\\n",
        "\n",
        "  pos_pipeline = Pipeline() \\\n",
        "     .setStages([pos_documentAssembler,                  \n",
        "                 pos_tokenizer,\n",
        "                 pos_ngrammer,  \n",
        "                 pos_finisher])\n",
        "     \n",
        "  processed_tweet = pos_pipeline.fit(processed_tweet).transform(processed_tweet)\n",
        "  def remove_pos(words, pos_tags):\n",
        "    return [word for word, pos in zip(words, pos_tags) \n",
        "            if pos in ['VB', 'VBP', 'JJ', 'NN', 'NNS']]\n",
        "\n",
        "  udf_remove_pos = F.udf(remove_pos, T.ArrayType(T.StringType()))\n",
        "  processed_tweet = processed_tweet.withColumn(\n",
        "      'filtered_unigrams',\n",
        "      udf_remove_pos(F.col('finished_unigrams'), F.col('finished_pos'))\n",
        "  )\n",
        "  \n",
        "  def remove_pos_combs(words, pos_tags):\n",
        "    return [word for word, pos in zip(words, pos_tags) \n",
        "            if (len(pos.split('_')) == 2 and \\\n",
        "                pos.split('_')[0] in ['JJ', 'NN', 'NNS', 'VB', 'VBP'] and \\\n",
        "                 pos.split('_')[1] in ['JJ', 'NN', 'NNS']) \\\n",
        "            or (len(pos.split('_')) == 3 and \\\n",
        "                pos.split('_')[0] in ['JJ', 'NN', 'NNS', 'VB', 'VBP'] and \\\n",
        "                pos.split('_')[1] in ['JJ', 'NN', 'NNS', 'VB', 'VBP'] and \\\n",
        "                pos.split('_')[2] in ['NN', 'NNS'])\n",
        "            ]\n",
        "    \n",
        "  udf_remove_pos_combs = F.udf(remove_pos_combs, T.ArrayType(T.StringType()))\n",
        "  processed_tweet = processed_tweet.withColumn(\n",
        "      'filtered_ngrams',\n",
        "      udf_remove_pos_combs(F.col('finished_ngrams'),F.col('finished_pos_ngrams'))\n",
        "  )\n",
        "  processed_tweet = processed_tweet.withColumn(\n",
        "      'final', \n",
        "      F.concat(F.col('filtered_unigrams'), \n",
        "      F.col('filtered_ngrams'))\n",
        "  )\n",
        "  return processed_tweet.select(\"text\", \"final\")\n"
      ]
    },
    {
      "cell_type": "code",
      "execution_count": null,
      "metadata": {
        "colab": {
          "base_uri": "https://localhost:8080/"
        },
        "id": "WKNVG6lJp0ML",
        "outputId": "84c8fa0c-9805-4c59-ad78-cabce484560d"
      },
      "outputs": [
        {
          "name": "stdout",
          "output_type": "stream",
          "text": [
            "lemma_antbnc download started this may take some time.\n",
            "Approximate size to download 907.6 KB\n",
            "[OK!]\n",
            "pos_anc download started this may take some time.\n",
            "Approximate size to download 3.9 MB\n",
            "[OK!]\n",
            "+-------------------------------------------------------------------------------------------------------------------------------------------------------------------------------------------------------------------------------------+----------------------------------------------------------------------------------------------------------------------------------------------------------------------------------------------------------------------------------------------------------------------------------------------------------------------------------------------------------------------------------------------------------------------------------------------------------------------------------------------------------------------------------------------------------------------------------------------------------------------------------------------------------------------------------------------------------------------------------------------------------------------------------------------------------------------------------------------------------------+\n",
            "|text                                                                                                                                                                                                                                 |final                                                                                                                                                                                                                                                                                                                                                                                                                                                                                                                                                                                                                                                                                                                                                                                                                                                           |\n",
            "+-------------------------------------------------------------------------------------------------------------------------------------------------------------------------------------------------------------------------------------+----------------------------------------------------------------------------------------------------------------------------------------------------------------------------------------------------------------------------------------------------------------------------------------------------------------------------------------------------------------------------------------------------------------------------------------------------------------------------------------------------------------------------------------------------------------------------------------------------------------------------------------------------------------------------------------------------------------------------------------------------------------------------------------------------------------------------------------------------------------+\n",
            "|I love president Putin                                                                                                                                                                                                               |[president, putin, love_president, president_putin, love_president_putin]                                                                                                                                                                                                                                                                                                                                                                                                                                                                                                                                                                                                                                                                                                                                                                                       |\n",
            "|UK Defense Secretary Russia’s invasion falters, starts to fail.  - source   WarInUkraine StandWithUkraine                                                                                                                            |[uk, defense, secretary, russias, invasion, falter, start, source, warinukraine, standwithukraine, uk_defense, defense_secretary, secretary_russias, russias_invasion, invasion_falter, falter_start, fail_source, source_warinukraine, warinukraine_standwithukraine, defense_secretary_russias, secretary_russias_invasion, russias_invasion_falter, invasion_falter_start, fail_source_warinukraine, source_warinukraine_standwithukraine]                                                                                                                                                                                                                                                                                                                                                                                                                   |\n",
            "|12/08/2022 StandWithUkraine Ukraine DigitalResistance ** Verified**                                                                                                                                                                  |[standwithukraine, ukraine, digitalresistance, verify, standwithukraine_ukraine, ukraine_digitalresistance, digitalresistance_verify, standwithukraine_ukraine_digitalresistance, ukraine_digitalresistance_verify]                                                                                                                                                                                                                                                                                                                                                                                                                                                                                                                                                                                                                                             |\n",
            "|The only way we can survive Biden's dictatorial reign of darkness, is to remain faithful to Trump's MAGA teachings, the Constitution &amp; the teachings of Jesus. MAGAForever                                                       |[survive, biden, darkness, remain, faithful, trump, teachings, constitution, teachings, jesus, only_way, survive_biden, biden_dictatorial, dictatorial_reign, remain_faithful, trump_maga, maga_teachings, constitution_amp, jesus_magaforever, biden_dictatorial_reign, trump_maga_teachings]                                                                                                                                                                                                                                                                                                                                                                                                                                                                                                                                                                  |\n",
            "|US backs creating demilitarized zone around Russian-occupied nuclear plant. NuclearTerrorism NuclearEnergy UkraineRussia UkraineRussianWar UkraineWar                                                                                |[demilitarized, zone, around, nuclearterrorism, nuclearenergy, ukrainerussia, ukrainerussianwar, ukrainewar, create_demilitarized, demilitarized_zone, plant_nuclearterrorism, nuclearterrorism_nuclearenergy, nuclearenergy_ukrainerussia, ukrainerussia_ukrainerussianwar, ukrainerussianwar_ukrainewar, create_demilitarized_zone, plant_nuclearterrorism_nuclearenergy, nuclearterrorism_nuclearenergy_ukrainerussia, nuclearenergy_ukrainerussia_ukrainerussianwar, ukrainerussia_ukrainerussianwar_ukrainewar]                                                                                                                                                                                                                                                                                                                                            |\n",
            "|Russian forces urged to cease military operations near the Zaporizhzhia Nuclear Power Plant in Russian-occupied Enerhodar by U.S. State Department spokesperson. ZaporizhzhiaNPP NuclearPower UkraineRussia UkraineRussianWar Ukraine|[russian, force, urge, military, operation, near, power, plant, russianoccupied, enerhodar, department, spokesperson, ukrainerussia, ukrainerussianwar, ukraine, russian_force, force_urge, cease_military, military_operation, zaporizhzhia_nuclear, nuclear_power, power_plant, russianoccupied_enerhodar, state_department, department_spokesperson, spokesperson_zaporizhzhianpp, zaporizhzhianpp_nuclearpower, nuclearpower_ukrainerussia, ukrainerussia_ukrainerussianwar, ukrainerussianwar_ukraine, russian_force_urge, cease_military_operation, zaporizhzhia_nuclear_power, nuclear_power_plant, state_department_spokesperson, department_spokesperson_zaporizhzhianpp, spokesperson_zaporizhzhianpp_nuclearpower, zaporizhzhianpp_nuclearpower_ukrainerussia, nuclearpower_ukrainerussia_ukrainerussianwar, ukrainerussia_ukrainerussianwar_ukraine]|\n",
            "|Russia has been using the nuclear plant as a shield and a tool of blackmail, constantly shelling Ukrainian positions from the plant's territory. NuclearEnergy UkraineRussia ZaporozhyeNPP NuclearTerrorism Russian                  |[use, nuclear, plant, tool, blackmail, ukrainian, territory, ukrainerussia, nuclearterrorism, russian, be_use, nuclear_plant, shell_ukrainian, ukrainian_position, plant_territory, territory_nuclearenergy, nuclearenergy_ukrainerussia, ukrainerussia_zaporozhyenpp, zaporozhyenpp_nuclearterrorism, nuclearterrorism_russian, have_be_use, shell_ukrainian_position, plant_territory_nuclearenergy, territory_nuclearenergy_ukrainerussia, nuclearenergy_ukrainerussia_zaporozhyenpp, ukrainerussia_zaporozhyenpp_nuclearterrorism]                                                                                                                                                                                                                                                                                                                          |\n",
            "|UN Secretary-General,  Antonio Guterres, is calling for withdrawal of Russian troops from the plant as fighting may lead to a disaster. NuclearTerrorism RussiaUkraine ZaporizhzhiaNPP UkraineWar ukraineinvasion UkraineRussia      |[un, secretarygeneral, antonio, guterres, call, withdrawal, troop, fight, may, nuclearterrorism, zaporizhzhianpp, ukraineinvasion, un_secretarygeneral, secretarygeneral_antonio, antonio_guterres, be_call, russian_troop, disaster_nuclearterrorism, nuclearterrorism_russiaukraine, russiaukraine_zaporizhzhianpp, zaporizhzhianpp_ukrainewar, ukrainewar_ukraineinvasion, ukraineinvasion_ukrainerussia, un_secretarygeneral_antonio, secretarygeneral_antonio_guterres, guterres_be_call, disaster_nuclearterrorism_russiaukraine, nuclearterrorism_russiaukraine_zaporizhzhianpp, russiaukraine_zaporizhzhianpp_ukrainewar, zaporizhzhianpp_ukrainewar_ukraineinvasion, ukrainewar_ukraineinvasion_ukrainerussia]                                                                                                                                         |\n",
            "|biden is lower then a crook roach                                                                                                                                                                                                    |[biden, low, crook, be_low, crook_roach]                                                                                                                                                                                                                                                                                                                                                                                                                                                                                                                                                                                                                                                                                                                                                                                                                        |\n",
            "|For the First Time, US Is Sending More Gas to Europe Than Russia - BNN Bloomberg  NaturalGas USA Europe energy EnergyCrisis Ukraine UkraineRussianWar Gazprom @capitalistexp ICYMI                                                   |[send, gas, russia, bnn, naturalgas, ukraine, ukrainerussianwar, gazprom, capitalistexp, first_time, bnn_bloomberg, bloomberg_naturalgas, naturalgas_usa, energy_energycrisis, energycrisis_ukraine, ukraine_ukrainerussianwar, ukrainerussianwar_gazprom, gazprom_capitalistexp, capitalistexp_icymi, bnn_bloomberg_naturalgas, bloomberg_naturalgas_usa, energy_energycrisis_ukraine, energycrisis_ukraine_ukrainerussianwar, ukraine_ukrainerussianwar_gazprom, ukrainerussianwar_gazprom_capitalistexp, gazprom_capitalistexp_icymi]                                                                                                                                                                                                                                                                                                                        |\n",
            "+-------------------------------------------------------------------------------------------------------------------------------------------------------------------------------------------------------------------------------------+----------------------------------------------------------------------------------------------------------------------------------------------------------------------------------------------------------------------------------------------------------------------------------------------------------------------------------------------------------------------------------------------------------------------------------------------------------------------------------------------------------------------------------------------------------------------------------------------------------------------------------------------------------------------------------------------------------------------------------------------------------------------------------------------------------------------------------------------------------------+\n",
            "only showing top 10 rows\n",
            "\n"
          ]
        }
      ],
      "source": [
        "processed_tweets = preprocess_data(df)\n",
        "processed_tweets.show(10,False)"
      ]
    },
    {
      "cell_type": "code",
      "execution_count": null,
      "metadata": {
        "colab": {
          "base_uri": "https://localhost:8080/"
        },
        "id": "3iXkMK8rp3Vg",
        "outputId": "8de4723a-ca64-4f8e-8de8-a5dc1e86796a"
      },
      "outputs": [
        {
          "name": "stdout",
          "output_type": "stream",
          "text": [
            "+-------------------------------------------------------------------------------------------------------------------------------------------------------------------------------------------------------------------------------------+----------------------------------------------------------------------------------------------------------------------------------------------------------------------------------------------------------------------------------------------------------------------------------------------------------------------------------------------------------------------------------------------------------------------------------------------------------------------------------------------------------------------------------------------------------------------------------------------------------------------------------------------------------------------------------------------------------------------------------------------------------------------------------------------------------------------------------------------------------------+\n",
            "|text                                                                                                                                                                                                                                 |final                                                                                                                                                                                                                                                                                                                                                                                                                                                                                                                                                                                                                                                                                                                                                                                                                                                           |\n",
            "+-------------------------------------------------------------------------------------------------------------------------------------------------------------------------------------------------------------------------------------+----------------------------------------------------------------------------------------------------------------------------------------------------------------------------------------------------------------------------------------------------------------------------------------------------------------------------------------------------------------------------------------------------------------------------------------------------------------------------------------------------------------------------------------------------------------------------------------------------------------------------------------------------------------------------------------------------------------------------------------------------------------------------------------------------------------------------------------------------------------+\n",
            "|I love president Putin                                                                                                                                                                                                               |[president, putin, love_president, president_putin, love_president_putin]                                                                                                                                                                                                                                                                                                                                                                                                                                                                                                                                                                                                                                                                                                                                                                                       |\n",
            "|UK Defense Secretary Russia’s invasion falters, starts to fail.  - source   WarInUkraine StandWithUkraine                                                                                                                            |[uk, defense, secretary, russias, invasion, falter, start, source, warinukraine, standwithukraine, uk_defense, defense_secretary, secretary_russias, russias_invasion, invasion_falter, falter_start, fail_source, source_warinukraine, warinukraine_standwithukraine, defense_secretary_russias, secretary_russias_invasion, russias_invasion_falter, invasion_falter_start, fail_source_warinukraine, source_warinukraine_standwithukraine]                                                                                                                                                                                                                                                                                                                                                                                                                   |\n",
            "|12/08/2022 StandWithUkraine Ukraine DigitalResistance ** Verified**                                                                                                                                                                  |[standwithukraine, ukraine, digitalresistance, verify, standwithukraine_ukraine, ukraine_digitalresistance, digitalresistance_verify, standwithukraine_ukraine_digitalresistance, ukraine_digitalresistance_verify]                                                                                                                                                                                                                                                                                                                                                                                                                                                                                                                                                                                                                                             |\n",
            "|The only way we can survive Biden's dictatorial reign of darkness, is to remain faithful to Trump's MAGA teachings, the Constitution &amp; the teachings of Jesus. MAGAForever                                                       |[survive, biden, darkness, remain, faithful, trump, teachings, constitution, teachings, jesus, only_way, survive_biden, biden_dictatorial, dictatorial_reign, remain_faithful, trump_maga, maga_teachings, constitution_amp, jesus_magaforever, biden_dictatorial_reign, trump_maga_teachings]                                                                                                                                                                                                                                                                                                                                                                                                                                                                                                                                                                  |\n",
            "|US backs creating demilitarized zone around Russian-occupied nuclear plant. NuclearTerrorism NuclearEnergy UkraineRussia UkraineRussianWar UkraineWar                                                                                |[demilitarized, zone, around, nuclearterrorism, nuclearenergy, ukrainerussia, ukrainerussianwar, ukrainewar, create_demilitarized, demilitarized_zone, plant_nuclearterrorism, nuclearterrorism_nuclearenergy, nuclearenergy_ukrainerussia, ukrainerussia_ukrainerussianwar, ukrainerussianwar_ukrainewar, create_demilitarized_zone, plant_nuclearterrorism_nuclearenergy, nuclearterrorism_nuclearenergy_ukrainerussia, nuclearenergy_ukrainerussia_ukrainerussianwar, ukrainerussia_ukrainerussianwar_ukrainewar]                                                                                                                                                                                                                                                                                                                                            |\n",
            "|Russian forces urged to cease military operations near the Zaporizhzhia Nuclear Power Plant in Russian-occupied Enerhodar by U.S. State Department spokesperson. ZaporizhzhiaNPP NuclearPower UkraineRussia UkraineRussianWar Ukraine|[russian, force, urge, military, operation, near, power, plant, russianoccupied, enerhodar, department, spokesperson, ukrainerussia, ukrainerussianwar, ukraine, russian_force, force_urge, cease_military, military_operation, zaporizhzhia_nuclear, nuclear_power, power_plant, russianoccupied_enerhodar, state_department, department_spokesperson, spokesperson_zaporizhzhianpp, zaporizhzhianpp_nuclearpower, nuclearpower_ukrainerussia, ukrainerussia_ukrainerussianwar, ukrainerussianwar_ukraine, russian_force_urge, cease_military_operation, zaporizhzhia_nuclear_power, nuclear_power_plant, state_department_spokesperson, department_spokesperson_zaporizhzhianpp, spokesperson_zaporizhzhianpp_nuclearpower, zaporizhzhianpp_nuclearpower_ukrainerussia, nuclearpower_ukrainerussia_ukrainerussianwar, ukrainerussia_ukrainerussianwar_ukraine]|\n",
            "|Russia has been using the nuclear plant as a shield and a tool of blackmail, constantly shelling Ukrainian positions from the plant's territory. NuclearEnergy UkraineRussia ZaporozhyeNPP NuclearTerrorism Russian                  |[use, nuclear, plant, tool, blackmail, ukrainian, territory, ukrainerussia, nuclearterrorism, russian, be_use, nuclear_plant, shell_ukrainian, ukrainian_position, plant_territory, territory_nuclearenergy, nuclearenergy_ukrainerussia, ukrainerussia_zaporozhyenpp, zaporozhyenpp_nuclearterrorism, nuclearterrorism_russian, have_be_use, shell_ukrainian_position, plant_territory_nuclearenergy, territory_nuclearenergy_ukrainerussia, nuclearenergy_ukrainerussia_zaporozhyenpp, ukrainerussia_zaporozhyenpp_nuclearterrorism]                                                                                                                                                                                                                                                                                                                          |\n",
            "|UN Secretary-General,  Antonio Guterres, is calling for withdrawal of Russian troops from the plant as fighting may lead to a disaster. NuclearTerrorism RussiaUkraine ZaporizhzhiaNPP UkraineWar ukraineinvasion UkraineRussia      |[un, secretarygeneral, antonio, guterres, call, withdrawal, troop, fight, may, nuclearterrorism, zaporizhzhianpp, ukraineinvasion, un_secretarygeneral, secretarygeneral_antonio, antonio_guterres, be_call, russian_troop, disaster_nuclearterrorism, nuclearterrorism_russiaukraine, russiaukraine_zaporizhzhianpp, zaporizhzhianpp_ukrainewar, ukrainewar_ukraineinvasion, ukraineinvasion_ukrainerussia, un_secretarygeneral_antonio, secretarygeneral_antonio_guterres, guterres_be_call, disaster_nuclearterrorism_russiaukraine, nuclearterrorism_russiaukraine_zaporizhzhianpp, russiaukraine_zaporizhzhianpp_ukrainewar, zaporizhzhianpp_ukrainewar_ukraineinvasion, ukrainewar_ukraineinvasion_ukrainerussia]                                                                                                                                         |\n",
            "|biden is lower then a crook roach                                                                                                                                                                                                    |[biden, low, crook, be_low, crook_roach]                                                                                                                                                                                                                                                                                                                                                                                                                                                                                                                                                                                                                                                                                                                                                                                                                        |\n",
            "|For the First Time, US Is Sending More Gas to Europe Than Russia - BNN Bloomberg  NaturalGas USA Europe energy EnergyCrisis Ukraine UkraineRussianWar Gazprom @capitalistexp ICYMI                                                   |[send, gas, russia, bnn, naturalgas, ukraine, ukrainerussianwar, gazprom, capitalistexp, first_time, bnn_bloomberg, bloomberg_naturalgas, naturalgas_usa, energy_energycrisis, energycrisis_ukraine, ukraine_ukrainerussianwar, ukrainerussianwar_gazprom, gazprom_capitalistexp, capitalistexp_icymi, bnn_bloomberg_naturalgas, bloomberg_naturalgas_usa, energy_energycrisis_ukraine, energycrisis_ukraine_ukrainerussianwar, ukraine_ukrainerussianwar_gazprom, ukrainerussianwar_gazprom_capitalistexp, gazprom_capitalistexp_icymi]                                                                                                                                                                                                                                                                                                                        |\n",
            "+-------------------------------------------------------------------------------------------------------------------------------------------------------------------------------------------------------------------------------------+----------------------------------------------------------------------------------------------------------------------------------------------------------------------------------------------------------------------------------------------------------------------------------------------------------------------------------------------------------------------------------------------------------------------------------------------------------------------------------------------------------------------------------------------------------------------------------------------------------------------------------------------------------------------------------------------------------------------------------------------------------------------------------------------------------------------------------------------------------------+\n",
            "only showing top 10 rows\n",
            "\n"
          ]
        }
      ],
      "source": [
        "processed_tweets = processed_tweets.filter(F.size(\"final\")>3)\n",
        "processed_tweets.show(10, False)"
      ]
    },
    {
      "cell_type": "code",
      "execution_count": null,
      "metadata": {
        "colab": {
          "base_uri": "https://localhost:8080/"
        },
        "id": "32DxCCKS1hGM",
        "outputId": "83366ccf-870d-4ac5-b7ed-06b8e89dab9c"
      },
      "outputs": [
        {
          "data": {
            "text/plain": [
              "DataFrame[text: string, final: array<string>]"
            ]
          },
          "execution_count": 16,
          "metadata": {},
          "output_type": "execute_result"
        }
      ],
      "source": [
        "processed_tweets.persist()"
      ]
    },
    {
      "cell_type": "code",
      "execution_count": null,
      "metadata": {
        "colab": {
          "base_uri": "https://localhost:8080/"
        },
        "id": "Iprvq5A0rdS7",
        "outputId": "038c14ff-46e8-4a5f-f7f7-8365a60b24db"
      },
      "outputs": [
        {
          "name": "stdout",
          "output_type": "stream",
          "text": [
            "Looking in indexes: https://pypi.org/simple, https://us-python.pkg.dev/colab-wheels/public/simple/\n",
            "Collecting pyldavis\n",
            "  Downloading pyLDAvis-3.3.1.tar.gz (1.7 MB)\n",
            "\u001b[K     |████████████████████████████████| 1.7 MB 4.0 MB/s \n",
            "\u001b[?25h  Installing build dependencies ... \u001b[?25l\u001b[?25hdone\n",
            "  Getting requirements to build wheel ... \u001b[?25l\u001b[?25hdone\n",
            "  Installing backend dependencies ... \u001b[?25l\u001b[?25hdone\n",
            "    Preparing wheel metadata ... \u001b[?25l\u001b[?25hdone\n",
            "Requirement already satisfied: joblib in /usr/local/lib/python3.8/dist-packages (from pyldavis) (1.2.0)\n",
            "Collecting sklearn\n",
            "  Downloading sklearn-0.0.post1.tar.gz (3.6 kB)\n",
            "Requirement already satisfied: scikit-learn in /usr/local/lib/python3.8/dist-packages (from pyldavis) (1.0.2)\n",
            "Requirement already satisfied: numexpr in /usr/local/lib/python3.8/dist-packages (from pyldavis) (2.8.4)\n",
            "Requirement already satisfied: numpy>=1.20.0 in /usr/local/lib/python3.8/dist-packages (from pyldavis) (1.21.6)\n",
            "Requirement already satisfied: scipy in /usr/local/lib/python3.8/dist-packages (from pyldavis) (1.7.3)\n",
            "Requirement already satisfied: jinja2 in /usr/local/lib/python3.8/dist-packages (from pyldavis) (2.11.3)\n",
            "Requirement already satisfied: future in /usr/local/lib/python3.8/dist-packages (from pyldavis) (0.16.0)\n",
            "Requirement already satisfied: gensim in /usr/local/lib/python3.8/dist-packages (from pyldavis) (3.6.0)\n",
            "Collecting funcy\n",
            "  Downloading funcy-1.17-py2.py3-none-any.whl (33 kB)\n",
            "Requirement already satisfied: setuptools in /usr/local/lib/python3.8/dist-packages (from pyldavis) (57.4.0)\n",
            "Requirement already satisfied: pandas>=1.2.0 in /usr/local/lib/python3.8/dist-packages (from pyldavis) (1.3.5)\n",
            "Requirement already satisfied: pytz>=2017.3 in /usr/local/lib/python3.8/dist-packages (from pandas>=1.2.0->pyldavis) (2022.6)\n",
            "Requirement already satisfied: python-dateutil>=2.7.3 in /usr/local/lib/python3.8/dist-packages (from pandas>=1.2.0->pyldavis) (2.8.2)\n",
            "Requirement already satisfied: six>=1.5 in /usr/local/lib/python3.8/dist-packages (from python-dateutil>=2.7.3->pandas>=1.2.0->pyldavis) (1.15.0)\n",
            "Requirement already satisfied: smart-open>=1.2.1 in /usr/local/lib/python3.8/dist-packages (from gensim->pyldavis) (5.2.1)\n",
            "Requirement already satisfied: MarkupSafe>=0.23 in /usr/local/lib/python3.8/dist-packages (from jinja2->pyldavis) (2.0.1)\n",
            "Requirement already satisfied: threadpoolctl>=2.0.0 in /usr/local/lib/python3.8/dist-packages (from scikit-learn->pyldavis) (3.1.0)\n",
            "Building wheels for collected packages: pyldavis, sklearn\n",
            "  Building wheel for pyldavis (PEP 517) ... \u001b[?25l\u001b[?25hdone\n",
            "  Created wheel for pyldavis: filename=pyLDAvis-3.3.1-py2.py3-none-any.whl size=136898 sha256=7584e32cf658ad928b767429ad71762c93e70f2a1df7f0b248c6823f39d1755c\n",
            "  Stored in directory: /root/.cache/pip/wheels/90/61/ec/9dbe9efc3acf9c4e37ba70fbbcc3f3a0ebd121060aa593181a\n",
            "  Building wheel for sklearn (setup.py) ... \u001b[?25l\u001b[?25hdone\n",
            "  Created wheel for sklearn: filename=sklearn-0.0.post1-py3-none-any.whl size=2344 sha256=737f52248478c3c56505a346dbfca05405ded051eefebec3d14c29259e0e4926\n",
            "  Stored in directory: /root/.cache/pip/wheels/14/25/f7/1cc0956978ae479e75140219088deb7a36f60459df242b1a72\n",
            "Successfully built pyldavis sklearn\n",
            "Installing collected packages: sklearn, funcy, pyldavis\n",
            "Successfully installed funcy-1.17 pyldavis-3.3.1 sklearn-0.0.post1\n"
          ]
        }
      ],
      "source": [
        "! pip install pyldavis"
      ]
    },
    {
      "cell_type": "code",
      "execution_count": null,
      "metadata": {
        "colab": {
          "base_uri": "https://localhost:8080/"
        },
        "id": "KDuE2g97TH1e",
        "outputId": "d248c38c-3731-4782-c596-7b1b25b19d1f"
      },
      "outputs": [
        {
          "name": "stderr",
          "output_type": "stream",
          "text": [
            "/usr/local/lib/python3.8/dist-packages/past/types/oldstr.py:5: DeprecationWarning: Using or importing the ABCs from 'collections' instead of from 'collections.abc' is deprecated since Python 3.3, and in 3.10 it will stop working\n",
            "  from collections import Iterable\n",
            "/usr/local/lib/python3.8/dist-packages/past/builtins/misc.py:4: DeprecationWarning: Using or importing the ABCs from 'collections' instead of from 'collections.abc' is deprecated since Python 3.3, and in 3.10 it will stop working\n",
            "  from collections import Mapping\n"
          ]
        }
      ],
      "source": [
        "from pyspark.ml.feature import CountVectorizer\n",
        "from pyspark.ml.feature import IDF\n",
        "from pyspark.ml.clustering import LDA\n",
        "import pyLDAvis\n",
        "import numpy as np"
      ]
    },
    {
      "cell_type": "code",
      "source": [
        "import time"
      ],
      "metadata": {
        "id": "REWzxmKvn33g"
      },
      "execution_count": null,
      "outputs": []
    },
    {
      "cell_type": "code",
      "execution_count": null,
      "metadata": {
        "id": "4wgKX7l7S76U"
      },
      "outputs": [],
      "source": [
        "def fit_lda(df_tweets, num_tweets_to_train=1000):\n",
        "  tfizer = CountVectorizer(inputCol='final', outputCol='tf_features')\n",
        "  tf_model = tfizer.fit(df_tweets)\n",
        "  tf_result = tf_model.transform(df_tweets)\n",
        "\n",
        "  idfizer = IDF(inputCol='tf_features', outputCol='tf_idf_features')\n",
        "  idf_model = idfizer.fit(tf_result)\n",
        "  tfidf_result = idf_model.transform(tf_result)\n",
        "\n",
        "  num_topics = 5\n",
        "  max_iter = 25\n",
        "\n",
        "  print(\"111\")\n",
        "  start = time.time()\n",
        "  lda = LDA(k=num_topics, maxIter=max_iter, featuresCol='tf_idf_features')\n",
        "  lda_model = lda.fit(tfidf_result.limit(num_tweets_to_train))\n",
        "  end = time.time()\n",
        "  print(end - start)\n",
        "\n",
        "  transformed = lda_model.transform(tfidf_result)\n",
        "  vocab = tf_model.vocabulary\n",
        "\n",
        "  def get_words(token_list):\n",
        "      return [vocab[token_id] for token_id in token_list]\n",
        "        \n",
        "  udf_to_words = F.udf(get_words, T.ArrayType(T.StringType()))\n",
        "  num_top_words = 15\n",
        "  topics = lda_model.describeTopics(num_top_words).withColumn('topicWords', udf_to_words(F.col('termIndices')))\n",
        "\n",
        "  wc = df_tweets.select((F.explode(df_tweets.final)).alias(\"words\")).groupby(\"words\").count()\n",
        "  word_counts = {r['words']:r['count'] for r in wc.collect()}\n",
        "  word_counts = [word_counts[w] for w in tf_model.vocabulary]\n",
        "\n",
        "  data = {\n",
        "      'topic_term_dists': np.array(lda_model.topicsMatrix().toArray()).T, \n",
        "      'doc_topic_dists': np.array([x.toArray() for x in transformed.select([\"topicDistribution\"]).toPandas()['topicDistribution']]),\n",
        "      'doc_lengths': [r[0] for r in df_tweets.select(F.size(df_tweets.final)).collect()],\n",
        "      'vocab': tf_model.vocabulary,\n",
        "      'term_frequency': word_counts\n",
        "  }\n",
        "  return data\n",
        "\n"
      ]
    },
    {
      "cell_type": "code",
      "execution_count": null,
      "metadata": {
        "id": "UQNrK86t9wyT"
      },
      "outputs": [],
      "source": [
        "processed_tweets = processed_tweets.filter(F.size(\"final\")>10)"
      ]
    },
    {
      "cell_type": "code",
      "source": [
        "k = processed_tweets.limit(50000)\n",
        "k.persist()"
      ],
      "metadata": {
        "colab": {
          "base_uri": "https://localhost:8080/"
        },
        "id": "-VgUeMBnl3e1",
        "outputId": "7354be4e-3388-4d3f-c73f-e09f279aac68"
      },
      "execution_count": null,
      "outputs": [
        {
          "output_type": "execute_result",
          "data": {
            "text/plain": [
              "DataFrame[text: string, final: array<string>]"
            ]
          },
          "metadata": {},
          "execution_count": 57
        }
      ]
    },
    {
      "cell_type": "code",
      "execution_count": null,
      "metadata": {
        "colab": {
          "base_uri": "https://localhost:8080/"
        },
        "id": "OTIXAWn2qPtK",
        "outputId": "9b73de27-8d3c-4d08-d882-cb73f7a13dd1"
      },
      "outputs": [
        {
          "output_type": "stream",
          "name": "stdout",
          "text": [
            "111\n",
            "56.22648000717163\n"
          ]
        }
      ],
      "source": [
        "data = fit_lda(k, num_tweets_to_train=50000)\n",
        "# py_lda_prepared_data = pyLDAvis.prepare(**data)\n",
        "# pyLDAvis.display(py_lda_prepared_data)"
      ]
    },
    {
      "cell_type": "code",
      "execution_count": null,
      "metadata": {
        "id": "0Y_oBtXLre98"
      },
      "outputs": [],
      "source": [
        "pyLDAvis.save_html(py_lda_prepared_data, 'lda-08.html')\n"
      ]
    },
    {
      "cell_type": "code",
      "execution_count": null,
      "metadata": {
        "colab": {
          "base_uri": "https://localhost:8080/"
        },
        "id": "uVeev2Y34KEz",
        "outputId": "fc2faa8b-f003-4962-883f-f8049649bc54"
      },
      "outputs": [
        {
          "name": "stdout",
          "output_type": "stream",
          "text": [
            "+--------------------+--------------------+\n",
            "|                text|               final|\n",
            "+--------------------+--------------------+\n",
            "|UK Defense Secret...|[uk, defense, sec...|\n",
            "|The only way we c...|[survive, biden, ...|\n",
            "|US backs creating...|[demilitarized, z...|\n",
            "|Russian forces ur...|[russian, force, ...|\n",
            "|Russia has been u...|[use, nuclear, pl...|\n",
            "|UN Secretary-Gene...|[un, secretarygen...|\n",
            "|For the First Tim...|[send, gas, russi...|\n",
            "|While Europe is p...|[dearly, biden, p...|\n",
            "|The destruction o...|[saki, crimea, ex...|\n",
            "|Wanna see Zelensk...|[wanna, see, zele...|\n",
            "|Visiting peace mu...|[visit, peace, mu...|\n",
            "|Kayleigh McEnany'...|[kayleigh, mcenan...|\n",
            "|@NotAbouThatBase ...|[notabouthatbase,...|\n",
            "|Moment Like Firew...|[moment, firework...|\n",
            "|@dbongino You mig...|[dbongino, read, ...|\n",
            "|@POTUS If you bla...|[potus, increase,...|\n",
            "|@RussiaUN @MID_RF...|[russiaun, midrf,...|\n",
            "|Russian troops co...|[russian, troop, ...|\n",
            "|@nypost Stinks!  ...|[nypost, stink, m...|\n",
            "|Destroyed Russian...|[destroy, russian...|\n",
            "+--------------------+--------------------+\n",
            "only showing top 20 rows\n",
            "\n"
          ]
        }
      ],
      "source": [
        "processed_tweets.show()"
      ]
    },
    {
      "cell_type": "code",
      "execution_count": null,
      "metadata": {
        "id": "KeuifGP04X-C"
      },
      "outputs": [],
      "source": [
        "months = [ \"06\", \"07\", \"08\",\"09\"]"
      ]
    },
    {
      "cell_type": "code",
      "execution_count": null,
      "metadata": {
        "colab": {
          "base_uri": "https://localhost:8080/"
        },
        "id": "mg6J7G3dMM1q",
        "outputId": "f13a9e76-cf0f-4fcd-c179-512263bb9f46"
      },
      "outputs": [
        {
          "metadata": {
            "tags": null
          },
          "name": "stdout",
          "output_type": "stream",
          "text": [
            "lemma_antbnc download started this may take some time.\n",
            "Approximate size to download 907.6 KB\n",
            "[OK!]\n",
            "pos_anc download started this may take some time.\n",
            "Approximate size to download 3.9 MB\n",
            "[OK!]\n",
            "lemma_antbnc download started this may take some time.\n",
            "Approximate size to download 907.6 KB\n",
            "[OK!]\n",
            "pos_anc download started this may take some time.\n",
            "Approximate size to download 3.9 MB\n",
            "[OK!]\n",
            "lemma_antbnc download started this may take some time.\n",
            "Approximate size to download 907.6 KB\n",
            "[OK!]\n",
            "pos_anc download started this may take some time.\n",
            "Approximate size to download 3.9 MB\n",
            "[OK!]\n",
            "lemma_antbnc download started this may take some time.\n",
            "Approximate size to download 907.6 KB\n",
            "[OK!]\n",
            "pos_anc download started this may take some time.\n",
            "Approximate size to download 3.9 MB\n",
            "[OK!]\n"
          ]
        }
      ],
      "source": [
        "for month in months:\n",
        "  df = spark.read.csv(f\"./ukraine-russia/{month}.csv\", header=True,  inferSchema=True)\n",
        "  df = df.filter(F.col(\"language\")==\"en\")\n",
        "  processed_tweets = preprocess_data(df)\n",
        "  processed_tweets = processed_tweets.filter(F.size(\"final\")>10)\n",
        "  data = fit_lda(processed_tweets, num_tweets_to_train=5000)\n",
        "  py_lda_prepared_data = pyLDAvis.prepare(**data)\n",
        "  pyLDAvis.display(py_lda_prepared_data)\n",
        "  pyLDAvis.save_html(py_lda_prepared_data, f'lda-{month}.html')\n"
      ]
    },
    {
      "cell_type": "code",
      "execution_count": null,
      "metadata": {
        "id": "SaUOcjZbM2m3"
      },
      "outputs": [],
      "source": [
        "import pandas as pd\n",
        "\n",
        "p = pd.DataFrame({})\n",
        "p[\"Tweet Count\"] = [100, 500, 1000, 5000, 10000, 20000, 50000]\n",
        "p[\"Python\"] = [1.1, 3.5, 12.3, 37.7, 68.5, 108.6, 260.8]\n",
        "p[\"PySpark\"] = [4.5, 4.4, 4.5, 11.9, 21.1, 44.5, 56.9]"
      ]
    },
    {
      "cell_type": "code",
      "source": [
        "p"
      ],
      "metadata": {
        "colab": {
          "base_uri": "https://localhost:8080/",
          "height": 269
        },
        "id": "WedE3TCKyEXU",
        "outputId": "7d47f265-c6e0-43f3-9071-ac7fe1f22d02"
      },
      "execution_count": null,
      "outputs": [
        {
          "output_type": "execute_result",
          "data": {
            "text/plain": [
              "   Tweet Count  Python  PySpark\n",
              "0          100     1.1      4.5\n",
              "1          500     3.5      4.4\n",
              "2         1000    12.3      4.5\n",
              "3         5000    37.7     11.9\n",
              "4        10000    68.5     21.1\n",
              "5        20000   108.6     44.5\n",
              "6        50000   260.8     56.9"
            ],
            "text/html": [
              "\n",
              "  <div id=\"df-414e2ed7-6761-48f6-b241-518ee2e2df95\">\n",
              "    <div class=\"colab-df-container\">\n",
              "      <div>\n",
              "<style scoped>\n",
              "    .dataframe tbody tr th:only-of-type {\n",
              "        vertical-align: middle;\n",
              "    }\n",
              "\n",
              "    .dataframe tbody tr th {\n",
              "        vertical-align: top;\n",
              "    }\n",
              "\n",
              "    .dataframe thead th {\n",
              "        text-align: right;\n",
              "    }\n",
              "</style>\n",
              "<table border=\"1\" class=\"dataframe\">\n",
              "  <thead>\n",
              "    <tr style=\"text-align: right;\">\n",
              "      <th></th>\n",
              "      <th>Tweet Count</th>\n",
              "      <th>Python</th>\n",
              "      <th>PySpark</th>\n",
              "    </tr>\n",
              "  </thead>\n",
              "  <tbody>\n",
              "    <tr>\n",
              "      <th>0</th>\n",
              "      <td>100</td>\n",
              "      <td>1.1</td>\n",
              "      <td>4.5</td>\n",
              "    </tr>\n",
              "    <tr>\n",
              "      <th>1</th>\n",
              "      <td>500</td>\n",
              "      <td>3.5</td>\n",
              "      <td>4.4</td>\n",
              "    </tr>\n",
              "    <tr>\n",
              "      <th>2</th>\n",
              "      <td>1000</td>\n",
              "      <td>12.3</td>\n",
              "      <td>4.5</td>\n",
              "    </tr>\n",
              "    <tr>\n",
              "      <th>3</th>\n",
              "      <td>5000</td>\n",
              "      <td>37.7</td>\n",
              "      <td>11.9</td>\n",
              "    </tr>\n",
              "    <tr>\n",
              "      <th>4</th>\n",
              "      <td>10000</td>\n",
              "      <td>68.5</td>\n",
              "      <td>21.1</td>\n",
              "    </tr>\n",
              "    <tr>\n",
              "      <th>5</th>\n",
              "      <td>20000</td>\n",
              "      <td>108.6</td>\n",
              "      <td>44.5</td>\n",
              "    </tr>\n",
              "    <tr>\n",
              "      <th>6</th>\n",
              "      <td>50000</td>\n",
              "      <td>260.8</td>\n",
              "      <td>56.9</td>\n",
              "    </tr>\n",
              "  </tbody>\n",
              "</table>\n",
              "</div>\n",
              "      <button class=\"colab-df-convert\" onclick=\"convertToInteractive('df-414e2ed7-6761-48f6-b241-518ee2e2df95')\"\n",
              "              title=\"Convert this dataframe to an interactive table.\"\n",
              "              style=\"display:none;\">\n",
              "        \n",
              "  <svg xmlns=\"http://www.w3.org/2000/svg\" height=\"24px\"viewBox=\"0 0 24 24\"\n",
              "       width=\"24px\">\n",
              "    <path d=\"M0 0h24v24H0V0z\" fill=\"none\"/>\n",
              "    <path d=\"M18.56 5.44l.94 2.06.94-2.06 2.06-.94-2.06-.94-.94-2.06-.94 2.06-2.06.94zm-11 1L8.5 8.5l.94-2.06 2.06-.94-2.06-.94L8.5 2.5l-.94 2.06-2.06.94zm10 10l.94 2.06.94-2.06 2.06-.94-2.06-.94-.94-2.06-.94 2.06-2.06.94z\"/><path d=\"M17.41 7.96l-1.37-1.37c-.4-.4-.92-.59-1.43-.59-.52 0-1.04.2-1.43.59L10.3 9.45l-7.72 7.72c-.78.78-.78 2.05 0 2.83L4 21.41c.39.39.9.59 1.41.59.51 0 1.02-.2 1.41-.59l7.78-7.78 2.81-2.81c.8-.78.8-2.07 0-2.86zM5.41 20L4 18.59l7.72-7.72 1.47 1.35L5.41 20z\"/>\n",
              "  </svg>\n",
              "      </button>\n",
              "      \n",
              "  <style>\n",
              "    .colab-df-container {\n",
              "      display:flex;\n",
              "      flex-wrap:wrap;\n",
              "      gap: 12px;\n",
              "    }\n",
              "\n",
              "    .colab-df-convert {\n",
              "      background-color: #E8F0FE;\n",
              "      border: none;\n",
              "      border-radius: 50%;\n",
              "      cursor: pointer;\n",
              "      display: none;\n",
              "      fill: #1967D2;\n",
              "      height: 32px;\n",
              "      padding: 0 0 0 0;\n",
              "      width: 32px;\n",
              "    }\n",
              "\n",
              "    .colab-df-convert:hover {\n",
              "      background-color: #E2EBFA;\n",
              "      box-shadow: 0px 1px 2px rgba(60, 64, 67, 0.3), 0px 1px 3px 1px rgba(60, 64, 67, 0.15);\n",
              "      fill: #174EA6;\n",
              "    }\n",
              "\n",
              "    [theme=dark] .colab-df-convert {\n",
              "      background-color: #3B4455;\n",
              "      fill: #D2E3FC;\n",
              "    }\n",
              "\n",
              "    [theme=dark] .colab-df-convert:hover {\n",
              "      background-color: #434B5C;\n",
              "      box-shadow: 0px 1px 3px 1px rgba(0, 0, 0, 0.15);\n",
              "      filter: drop-shadow(0px 1px 2px rgba(0, 0, 0, 0.3));\n",
              "      fill: #FFFFFF;\n",
              "    }\n",
              "  </style>\n",
              "\n",
              "      <script>\n",
              "        const buttonEl =\n",
              "          document.querySelector('#df-414e2ed7-6761-48f6-b241-518ee2e2df95 button.colab-df-convert');\n",
              "        buttonEl.style.display =\n",
              "          google.colab.kernel.accessAllowed ? 'block' : 'none';\n",
              "\n",
              "        async function convertToInteractive(key) {\n",
              "          const element = document.querySelector('#df-414e2ed7-6761-48f6-b241-518ee2e2df95');\n",
              "          const dataTable =\n",
              "            await google.colab.kernel.invokeFunction('convertToInteractive',\n",
              "                                                     [key], {});\n",
              "          if (!dataTable) return;\n",
              "\n",
              "          const docLinkHtml = 'Like what you see? Visit the ' +\n",
              "            '<a target=\"_blank\" href=https://colab.research.google.com/notebooks/data_table.ipynb>data table notebook</a>'\n",
              "            + ' to learn more about interactive tables.';\n",
              "          element.innerHTML = '';\n",
              "          dataTable['output_type'] = 'display_data';\n",
              "          await google.colab.output.renderOutput(dataTable, element);\n",
              "          const docLink = document.createElement('div');\n",
              "          docLink.innerHTML = docLinkHtml;\n",
              "          element.appendChild(docLink);\n",
              "        }\n",
              "      </script>\n",
              "    </div>\n",
              "  </div>\n",
              "  "
            ]
          },
          "metadata": {},
          "execution_count": 66
        }
      ]
    },
    {
      "cell_type": "code",
      "source": [
        "import seaborn as sns\n",
        "import matplotlib.pyplot as plt\n",
        "sns.set_theme(style=\"darkgrid\")\n",
        "sns.set(rc={'figure.figsize':(15.7,8.27)})\n",
        "\n",
        "# loading dataset\n",
        "  \n",
        "# draw lineplot\n",
        "sns.lineplot(x=\"Tweet Count\", y=\"Python\", data=p[:4],  label=\"Python\")\n",
        "sns.lineplot(x=\"Tweet Count\", y=\"PySpark\", data=p[:4],  label=\"Pyspark\")\n",
        "plt.ylabel(\"Time in Seconds\")\n",
        "plt.xlabel(\"Number of Tweets\")\n",
        "plt.title('LDA training time - Scale test')\n",
        "plt.show()"
      ],
      "metadata": {
        "colab": {
          "base_uri": "https://localhost:8080/",
          "height": 533
        },
        "id": "DFKC5PIWyHLe",
        "outputId": "72c1d614-57eb-4c8f-8399-41262afbda8c"
      },
      "execution_count": null,
      "outputs": [
        {
          "output_type": "display_data",
          "data": {
            "text/plain": [
              "<Figure size 1130.4x595.44 with 1 Axes>"
            ],
            "image/png": "[encoded data removed]"
          },
          "metadata": {}
        }
      ]
    },
    {
      "cell_type": "code",
      "source": [
        "# Python implementation"
      ],
      "metadata": {
        "id": "PEjrZ8pEsTHK"
      },
      "execution_count": null,
      "outputs": []
    },
    {
      "cell_type": "code",
      "source": [
        "import pandas as pd\n",
        "import nltk\n",
        "nltk.download('wordnet')\n",
        "nltk.download('stopwords')\n",
        "nltk.download('omw-1.4')\n",
        "from nltk.corpus import stopwords\n",
        "from nltk.stem.wordnet import WordNetLemmatizer\n",
        "import string\n",
        "import gensim\n",
        "from gensim import corpora\n",
        "from gensim.test.utils import common_texts\n",
        "from gensim.corpora.dictionary import Dictionary\n",
        "\n",
        "stop = set(stopwords.words('english'))\n",
        "exclude = set(string.punctuation)\n",
        "lemma = WordNetLemmatizer()\n",
        "\n",
        "\n",
        "df = pd.read_csv(\"./ukraine-russia/08.csv\")\n",
        "k = df[~df['text'].isna()]\n",
        "\n",
        "# Create a corpus from a list of texts\n",
        "common_dictionary = Dictionary(k[:5000][\"text\"])\n",
        "common_corpus = [common_dictionary.doc2bow(text) for text in common_texts]\n",
        "# Train the model on the corpus.\n",
        "lda = LdaModel(common_corpus, num_topics=5)\n",
        "def clean(doc):\n",
        "    stop_free = ' '.join([i for i in doc.lower().split() if i not in stop])\n",
        "    punc_free = ''.join([ch for ch in stop_free if ch not in exclude])\n",
        "    normalized = ' '.join(lemma.lemmatize(word) for word in punc_free.split())\n",
        "    return normalized\n",
        "doc_clean = [clean(doc).split() for doc in k[\"text\"][:50000]]\n",
        "\n",
        "dictionary = corpora.Dictionary(doc_clean)\n",
        "doc_term_matrix = [dictionary.doc2bow(doc) for doc in doc_clean]\n",
        "\n",
        "Lda = gensim.models.ldamodel.LdaModel\n",
        "start = time.time()\n",
        "ldamodel = Lda(doc_term_matrix, num_topics = 5, id2word = dictionary, passes=25)\n",
        "end = time.time()\n",
        "print(end-start)"
      ],
      "metadata": {
        "id": "c2mLvAtxyjBB"
      },
      "execution_count": null,
      "outputs": []
    }
  ],
  "metadata": {
    "colab": {
      "provenance": []
    },
    "kernelspec": {
      "display_name": "Python 3",
      "name": "python3"
    },
    "language_info": {
      "name": "python"
    }
  },
  "nbformat": 4,
  "nbformat_minor": 0
}