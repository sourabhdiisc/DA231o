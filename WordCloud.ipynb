{
  "nbformat": 4,
  "nbformat_minor": 0,
  "metadata": {
    "colab": {
      "provenance": []
    },
    "kernelspec": {
      "name": "python3",
      "display_name": "Python 3"
    },
    "language_info": {
      "name": "python"
    }
  },
  "cells": [
    {
      "cell_type": "markdown",
      "source": [
        "## PySpark Setup! \n",
        "Extract Spark/Hadoop and install PyPython dependencies"
      ],
      "metadata": {
        "id": "4qQLPEVsWvS9"
      }
    },
    {
      "cell_type": "code",
      "execution_count": null,
      "metadata": {
        "colab": {
          "base_uri": "https://localhost:8080/"
        },
        "id": "kkVpOHA-_fN_",
        "outputId": "72390d84-05c6-44b1-d291-6df85776677d"
      },
      "outputs": [
        {
          "output_type": "stream",
          "name": "stdout",
          "text": [
            "Looking in indexes: https://pypi.org/simple, https://us-python.pkg.dev/colab-wheels/public/simple/\n",
            "Requirement already satisfied: spark-nlp==4.2.4 in /usr/local/lib/python3.8/dist-packages (4.2.4)\n",
            "Requirement already satisfied: pyspark==3.2.1 in /usr/local/lib/python3.8/dist-packages (3.2.1)\n",
            "Requirement already satisfied: py4j==0.10.9.3 in /usr/local/lib/python3.8/dist-packages (from pyspark==3.2.1) (0.10.9.3)\n"
          ]
        }
      ],
      "source": [
        "! pip install spark-nlp==4.2.4 pyspark==3.2.1"
      ]
    },
    {
      "cell_type": "markdown",
      "source": [
        "## Connect to google drive and unzip the dataset!\n",
        "\n",
        "Getting ready with the dataset to be used."
      ],
      "metadata": {
        "id": "13sLa7pFWp2c"
      }
    },
    {
      "cell_type": "code",
      "source": [
        "from google.colab import drive\n",
        "drive.mount('/content/gdrive')\n",
        "!unzip /content/gdrive/Shareddrives/ukraine-russia/ukraine-russia.zip"
      ],
      "metadata": {
        "colab": {
          "base_uri": "https://localhost:8080/"
        },
        "id": "31jHotKH_jUD",
        "outputId": "c5a1a300-f12c-4f5a-9935-04793914ca26"
      },
      "execution_count": null,
      "outputs": [
        {
          "output_type": "stream",
          "name": "stdout",
          "text": [
            "Drive already mounted at /content/gdrive; to attempt to forcibly remount, call drive.mount(\"/content/gdrive\", force_remount=True).\n",
            "Archive:  /content/gdrive/Shareddrives/ukraine-russia/ukraine-russia.zip\n",
            "replace ukraine-russia/08.csv? [y]es, [n]o, [A]ll, [N]one, [r]ename: y\n",
            "  inflating: ukraine-russia/08.csv   \n",
            "replace __MACOSX/ukraine-russia/._08.csv? [y]es, [n]o, [A]ll, [N]one, [r]ename: y\n",
            "  inflating: __MACOSX/ukraine-russia/._08.csv  \n",
            "replace ukraine-russia/09.csv? [y]es, [n]o, [A]ll, [N]one, [r]ename: y\n",
            "  inflating: ukraine-russia/09.csv   \n",
            "replace __MACOSX/ukraine-russia/._09.csv? [y]es, [n]o, [A]ll, [N]one, [r]ename: y\n",
            "  inflating: __MACOSX/ukraine-russia/._09.csv  \n",
            "replace ukraine-russia/02.csv? [y]es, [n]o, [A]ll, [N]one, [r]ename: y\n",
            "  inflating: ukraine-russia/02.csv   y\n",
            "y\n",
            "\n",
            "replace __MACOSX/ukraine-russia/._02.csv? [y]es, [n]o, [A]ll, [N]one, [r]ename:   inflating: __MACOSX/ukraine-russia/._02.csv  \n",
            "replace ukraine-russia/03.csv? [y]es, [n]o, [A]ll, [N]one, [r]ename:   inflating: ukraine-russia/03.csv   y\n",
            "\n",
            "replace __MACOSX/ukraine-russia/._03.csv? [y]es, [n]o, [A]ll, [N]one, [r]ename:   inflating: __MACOSX/ukraine-russia/._03.csv  \n",
            "replace ukraine-russia/04.csv? [y]es, [n]o, [A]ll, [N]one, [r]ename: y\n",
            "  inflating: ukraine-russia/04.csv   y\n",
            "\n",
            "replace __MACOSX/ukraine-russia/._04.csv? [y]es, [n]o, [A]ll, [N]one, [r]ename:   inflating: __MACOSX/ukraine-russia/._04.csv  \n",
            "replace ukraine-russia/10.csv? [y]es, [n]o, [A]ll, [N]one, [r]ename: y\n",
            "  inflating: ukraine-russia/10.csv   \n",
            "replace __MACOSX/ukraine-russia/._10.csv? [y]es, [n]o, [A]ll, [N]one, [r]ename: y\n",
            "  inflating: __MACOSX/ukraine-russia/._10.csv  \n",
            "replace ukraine-russia/05.csv? [y]es, [n]o, [A]ll, [N]one, [r]ename: y\n",
            "  inflating: ukraine-russia/05.csv   \n",
            "replace __MACOSX/ukraine-russia/._05.csv? [y]es, [n]o, [A]ll, [N]one, [r]ename: y\n",
            "  inflating: __MACOSX/ukraine-russia/._05.csv  \n",
            "replace ukraine-russia/07.csv? [y]es, [n]o, [A]ll, [N]one, [r]ename: y\n",
            "  inflating: ukraine-russia/07.csv   \n",
            "replace __MACOSX/ukraine-russia/._07.csv? [y]es, [n]o, [A]ll, [N]one, [r]ename: y\n",
            "  inflating: __MACOSX/ukraine-russia/._07.csv  \n",
            "replace ukraine-russia/06.csv? [y]es, [n]o, [A]ll, [N]one, [r]ename: y\n",
            "  inflating: ukraine-russia/06.csv   \n",
            "replace __MACOSX/ukraine-russia/._06.csv? [y]es, [n]o, [A]ll, [N]one, [r]ename: y\n",
            "  inflating: __MACOSX/ukraine-russia/._06.csv  \n"
          ]
        }
      ]
    },
    {
      "cell_type": "markdown",
      "source": [
        "## Create a Spark Session!\n",
        "\n",
        "Standard initialization for the Spark session within colab."
      ],
      "metadata": {
        "id": "_sseCsszKu-T"
      }
    },
    {
      "cell_type": "code",
      "source": [
        "import sparknlp\n",
        "\n",
        "spark = sparknlp.start()\n",
        "\n",
        "spark"
      ],
      "metadata": {
        "colab": {
          "base_uri": "https://localhost:8080/",
          "height": 219
        },
        "id": "75hKnS_MK3Pz",
        "outputId": "24a8b4db-df59-405b-8068-d06a8b45d27f"
      },
      "execution_count": null,
      "outputs": [
        {
          "output_type": "execute_result",
          "data": {
            "text/plain": [
              "<pyspark.sql.session.SparkSession at 0x7f727cbaf580>"
            ],
            "text/html": [
              "\n",
              "            <div>\n",
              "                <p><b>SparkSession - in-memory</b></p>\n",
              "                \n",
              "        <div>\n",
              "            <p><b>SparkContext</b></p>\n",
              "\n",
              "            <p><a href=\"http://5f11abf43d01:4040\">Spark UI</a></p>\n",
              "\n",
              "            <dl>\n",
              "              <dt>Version</dt>\n",
              "                <dd><code>v3.2.1</code></dd>\n",
              "              <dt>Master</dt>\n",
              "                <dd><code>local[*]</code></dd>\n",
              "              <dt>AppName</dt>\n",
              "                <dd><code>Spark NLP</code></dd>\n",
              "            </dl>\n",
              "        </div>\n",
              "        \n",
              "            </div>\n",
              "        "
            ]
          },
          "metadata": {},
          "execution_count": 18
        }
      ]
    },
    {
      "cell_type": "markdown",
      "source": [
        "## Importing the utility functions!\n",
        "\n",
        "Pyspark functions, wordcloud, pandas, etc."
      ],
      "metadata": {
        "id": "2ZVzLXlKWiMo"
      }
    },
    {
      "cell_type": "code",
      "source": [
        "## Pyspark Functions\n",
        "import pyspark.sql.functions as F\n",
        "from pyspark.sql.functions import lit\n",
        "from pyspark.ml import Pipeline\n",
        "from pyspark.sql import types as T\n",
        "\n",
        "## Data Cleaning functions\n",
        "from sparknlp.base import DocumentAssembler\n",
        "from sparknlp.base import Finisher\n",
        "from sparknlp.annotator import Tokenizer\n",
        "from sparknlp.annotator import Normalizer\n",
        "from sparknlp.annotator import LemmatizerModel \n",
        "from sparknlp.annotator import StopWordsCleaner\n",
        "from sparknlp.annotator import NGramGenerator\n",
        "from sparknlp.annotator import PerceptronModel\n",
        "\n",
        "## WordCloud\n",
        "import nltk\n",
        "from wordcloud import WordCloud, STOPWORDS\n",
        "from nltk.corpus import stopwords\n",
        "nltk.download('stopwords')\n",
        "eng_stopwords = stopwords.words('english')\n",
        "\n",
        "## Python libraries to implement the code in python for performance evaluation\n",
        "import pandas as pd\n",
        "import seaborn as sns\n",
        "import numpy as np\n",
        "import sparknlp\n",
        "import re\n",
        "import string\n",
        "import time\n",
        "\n",
        "## Functions used for plotting\n",
        "import matplotlib.pyplot as plt"
      ],
      "metadata": {
        "colab": {
          "base_uri": "https://localhost:8080/"
        },
        "id": "nBuWCnW1_tzs",
        "outputId": "013bef67-9b1a-44c6-c593-6df48a9e36fc"
      },
      "execution_count": null,
      "outputs": [
        {
          "output_type": "stream",
          "name": "stderr",
          "text": [
            "[nltk_data] Downloading package stopwords to /root/nltk_data...\n",
            "[nltk_data]   Package stopwords is already up-to-date!\n"
          ]
        }
      ]
    },
    {
      "cell_type": "markdown",
      "source": [
        "## Data Cleaning Functions\n",
        "Function definations used for cleaning the data in **Pyspark** and **Python**."
      ],
      "metadata": {
        "id": "XBe2DrRwO4N_"
      }
    },
    {
      "cell_type": "code",
      "source": [
        "## Function used to clean the data in Python.\n",
        "def python_clean(text):\n",
        "    stemmer = nltk.SnowballStemmer(\"english\")  \n",
        "    stopword=set(stopwords.words('english'))\n",
        "    text = str(text).lower()\n",
        "    text = re.sub('\\[.*?\\]', '', text)\n",
        "    text = re.sub('https?://\\S+|www\\.\\S+', '', text)\n",
        "    text = re.sub('<.*?>+', '', text)\n",
        "    text = re.sub('[%s]' % re.escape(string.punctuation), '', text)\n",
        "    text = re.sub('\\n', '', text)\n",
        "    text = re.sub('\\w*\\d\\w*', '', text)\n",
        "    text = [word for word in text.split(' ') if word not in stopword]\n",
        "    text=\" \".join(text)\n",
        "    text = [stemmer.stem(word) for word in text.split(' ')]\n",
        "    text=\" \".join(text)\n",
        "    return text\n",
        "\n",
        "## Function used to clean the data in PySpark.\n",
        "def pyspark_clean(inp_df):\n",
        "    inp_df = inp_df.filter(inp_df.text.isNotNull())\n",
        "    columnName = 'text'\n",
        "    clean_df = df.select(columnName).filter(F.col(columnName).isNotNull())\n",
        "    clean_df = clean_df.withColumn(columnName, F.lower(columnName));\n",
        "    clean_df = clean_df.withColumn('text', F.regexp_replace('text', r\"\\[.*?\\]\", ''))\n",
        "    clean_df = clean_df.withColumn('text', F.regexp_replace('text', r\"https?://\\S+|www\\.\\S+\", ''))\n",
        "    clean_df = clean_df.withColumn('text', F.regexp_replace('text', r\"<.*?>+\", ''))\n",
        "    clean_df = clean_df.withColumn('text', F.regexp_replace('text', '\\n', ''))\n",
        "    clean_df = clean_df.withColumn('text', F.regexp_replace('text', \"\\w*\\d\\w*\", ''))\n",
        "    clean_df = clean_df.withColumn('text', F.regexp_replace('text', '#', ''))\n",
        "    clean_df = clean_df.withColumn('text', F.regexp_replace('text', 'RT', ''))\n",
        "    clean_data = clean_df.withColumn('text', F.regexp_replace('text', ':', ''))\n",
        "\n",
        "    documentAssembler = DocumentAssembler() \\\n",
        "       .setInputCol(columnName) \\\n",
        "       .setOutputCol('document')\n",
        "\n",
        "    tokenizer = Tokenizer() \\\n",
        "       .setInputCols(['document']) \\\n",
        "       .setOutputCol('tokenized')\n",
        "\n",
        "    normalizer = Normalizer() \\\n",
        "       .setInputCols(['tokenized']) \\\n",
        "       .setOutputCol('normalized') \\\n",
        "       .setLowercase(True)\n",
        "\n",
        "    lemmatizer = LemmatizerModel.pretrained() \\\n",
        "       .setInputCols(['normalized']) \\\n",
        "       .setOutputCol('lemmatized')\n",
        "\n",
        "    stopwords_cleaner = StopWordsCleaner() \\\n",
        "       .setInputCols(['lemmatized']) \\\n",
        "       .setOutputCol('unigrams') \\\n",
        "       .setStopWords(eng_stopwords)\n",
        "\n",
        "    ngrammer = NGramGenerator() \\\n",
        "      .setInputCols(['lemmatized']) \\\n",
        "      .setOutputCol('ngrams') \\\n",
        "      .setN(3) \\\n",
        "      .setEnableCumulative(True) \\\n",
        "      .setDelimiter('_')\n",
        "\n",
        "    pos_tagger = PerceptronModel.pretrained('pos_anc') \\\n",
        "      .setInputCols(['document', 'lemmatized']) \\\n",
        "      .setOutputCol('pos')\n",
        "\n",
        "    finisher = Finisher() \\\n",
        "       .setInputCols(['unigrams', 'ngrams', 'pos']) \n",
        "  \n",
        "    pipeline = Pipeline() \\\n",
        "       .setStages([documentAssembler,                  \n",
        "                 tokenizer,\n",
        "                 normalizer,                  \n",
        "                 lemmatizer,                  \n",
        "                 stopwords_cleaner, \n",
        "                 pos_tagger,\n",
        "                 ngrammer,  \n",
        "                 finisher])\n",
        "     \n",
        "    processed_tweet = pipeline.fit(clean_data).transform(clean_data)\n",
        "    return processed_tweet.select(\"text\")\n"
      ],
      "metadata": {
        "id": "kmn24qyOBlTC"
      },
      "execution_count": null,
      "outputs": []
    },
    {
      "cell_type": "markdown",
      "source": [
        "## WordCloud generation and plotting Functions\n",
        "Function definations used for generating and plotting the wordcloud from user data in **Pyspark** and **Python**."
      ],
      "metadata": {
        "id": "oIaf--sLPajD"
      }
    },
    {
      "cell_type": "code",
      "source": [
        "def pyspark_wordcloud_generation(month,df):\n",
        "  new_df = df.select('*', lit(0.25).alias(\"key_val\"))\n",
        "  new_df = new_df.groupBy(\"key_val\").agg(F.collect_list(\"text\").alias(\"merged_data\"))\n",
        "  result = new_df.first()['merged_data']\n",
        "  text = \" \".join(i for i in result)\n",
        "  stopwords = set(STOPWORDS)\n",
        "  # Adding few specific words to be removed from the cloud.\n",
        "  stopwords.add(\"https\")\n",
        "  stopwords.add(\"nan\")\n",
        "  stopwords.add(\"en'\")\n",
        "  stopwords.add(\"el\")\n",
        "  stopwords.add(\"de\")\n",
        "  stopwords.add(\"la\")\n",
        "  stopwords.add(\"la\")\n",
        "  stopwords.add(\"t\")\n",
        "  stopwords.add(\"co\")\n",
        "  wordcloud = WordCloud(stopwords=stopwords, background_color=\"black\").generate(text)\n",
        "\n",
        "def python_wordcloud_generation(month,data):\n",
        "  text = \" \".join(i for i in data.text)\n",
        "  stopwords = set(STOPWORDS)\n",
        "  # Adding few specific words to be removed from the cloud.\n",
        "  stopwords.add(\"https\")\n",
        "  stopwords.add(\"nan\")\n",
        "  stopwords.add(\"en'\")\n",
        "  stopwords.add(\"el\")\n",
        "  stopwords.add(\"de\")\n",
        "  stopwords.add(\"la\")\n",
        "  stopwords.add(\"la\")\n",
        "  stopwords.add(\"t\")\n",
        "  stopwords.add(\"co\")\n",
        "  wordcloud = WordCloud(stopwords=stopwords, background_color=\"black\").generate(text)\n",
        "  plt.figure(figsize=(15,10))\n",
        "  plt.imshow(wordcloud, interpolation='bilinear')\n",
        "  plt.axis(\"off\")\n",
        "  plt.show()\n"
      ],
      "metadata": {
        "id": "XjoG-awIDBG7"
      },
      "execution_count": null,
      "outputs": []
    },
    {
      "cell_type": "markdown",
      "source": [
        "## Output Cell!\n",
        "\n",
        "We load the data for each month, clean the data for that month and plot the wordcloud for that month.\n",
        "\n",
        "This is done in python followed by pyspark.\n",
        "\n",
        "It keeps track of the time for each month evaluation and the number of tweets for each month.\n",
        "\n",
        "Populate the dataframe with number of tweets, python timing for each month and pyspark timing for each month for data cleaning and cloud generation.\n",
        "\n",
        "This is further used to plot the graph to show the performance improvement with distributed model(PySpark) over Python.\n"
      ],
      "metadata": {
        "id": "i57YQcjIPsRK"
      }
    },
    {
      "cell_type": "code",
      "source": [
        "months = [ \"02\",\"03\",\"05\", \"06\", \"07\", \"08\",\"09\"]\n",
        "tweet_list = []\n",
        "python_time = []\n",
        "pyspark_time = []\n",
        "\n",
        "for month in months:\n",
        "  start = time.time()\n",
        "  df = pd.read_csv(f\"./ukraine-russia/{month}.csv\",engine='python')\n",
        "  result_df = df[df['language'] == \"en\"]\n",
        "  data = result_df[[\"username\", \"text\", \"language\"]] \n",
        "  data = data.dropna(how='all')  # Drop Row/Column Only if All the Values are Null \n",
        "  data[\"text\"] = data[\"text\"].apply(python_clean)\n",
        "  python_wordcloud_generation(month,data)\n",
        "  end = time.time()\n",
        "  python_time.append(end - start)\n",
        "\n",
        "for month in months:\n",
        "  start = time.time()\n",
        "  df = spark.read.csv(f\"./ukraine-russia/{month}.csv\", header=True,  inferSchema=True)\n",
        "  df = df.filter(F.col(\"language\")==\"en\")\n",
        "  tweet_list.append(df.count())\n",
        "  df.persist()\n",
        "  processed_tweets = pyspark_clean(df)\n",
        "  pyspark_wordcloud_generation(month,processed_tweets)\n",
        "  end = time.time()\n",
        "  pyspark_time.append(end - start)\n",
        "\n",
        "p = pd.DataFrame({})\n",
        "p[\"Tweet Count\"] = tweet_list\n",
        "p[\"Python\"] = python_time\n",
        "p[\"PySpark\"] = pyspark_time\n"
      ],
      "metadata": {
        "id": "5yDoi2hWKQMV",
        "colab": {
          "base_uri": "https://localhost:8080/"
        },
        "outputId": "94fea723-2e78-4149-8bd6-4cf062ee32cf"
      },
      "execution_count": null,
      "outputs": [
        {
          "output_type": "stream",
          "name": "stdout",
          "text": [
            "lemma_antbnc download started this may take some time.\n",
            "Approximate size to download 907.6 KB\n",
            "[OK!]\n",
            "pos_anc download started this may take some time.\n",
            "Approximate size to download 3.9 MB\n",
            "[OK!]\n",
            "lemma_antbnc download started this may take some time.\n",
            "Approximate size to download 907.6 KB\n",
            "[OK!]\n",
            "pos_anc download started this may take some time.\n",
            "Approximate size to download 3.9 MB\n",
            "[OK!]\n",
            "lemma_antbnc download started this may take some time.\n",
            "Approximate size to download 907.6 KB\n",
            "[OK!]\n",
            "pos_anc download started this may take some time.\n",
            "Approximate size to download 3.9 MB\n",
            "[OK!]\n",
            "lemma_antbnc download started this may take some time.\n",
            "Approximate size to download 907.6 KB\n",
            "[OK!]\n",
            "pos_anc download started this may take some time.\n",
            "Approximate size to download 3.9 MB\n",
            "[OK!]\n",
            "lemma_antbnc download started this may take some time.\n",
            "Approximate size to download 907.6 KB\n",
            "[OK!]\n",
            "pos_anc download started this may take some time.\n",
            "Approximate size to download 3.9 MB\n",
            "[OK!]\n",
            "lemma_antbnc download started this may take some time.\n",
            "Approximate size to download 907.6 KB\n",
            "[OK!]\n",
            "pos_anc download started this may take some time.\n",
            "Approximate size to download 3.9 MB\n",
            "[OK!]\n",
            "lemma_antbnc download started this may take some time.\n",
            "Approximate size to download 907.6 KB\n",
            "[OK!]\n",
            "pos_anc download started this may take some time.\n",
            "Approximate size to download 3.9 MB\n",
            "[OK!]\n"
          ]
        }
      ]
    },
    {
      "cell_type": "markdown",
      "source": [
        "## Plotting performance graph!\n",
        "\n",
        "Plot the graph to show the performance improvement with distributed model(**PySpark**) over **Python**.\n",
        " "
      ],
      "metadata": {
        "id": "xN9DDuJzRiMf"
      }
    },
    {
      "cell_type": "code",
      "source": [
        "p = pd.DataFrame({})\n",
        "p[\"Tweet Count\"] = tweet_list\n",
        "p[\"Python\"] = python_time\n",
        "p[\"PySpark\"] = pyspark_time\n",
        "p.sort_values([\"Tweet Count\"],inplace=True);\n",
        "print(p)\n",
        "sns.set_theme(style=\"darkgrid\")\n",
        "sns.set(rc={'figure.figsize':(15.7,8.27)})\n",
        "\n",
        "# loading dataset\n",
        "  \n",
        "# draw lineplot\n",
        "sns.lineplot(x=\"Tweet Count\", y=\"Python\", data=p[:4],  label=\"Python\")\n",
        "sns.lineplot(x=\"Tweet Count\", y=\"PySpark\", data=p[:4],  label=\"Pyspark\")\n",
        "plt.ylabel(\"Time in Seconds\")\n",
        "plt.xlabel(\"Number of Tweets\")\n",
        "plt.title('WordCloud training time - Scale test')\n",
        "plt.show()"
      ],
      "metadata": {
        "colab": {
          "base_uri": "https://localhost:8080/",
          "height": 533
        },
        "id": "fXeTIxgeGTPu",
        "outputId": "4242bc34-49a2-48e5-bf76-38b4c18aee5b"
      },
      "execution_count": null,
      "outputs": [
        {
          "output_type": "display_data",
          "data": {
            "text/plain": [
              "<Figure size 1130.4x595.44 with 1 Axes>"
            ],
            "image/png": "[encoded data removed]"
          },
          "metadata": {}
        }
      ]
    }
  ]
}