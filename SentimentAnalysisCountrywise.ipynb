{
  "nbformat": 4,
  "nbformat_minor": 0,
  "metadata": {
    "colab": {
      "provenance": []
    },
    "kernelspec": {
      "name": "python3",
      "display_name": "Python 3"
    },
    "language_info": {
      "name": "python"
    }
  },
  "cells": [
    {
      "cell_type": "code",
      "execution_count": 1,
      "metadata": {
        "colab": {
          "base_uri": "https://localhost:8080/"
        },
        "id": "byV4r645It1_",
        "outputId": "e7fc24a1-24ae-4f2f-a0d4-e889edb3adf2"
      },
      "outputs": [
        {
          "output_type": "stream",
          "name": "stdout",
          "text": [
            "Looking in indexes: https://pypi.org/simple, https://us-python.pkg.dev/colab-wheels/public/simple/\n",
            "Collecting pyspark\n",
            "  Downloading pyspark-3.3.1.tar.gz (281.4 MB)\n",
            "\u001b[K     |████████████████████████████████| 281.4 MB 55 kB/s \n",
            "\u001b[?25hCollecting py4j==0.10.9.5\n",
            "  Downloading py4j-0.10.9.5-py2.py3-none-any.whl (199 kB)\n",
            "\u001b[K     |████████████████████████████████| 199 kB 71.4 MB/s \n",
            "\u001b[?25hBuilding wheels for collected packages: pyspark\n",
            "  Building wheel for pyspark (setup.py) ... \u001b[?25l\u001b[?25hdone\n",
            "  Created wheel for pyspark: filename=pyspark-3.3.1-py2.py3-none-any.whl size=281845512 sha256=f45fc0269b9ed82317f9abe48e1a20c441a46dbcd17f33db1b097d1539794c1e\n",
            "  Stored in directory: /root/.cache/pip/wheels/43/dc/11/ec201cd671da62fa9c5cc77078235e40722170ceba231d7598\n",
            "Successfully built pyspark\n",
            "Installing collected packages: py4j, pyspark\n",
            "Successfully installed py4j-0.10.9.5 pyspark-3.3.1\n",
            "Looking in indexes: https://pypi.org/simple, https://us-python.pkg.dev/colab-wheels/public/simple/\n",
            "Collecting spark-nlp==2.4.5\n",
            "  Downloading spark_nlp-2.4.5-py2.py3-none-any.whl (110 kB)\n",
            "\u001b[K     |████████████████████████████████| 110 kB 34.2 MB/s \n",
            "\u001b[?25hInstalling collected packages: spark-nlp\n",
            "Successfully installed spark-nlp-2.4.5\n",
            "Looking in indexes: https://pypi.org/simple, https://us-python.pkg.dev/colab-wheels/public/simple/\n",
            "Requirement already satisfied: nltk in /usr/local/lib/python3.8/dist-packages (3.7)\n",
            "Requirement already satisfied: regex>=2021.8.3 in /usr/local/lib/python3.8/dist-packages (from nltk) (2022.6.2)\n",
            "Requirement already satisfied: click in /usr/local/lib/python3.8/dist-packages (from nltk) (7.1.2)\n",
            "Requirement already satisfied: tqdm in /usr/local/lib/python3.8/dist-packages (from nltk) (4.64.1)\n",
            "Requirement already satisfied: joblib in /usr/local/lib/python3.8/dist-packages (from nltk) (1.2.0)\n",
            "Looking in indexes: https://pypi.org/simple, https://us-python.pkg.dev/colab-wheels/public/simple/\n",
            "Collecting pyldavis\n",
            "  Downloading pyLDAvis-3.3.1.tar.gz (1.7 MB)\n",
            "\u001b[K     |████████████████████████████████| 1.7 MB 24.9 MB/s \n",
            "\u001b[?25h  Installing build dependencies ... \u001b[?25l\u001b[?25hdone\n",
            "  Getting requirements to build wheel ... \u001b[?25l\u001b[?25hdone\n",
            "  Installing backend dependencies ... \u001b[?25l\u001b[?25hdone\n",
            "    Preparing wheel metadata ... \u001b[?25l\u001b[?25hdone\n",
            "Requirement already satisfied: gensim in /usr/local/lib/python3.8/dist-packages (from pyldavis) (3.6.0)\n",
            "Requirement already satisfied: numpy>=1.20.0 in /usr/local/lib/python3.8/dist-packages (from pyldavis) (1.21.6)\n",
            "Requirement already satisfied: scikit-learn in /usr/local/lib/python3.8/dist-packages (from pyldavis) (1.0.2)\n",
            "Requirement already satisfied: scipy in /usr/local/lib/python3.8/dist-packages (from pyldavis) (1.7.3)\n",
            "Requirement already satisfied: pandas>=1.2.0 in /usr/local/lib/python3.8/dist-packages (from pyldavis) (1.3.5)\n",
            "Requirement already satisfied: numexpr in /usr/local/lib/python3.8/dist-packages (from pyldavis) (2.8.4)\n",
            "Requirement already satisfied: future in /usr/local/lib/python3.8/dist-packages (from pyldavis) (0.16.0)\n",
            "Collecting sklearn\n",
            "  Downloading sklearn-0.0.post1.tar.gz (3.6 kB)\n",
            "Requirement already satisfied: joblib in /usr/local/lib/python3.8/dist-packages (from pyldavis) (1.2.0)\n",
            "Collecting funcy\n",
            "  Downloading funcy-1.17-py2.py3-none-any.whl (33 kB)\n",
            "Requirement already satisfied: jinja2 in /usr/local/lib/python3.8/dist-packages (from pyldavis) (2.11.3)\n",
            "Requirement already satisfied: setuptools in /usr/local/lib/python3.8/dist-packages (from pyldavis) (57.4.0)\n",
            "Requirement already satisfied: pytz>=2017.3 in /usr/local/lib/python3.8/dist-packages (from pandas>=1.2.0->pyldavis) (2022.6)\n",
            "Requirement already satisfied: python-dateutil>=2.7.3 in /usr/local/lib/python3.8/dist-packages (from pandas>=1.2.0->pyldavis) (2.8.2)\n",
            "Requirement already satisfied: six>=1.5 in /usr/local/lib/python3.8/dist-packages (from python-dateutil>=2.7.3->pandas>=1.2.0->pyldavis) (1.15.0)\n",
            "Requirement already satisfied: smart-open>=1.2.1 in /usr/local/lib/python3.8/dist-packages (from gensim->pyldavis) (5.2.1)\n",
            "Requirement already satisfied: MarkupSafe>=0.23 in /usr/local/lib/python3.8/dist-packages (from jinja2->pyldavis) (2.0.1)\n",
            "Requirement already satisfied: threadpoolctl>=2.0.0 in /usr/local/lib/python3.8/dist-packages (from scikit-learn->pyldavis) (3.1.0)\n",
            "Building wheels for collected packages: pyldavis, sklearn\n",
            "  Building wheel for pyldavis (PEP 517) ... \u001b[?25l\u001b[?25hdone\n",
            "  Created wheel for pyldavis: filename=pyLDAvis-3.3.1-py2.py3-none-any.whl size=136898 sha256=162f87982f12ff7297dcaf7301da5304b08ac2f2e30b8ee7a1cb413eb7cdc964\n",
            "  Stored in directory: /root/.cache/pip/wheels/90/61/ec/9dbe9efc3acf9c4e37ba70fbbcc3f3a0ebd121060aa593181a\n",
            "  Building wheel for sklearn (setup.py) ... \u001b[?25l\u001b[?25hdone\n",
            "  Created wheel for sklearn: filename=sklearn-0.0.post1-py3-none-any.whl size=2344 sha256=84818348a6f9e704456030f3a94882b914e80af8f35a82248c054731f805555d\n",
            "  Stored in directory: /root/.cache/pip/wheels/14/25/f7/1cc0956978ae479e75140219088deb7a36f60459df242b1a72\n",
            "Successfully built pyldavis sklearn\n",
            "Installing collected packages: sklearn, funcy, pyldavis\n",
            "Successfully installed funcy-1.17 pyldavis-3.3.1 sklearn-0.0.post1\n",
            "Looking in indexes: https://pypi.org/simple, https://us-python.pkg.dev/colab-wheels/public/simple/\n",
            "Collecting geopandas\n",
            "  Downloading geopandas-0.12.1-py3-none-any.whl (1.1 MB)\n",
            "\u001b[K     |████████████████████████████████| 1.1 MB 23.2 MB/s \n",
            "\u001b[?25hRequirement already satisfied: shapely>=1.7 in /usr/local/lib/python3.8/dist-packages (from geopandas) (1.8.5.post1)\n",
            "Requirement already satisfied: pandas>=1.0.0 in /usr/local/lib/python3.8/dist-packages (from geopandas) (1.3.5)\n",
            "Collecting pyproj>=2.6.1.post1\n",
            "  Downloading pyproj-3.4.0-cp38-cp38-manylinux_2_17_x86_64.manylinux2014_x86_64.whl (7.8 MB)\n",
            "\u001b[K     |████████████████████████████████| 7.8 MB 78.4 MB/s \n",
            "\u001b[?25hCollecting fiona>=1.8\n",
            "  Downloading Fiona-1.8.22-cp38-cp38-manylinux_2_17_x86_64.manylinux2014_x86_64.whl (16.6 MB)\n",
            "\u001b[K     |████████████████████████████████| 16.6 MB 51.4 MB/s \n",
            "\u001b[?25hRequirement already satisfied: packaging in /usr/local/lib/python3.8/dist-packages (from geopandas) (21.3)\n",
            "Collecting click-plugins>=1.0\n",
            "  Downloading click_plugins-1.1.1-py2.py3-none-any.whl (7.5 kB)\n",
            "Requirement already satisfied: six>=1.7 in /usr/local/lib/python3.8/dist-packages (from fiona>=1.8->geopandas) (1.15.0)\n",
            "Collecting munch\n",
            "  Downloading munch-2.5.0-py2.py3-none-any.whl (10 kB)\n",
            "Requirement already satisfied: attrs>=17 in /usr/local/lib/python3.8/dist-packages (from fiona>=1.8->geopandas) (22.1.0)\n",
            "Requirement already satisfied: certifi in /usr/local/lib/python3.8/dist-packages (from fiona>=1.8->geopandas) (2022.9.24)\n",
            "Collecting cligj>=0.5\n",
            "  Downloading cligj-0.7.2-py3-none-any.whl (7.1 kB)\n",
            "Requirement already satisfied: click>=4.0 in /usr/local/lib/python3.8/dist-packages (from fiona>=1.8->geopandas) (7.1.2)\n",
            "Requirement already satisfied: setuptools in /usr/local/lib/python3.8/dist-packages (from fiona>=1.8->geopandas) (57.4.0)\n",
            "Requirement already satisfied: numpy>=1.17.3 in /usr/local/lib/python3.8/dist-packages (from pandas>=1.0.0->geopandas) (1.21.6)\n",
            "Requirement already satisfied: pytz>=2017.3 in /usr/local/lib/python3.8/dist-packages (from pandas>=1.0.0->geopandas) (2022.6)\n",
            "Requirement already satisfied: python-dateutil>=2.7.3 in /usr/local/lib/python3.8/dist-packages (from pandas>=1.0.0->geopandas) (2.8.2)\n",
            "Requirement already satisfied: pyparsing!=3.0.5,>=2.0.2 in /usr/local/lib/python3.8/dist-packages (from packaging->geopandas) (3.0.9)\n",
            "Installing collected packages: munch, cligj, click-plugins, pyproj, fiona, geopandas\n",
            "Successfully installed click-plugins-1.1.1 cligj-0.7.2 fiona-1.8.22 geopandas-0.12.1 munch-2.5.0 pyproj-3.4.0\n"
          ]
        }
      ],
      "source": [
        "import os\n",
        "# Install java\n",
        "! apt-get install -y openjdk-8-jdk-headless -qq > /dev/null\n",
        "os.environ[\"JAVA_HOME\"] = \"/usr/lib/jvm/java-8-openjdk-amd64\"\n",
        "os.environ[\"PATH\"] = os.environ[\"JAVA_HOME\"] + \"/bin:\" + os.environ[\"PATH\"]\n",
        "#! java -version\n",
        "\n",
        "# Install pyspark\n",
        "#! pip install --ignore-installed pyspark==2.4.5\n",
        "! pip install --upgrade pyspark\n",
        "\n",
        "# Install Spark NLP\n",
        "! pip install --ignore-installed spark-nlp==2.4.5\n",
        "\n",
        "# Install nltk\n",
        "! pip install nltk\n",
        "\n",
        "! pip install pyldavis\n",
        "\n",
        "! pip install -q findspark\n",
        "\n",
        "# Install geopandas\n",
        "!pip install --upgrade geopandas"
      ]
    },
    {
      "cell_type": "code",
      "execution_count": 2,
      "metadata": {
        "colab": {
          "base_uri": "https://localhost:8080/"
        },
        "id": "WDFxOfq8Jow9",
        "outputId": "e3438778-86cf-4e76-95eb-ddd3e0aeb54e"
      },
      "outputs": [
        {
          "output_type": "stream",
          "name": "stdout",
          "text": [
            "Mounted at /content/gdrive\n"
          ]
        }
      ],
      "source": [
        "from google.colab import drive\n",
        "drive.mount('/content/gdrive')"
      ]
    },
    {
      "cell_type": "code",
      "execution_count": 3,
      "metadata": {
        "colab": {
          "base_uri": "https://localhost:8080/"
        },
        "id": "zvWZEmG0JzCO",
        "outputId": "10053ebe-21a4-4f90-bfb2-1b8b771235f8"
      },
      "outputs": [
        {
          "output_type": "stream",
          "name": "stderr",
          "text": [
            "[nltk_data] Downloading package stopwords to /root/nltk_data...\n",
            "[nltk_data]   Unzipping corpora/stopwords.zip.\n",
            "[nltk_data] Downloading package vader_lexicon to /root/nltk_data...\n"
          ]
        }
      ],
      "source": [
        "#import pyspark.sql.functions as F\n",
        "from pyspark.sql.functions import * \n",
        "import sparknlp\n",
        "from pyspark.sql.functions import udf\n",
        "from sparknlp.annotator import Tokenizer\n",
        "from sparknlp.base import DocumentAssembler\n",
        "from sparknlp.annotator import Normalizer\n",
        "from sparknlp.annotator import LemmatizerModel\n",
        "import nltk\n",
        "nltk.download('stopwords')\n",
        "from nltk.corpus import stopwords\n",
        "eng_stopwords = stopwords.words('english')\n",
        "from nltk.corpus import stopwords\n",
        "from sparknlp.annotator import StopWordsCleaner\n",
        "from sparknlp.annotator import NGramGenerator\n",
        "from sparknlp.annotator import PerceptronModel\n",
        "from sparknlp.base import Finisher\n",
        "from pyspark.ml import Pipeline\n",
        "from pyspark.sql import types as T\n",
        "import pandas as pd\n",
        "from nltk.sentiment.vader import SentimentIntensityAnalyzer\n",
        "import nltk\n",
        "nltk.download('vader_lexicon')\n",
        "from pyspark.sql.types import *\n",
        "import re\n",
        "import geopy\n",
        "from geopy.geocoders import Nominatim\n",
        "from pyspark import StorageLevel\n",
        "from pyspark.sql.functions import monotonically_increasing_id as mi\n",
        "\n",
        "import geopandas as gpd\n",
        "import matplotlib.pyplot as plt\n",
        "import pandas as pd\n",
        "import plotly.express as px"
      ]
    },
    {
      "cell_type": "code",
      "execution_count": 4,
      "metadata": {
        "colab": {
          "base_uri": "https://localhost:8080/"
        },
        "id": "kYK4HyoZJ1as",
        "outputId": "c9b4903e-0a53-41d4-bcb8-953ad385e445"
      },
      "outputs": [
        {
          "output_type": "stream",
          "name": "stdout",
          "text": [
            "Archive:  /content/gdrive/Shareddrives/ukraine-russia/ukraine-russia.zip\n",
            "   creating: ukraine-russia/\n",
            "  inflating: ukraine-russia/08.csv   \n",
            "  inflating: __MACOSX/ukraine-russia/._08.csv  \n",
            "  inflating: ukraine-russia/09.csv   \n",
            "  inflating: __MACOSX/ukraine-russia/._09.csv  \n",
            "  inflating: ukraine-russia/02.csv   \n",
            "  inflating: __MACOSX/ukraine-russia/._02.csv  \n",
            "  inflating: ukraine-russia/03.csv   \n",
            "  inflating: __MACOSX/ukraine-russia/._03.csv  \n",
            "  inflating: ukraine-russia/04.csv   \n",
            "  inflating: __MACOSX/ukraine-russia/._04.csv  \n",
            "  inflating: ukraine-russia/10.csv   \n",
            "  inflating: __MACOSX/ukraine-russia/._10.csv  \n",
            "  inflating: ukraine-russia/05.csv   \n",
            "  inflating: __MACOSX/ukraine-russia/._05.csv  \n",
            "  inflating: ukraine-russia/07.csv   \n",
            "  inflating: __MACOSX/ukraine-russia/._07.csv  \n",
            "  inflating: ukraine-russia/06.csv   \n",
            "  inflating: __MACOSX/ukraine-russia/._06.csv  \n"
          ]
        }
      ],
      "source": [
        "!unzip /content/gdrive/Shareddrives/ukraine-russia/ukraine-russia.zip"
      ]
    },
    {
      "cell_type": "code",
      "execution_count": 20,
      "metadata": {
        "id": "kPShD_cXJ3TM"
      },
      "outputs": [],
      "source": [
        "spark = sparknlp.start()\n",
        "df = spark.read.csv(\"./ukraine-russia/02.csv\", header=True,  inferSchema=True)\n",
        "df = df.filter(col(\"language\")==\"en\")\n",
        "#df.persist()\n",
        "#df2.show(10)"
      ]
    },
    {
      "cell_type": "code",
      "source": [
        "df.show(10)"
      ],
      "metadata": {
        "colab": {
          "base_uri": "https://localhost:8080/"
        },
        "id": "ZmRq0K_Fs4l4",
        "outputId": "8ff9ffb9-61e2-464e-b862-1234cfc0195b"
      },
      "execution_count": 21,
      "outputs": [
        {
          "output_type": "stream",
          "name": "stdout",
          "text": [
            "+----------+-------------------+---------------+--------------------+------------------+---------+---------+-----------+--------------------+-------------------+-------------------+------------+--------------------+--------------------+--------+-----------+--------------+--------------------+\n",
            "|Unnamed: 0|             userid|       username|            acctdesc|          location|following|followers|totaltweets|       usercreatedts|            tweetid|     tweetcreatedts|retweetcount|                text|            hashtags|language|coordinates|favorite_count|         extractedts|\n",
            "+----------+-------------------+---------------+--------------------+------------------+---------+---------+-----------+--------------------+-------------------+-------------------+------------+--------------------+--------------------+--------+-----------+--------------+--------------------+\n",
            "|         6|         3318106141|      twilou200|                null|              null|     1439|      218|     148527|2015-08-17 20:21:...|1498318249116663808|2022-02-28 15:24:42|          87|Belarus just reno...|                  []|      en|       null|             0|2022-02-28 15:29:...|\n",
            "|         7| 941702641415000065|   Dave24657469|                null|              null|     1236|       34|       6001|2017-12-15 16:13:...|1498318249657880579|2022-02-28 15:24:42|          83|russian terrorist...|[{'text': 'Kherso...|      en|       null|             0|2022-02-28 15:29:...|\n",
            "|         8|         4055064989|juha_t_harkonen|Idiootti isä. Res...|              null|     1478|      370|      25462|2015-10-27 18:08:...|1498318250249265159|2022-02-28 15:24:42|          27|russian helicopte...|[{'text': 'Kharki...|      en|       null|             0|2022-02-28 15:29:...|\n",
            "|        16|          446509968|      ABCHAMP11|         munich born|              null|       69|      134|     205597|2011-12-25 20:27:...|1498318254439383043|2022-02-28 15:24:43|         618|BREAKING: Inside ...|[{'text': 'Russia...|      en|       null|             0|2022-02-28 15:29:...|\n",
            "|        18|           15696011|           ZanP|https://t.co/GClH...|      Alabama, USA|     4952|     4407|      82255|2008-08-01 23:23:...|1498318255534006272|2022-02-28 15:24:44|         689|#China is financi...|[{'text': 'China'...|      en|       null|             0|2022-02-28 15:29:...|\n",
            "|        23|1497322424882417670|UkraineLIVEINF1|100% independent ...|              null|        0|      235|        184|2022-02-25 21:27:...|1498318258369445891|2022-02-28 15:24:44|           0|#Macron had a tel...|[{'text': 'Macron...|      en|       null|             0|2022-02-28 15:29:...|\n",
            "|        25|          567591542|     DocJaniceL|Looking for the b...|The Heartland, USA|     3764|     1486|     381856|2012-04-30 21:59:...|1498318258977611781|2022-02-28 15:24:45|          78|GENEVA (AP) — #Sw...|[{'text': 'Switze...|      en|       null|             0|2022-02-28 15:29:...|\n",
            "|        27|         3507050654|margie_hathaway|Outraged Seattle ...|              null|     3225|     2033|      48366|2015-09-09 18:39:...|1498318260021825536|2022-02-28 15:24:45|           3|Because somebody ...|[{'text': 'Putin'...|      en|       null|             0|2022-02-28 15:29:...|\n",
            "|        29|1497279529555013633|   nkhomyshenko|Proud Ukranian Ci...|     Kyiv, Ukraine|      127|        7|        390|2022-02-25 18:37:...|1498318261792002050|2022-02-28 15:24:45|          21|🇺🇦🇧🇾 At the v...|                  []|      en|       null|             0|2022-02-28 15:29:...|\n",
            "|        30|           34703607|    richardzhao|trying to figure ...|   Minneapolis, MN|     1399|     1059|       8160|2009-04-23 19:28:...|1498318262261760000|2022-02-28 15:24:45|           0|The #UkraineInvas...|[{'text': 'Ukrain...|      en|       null|             1|2022-02-28 15:29:...|\n",
            "+----------+-------------------+---------------+--------------------+------------------+---------+---------+-----------+--------------------+-------------------+-------------------+------------+--------------------+--------------------+--------+-----------+--------------+--------------------+\n",
            "only showing top 10 rows\n",
            "\n"
          ]
        }
      ]
    },
    {
      "cell_type": "code",
      "execution_count": 51,
      "metadata": {
        "id": "Arnyi83NJ5bg"
      },
      "outputs": [],
      "source": [
        "def preprocess_data(df):\n",
        "  df = df.filter(df.text.isNotNull())\n",
        "  #tweet_col = ('location','text')\n",
        "  review_text = df.select(\"location\",\"text\").filter(col(\"location\").isNotNull())\n",
        "  clean = review_text.withColumn('text', regexp_replace('text', r\"http\\S+\", ''))\n",
        "  clean = clean.withColumn('text', regexp_replace('text', r\"\\w+followback\\w+\", ''))\n",
        "  clean = clean.withColumn('text', regexp_replace('text', '#', ''))\n",
        "  clean = clean.withColumn('text', regexp_replace('text', 'RT', ''))\n",
        "  clean_text = clean.withColumn('text', regexp_replace('text', ':', ''))\n",
        "  return clean_text\n",
        "\n",
        "def getCountryName(tweetText):\n",
        "  geolocator = Nominatim(timeout=10, user_agent = \"geoapiExercises\")\n",
        "  location = geolocator.geocode(tweetText, language='en')    \n",
        "  location = str(location)\n",
        "  if location != \"None\":\n",
        "    location = str(location).split(\", \")\n",
        "        #location = str(location)\n",
        "    location = location[len(location)-1]\n",
        "  else:\n",
        "    location = \"Null\"\n",
        "  \n",
        "  return location\n",
        "\n",
        "def getSentimentScore(tweetText):\n",
        "  analyzer = SentimentIntensityAnalyzer()\n",
        "  vs = analyzer.polarity_scores(tweetText)\n",
        "  neg = vs['neg']\n",
        "  neu = vs['neu']\n",
        "  pos = vs['pos']\n",
        "  comp = vs['compound']\n",
        "     \n",
        "  if neg > pos:\n",
        "    strg = \"Negative\"\n",
        "        #return neg, vs['neg']\n",
        "  elif pos > neg:\n",
        "    strg = \"Positive\"\n",
        "        #return 2, vs['neu']\n",
        "  else:\n",
        "    strg = \"Neutral\"\n",
        "        #return  vs['compound']\n",
        " \n",
        "  return strg\n",
        "\n",
        "def getNegSentiment(text):\n",
        "  analyzer = SentimentIntensityAnalyzer()\n",
        "  score = analyzer.polarity_scores(text)\n",
        "  return score['neg']\n",
        "\n",
        "def getPosSentiment(text):\n",
        "  analyzer = SentimentIntensityAnalyzer()\n",
        "  score = analyzer.polarity_scores(text)\n",
        "  return score['pos']\n",
        "\n",
        "def getNeuSentiment(text):\n",
        "  analyzer = SentimentIntensityAnalyzer()\n",
        "  score = analyzer.polarity_scores(text)\n",
        "  return score['neu']"
      ]
    },
    {
      "cell_type": "code",
      "execution_count": 23,
      "metadata": {
        "id": "cfdrf11pJ7qB",
        "colab": {
          "base_uri": "https://localhost:8080/"
        },
        "outputId": "490aff6e-b27d-4b23-d09e-5fc0963e1949"
      },
      "outputs": [
        {
          "output_type": "stream",
          "name": "stdout",
          "text": [
            "44584\n",
            "+------------------+-------------------------------------------------------------------------------------------------------------------------------------------------------------------------------------------------------------------------------------------------------+\n",
            "|location          |text                                                                                                                                                                                                                                                   |\n",
            "+------------------+-------------------------------------------------------------------------------------------------------------------------------------------------------------------------------------------------------------------------------------------------------+\n",
            "|Alabama, USA      |China is financing Russia’s aggression in Ukraine. Sanction China.                                                                                                                                                                                     |\n",
            "|The Heartland, USA|GENEVA (AP) — Switzerland's president says country will join EU sanctions, including asset freezes, targeting Russia.                                                                                                                                  |\n",
            "|Kyiv, Ukraine     |🇺🇦🇧🇾 At the village of Dobryanka, Ukrainians at the border tell the Belarusians they won't be let through before singing their national anthem. Russia Ukraine UkraineUnderAttaсk UkraineRussiaWar Europe EU NATO US [5]                           |\n",
            "|Minneapolis, MN   |The UkraineInvasion showed engagement policy that led by angelamerkel administration is not working, after all these years. russia is not a reliable trading partner now.                                                                              |\n",
            "|Nonce             |Russia and Ukraine are fighting to decide who will collect your tax money. Wake up!                                                                                                                                                                    |\n",
            "|United Kingdom    |❗️Switzerland will apply against Russia all the sanctions the EU has imposed.                                                                                                                                                                          |\n",
            "|Katzenellenbogen  |Out of desperation that ‘Barbarossa’ plan has failed, Russia, instead of stopping, is sinking even deeper. Using prohibited cluster bombs in public areas of Kharkiv and killing civilians clearly means war crimes and unavoidably will be prosecuted.|\n",
            "|Koper, Slovenia   |🚨🚨🇮🇱Urgent Israel considering to join the international community on sanctions against Russia over crimes against humanity in Ukraine.                                                                                                             |\n",
            "|Kentucky          |r/Murderedbywords. Ruble Russia SlavaUkraini                                                                                                                                                                                                           |\n",
            "|Illinois, USA     |@shivansh_880 @RusEmbIndia @KremlinRussia_E @mfa_russia He's no man.. he's a bully.. invading a country that did nothing wrong. Putin is killing innocent people..many are children PutinWarCriminal ISupportUkraine                                   |\n",
            "+------------------+-------------------------------------------------------------------------------------------------------------------------------------------------------------------------------------------------------------------------------------------------------+\n",
            "only showing top 10 rows\n",
            "\n"
          ]
        }
      ],
      "source": [
        "processed_tweets = preprocess_data(df)\n",
        "print(processed_tweets.count())\n",
        "processed_tweets.show(10,False)"
      ]
    },
    {
      "cell_type": "code",
      "execution_count": 52,
      "metadata": {
        "id": "_0Lsyx24MWop",
        "colab": {
          "base_uri": "https://localhost:8080/"
        },
        "outputId": "943536d4-cb8a-44f6-8388-84a7c92438f8"
      },
      "outputs": [
        {
          "output_type": "stream",
          "name": "stdout",
          "text": [
            "+--------------+--------------------+\n",
            "|       Country|                text|\n",
            "+--------------+--------------------+\n",
            "| United States|China is financin...|\n",
            "| United States|GENEVA (AP) — Swi...|\n",
            "|       Ukraine|🇺🇦🇧🇾 At the v...|\n",
            "| United States|The UkraineInvasi...|\n",
            "|       Namibia|Russia and Ukrain...|\n",
            "|United Kingdom|❗️Switzerland wil...|\n",
            "|        France|Out of desperatio...|\n",
            "|      Slovenia|🚨🚨🇮🇱Urgent Is...|\n",
            "| United States|r/Murderedbywords...|\n",
            "| United States|@shivansh_880 @Ru...|\n",
            "|United Kingdom|⚡️Moscow Exchange...|\n",
            "|        Brazil|Schastia in E Ukr...|\n",
            "|United Kingdom|Schastia in E Ukr...|\n",
            "|        Canada|It’s day 5 of Rus...|\n",
            "|       Germany|🇺🇦🇧🇾 At the v...|\n",
            "|         India|Leaders of nation...|\n",
            "| United States|Martin must have ...|\n",
            "| United States|AFP The United_St...|\n",
            "|United Kingdom|... those gippo's...|\n",
            "|       Germany|\"The GOP party wi...|\n",
            "+--------------+--------------------+\n",
            "only showing top 20 rows\n",
            "\n"
          ]
        }
      ],
      "source": [
        "#new = colLoc[0:3]\n",
        "processed_tweetslim = processed_tweets.limit(10000).cache()\n",
        "df1=open('./text file2','w')\n",
        "processed_tweetslim2 = processed_tweetslim.select(processed_tweetslim[\"location\"])\n",
        "\n",
        "#convert DF to RDD\n",
        "rDD_Tweet = processed_tweetslim2.rdd.map(list).persist()\n",
        "locationrDD = rDD_Tweet.map(lambda x: getCountryName(x))\n",
        "locationrDD.take(10)\n",
        "\n",
        "#convert RDD back to DF\n",
        "locDF = spark.createDataFrame(locationrDD, StringType())\n",
        "\n",
        "#Join with original DF\n",
        "id = mi()\n",
        "locDF = locDF.withColumn(\"id1\",id)\n",
        "processed_tweetslim = processed_tweetslim.withColumn(\"id2\",id)\n",
        "joinnDF = locDF.join(processed_tweetslim,col(\"id1\")==col(\"id2\"),\"inner\").drop(\"id1\",\"id2\",\"location\")\n",
        "joinnDF = joinnDF.withColumnRenamed(\"value\", \"Country\").filter(col(\"Country\") != \"Null\").cache()\n",
        "joinnDF.show(20)"
      ]
    },
    {
      "cell_type": "code",
      "source": [
        "joinnDF.count()"
      ],
      "metadata": {
        "colab": {
          "base_uri": "https://localhost:8080/"
        },
        "id": "lVjmikSWyAMT",
        "outputId": "d5ae35f4-daaf-4fac-98d6-174747e0968a"
      },
      "execution_count": 53,
      "outputs": [
        {
          "output_type": "execute_result",
          "data": {
            "text/plain": [
              "8569"
            ]
          },
          "metadata": {},
          "execution_count": 53
        }
      ]
    },
    {
      "cell_type": "code",
      "source": [
        "joinnDF.write.options(header='True', delimiter=',').csv(\"./geoLocations.csv\")\n",
        "df5.count()"
      ],
      "metadata": {
        "id": "jFuq4H-LAEio"
      },
      "execution_count": null,
      "outputs": []
    },
    {
      "cell_type": "code",
      "source": [
        "udfNegSentimentScore = udf(getNegSentiment, FloatType())\n",
        "udfPosSentimentScore = udf(getPosSentiment, FloatType())\n",
        "udfNeuSentimentScore = udf(getNeuSentiment, FloatType())\n",
        "udfSentimentScore = udf(getSentimentScore, StringType())\n",
        "\n",
        "df3 = joinnDF.withColumn(\"posSentiment\", udfPosSentimentScore(\"text\"))\\\n",
        ".withColumn(\"negSentiment\", udfNegSentimentScore(\"text\"))\\\n",
        ".withColumn(\"neuSentiment\", udfNeuSentimentScore(\"text\"))\\\n",
        ".withColumn('Sentiment', udfSentimentScore('text')).cache()\n",
        "\n",
        "df3.show(30)"
      ],
      "metadata": {
        "colab": {
          "base_uri": "https://localhost:8080/"
        },
        "id": "NN88CWvr-3xE",
        "outputId": "1fb4dbda-ff30-47f2-93e2-96f80fd0a2a6"
      },
      "execution_count": 57,
      "outputs": [
        {
          "output_type": "stream",
          "name": "stdout",
          "text": [
            "+--------------+--------------------+------------+------------+------------+---------+\n",
            "|       Country|                text|posSentiment|negSentiment|neuSentiment|Sentiment|\n",
            "+--------------+--------------------+------------+------------+------------+---------+\n",
            "| United States|China is financin...|         0.0|       0.216|       0.784| Negative|\n",
            "| United States|GENEVA (AP) — Swi...|       0.264|       0.062|       0.674| Positive|\n",
            "|       Ukraine|🇺🇦🇧🇾 At the v...|         0.0|         0.0|         1.0|  Neutral|\n",
            "| United States|The UkraineInvasi...|       0.115|         0.0|       0.885| Positive|\n",
            "|       Namibia|Russia and Ukrain...|         0.0|       0.166|       0.834| Negative|\n",
            "|United Kingdom|❗️Switzerland wil...|         0.0|       0.106|       0.894| Negative|\n",
            "|        France|Out of desperatio...|       0.052|       0.365|       0.583| Negative|\n",
            "|      Slovenia|🚨🚨🇮🇱Urgent Is...|       0.115|         0.0|       0.885| Positive|\n",
            "| United States|r/Murderedbywords...|         0.0|         0.0|         1.0|  Neutral|\n",
            "| United States|@shivansh_880 @Ru...|       0.157|       0.209|       0.634| Negative|\n",
            "|United Kingdom|⚡️Moscow Exchange...|         0.0|         0.0|         1.0|  Neutral|\n",
            "|        Brazil|Schastia in E Ukr...|         0.0|       0.153|       0.847| Negative|\n",
            "|United Kingdom|Schastia in E Ukr...|         0.0|       0.153|       0.847| Negative|\n",
            "|        Canada|It’s day 5 of Rus...|         0.0|       0.163|       0.837| Negative|\n",
            "|       Germany|🇺🇦🇧🇾 At the v...|         0.0|         0.0|         1.0|  Neutral|\n",
            "|         India|Leaders of nation...|       0.112|       0.231|       0.657| Negative|\n",
            "| United States|Martin must have ...|        0.04|       0.156|       0.804| Negative|\n",
            "| United States|AFP The United_St...|       0.087|        0.18|       0.732| Negative|\n",
            "|United Kingdom|... those gippo's...|         0.0|         0.0|         1.0|  Neutral|\n",
            "|       Germany|\"The GOP party wi...|       0.109|         0.0|       0.891| Positive|\n",
            "|        Canada|BREAKING Inside i...|         0.0|         0.0|         1.0|  Neutral|\n",
            "| United States|Has Hunter Biden ...|       0.145|       0.069|       0.785| Positive|\n",
            "|        Sweden|Experience of rus...|       0.121|       0.133|       0.745| Negative|\n",
            "|      Slovakia|\"Our newest Cauca...|         0.0|       0.082|       0.918| Negative|\n",
            "|  Saudi Arabia|LIVE UN chief @an...|         0.0|       0.193|       0.807| Negative|\n",
            "|         Japan|BREAKING NEWS CON...|       0.046|       0.122|       0.833| Negative|\n",
            "|       Germany|⚡️Moscow Exchange...|         0.0|         0.0|         1.0|  Neutral|\n",
            "|        Poland|⚡️Moscow Exchange...|         0.0|         0.0|         1.0|  Neutral|\n",
            "| United States|@jonkarl And then...|       0.207|         0.0|       0.793| Positive|\n",
            "|     Lithuania|We strongly conde...|       0.152|       0.167|       0.681| Negative|\n",
            "+--------------+--------------------+------------+------------+------------+---------+\n",
            "only showing top 30 rows\n",
            "\n"
          ]
        }
      ]
    },
    {
      "cell_type": "code",
      "source": [
        "df3NEG = df3.select(\"Country\",\"negSentiment\",\"Sentiment\").filter(col(\"Sentiment\") == \"Negative\")\n",
        "df3POS = df3.select(\"Country\",\"posSentiment\",\"Sentiment\").filter(col(\"Sentiment\") == \"Positive\")\n",
        "df3NEU = df3.select(\"Country\",\"neuSentiment\",\"Sentiment\").filter(col(\"Sentiment\") == \"Neutral\")\n",
        "df3POS.show(50)"
      ],
      "metadata": {
        "colab": {
          "base_uri": "https://localhost:8080/"
        },
        "id": "uahvc3zvVCIJ",
        "outputId": "fce185f1-57ae-48c8-d4a6-616caef69c41"
      },
      "execution_count": 58,
      "outputs": [
        {
          "output_type": "stream",
          "name": "stdout",
          "text": [
            "+--------------+------------+---------+\n",
            "|       Country|posSentiment|Sentiment|\n",
            "+--------------+------------+---------+\n",
            "| United States|       0.264| Positive|\n",
            "| United States|       0.115| Positive|\n",
            "|      Slovenia|       0.115| Positive|\n",
            "|       Germany|       0.109| Positive|\n",
            "| United States|       0.145| Positive|\n",
            "| United States|       0.207| Positive|\n",
            "|        Canada|       0.185| Positive|\n",
            "| United States|       0.195| Positive|\n",
            "| United States|       0.067| Positive|\n",
            "|        Canada|       0.157| Positive|\n",
            "|        Canada|       0.194| Positive|\n",
            "|         India|       0.319| Positive|\n",
            "| United States|        0.29| Positive|\n",
            "|United Kingdom|       0.048| Positive|\n",
            "|       Austria|       0.158| Positive|\n",
            "| United States|       0.205| Positive|\n",
            "|         India|       0.158| Positive|\n",
            "| United States|        0.21| Positive|\n",
            "|United Kingdom|       0.225| Positive|\n",
            "| United States|       0.067| Positive|\n",
            "|      Pakistan|       0.087| Positive|\n",
            "|       Austria|       0.158| Positive|\n",
            "|        Canada|       0.205| Positive|\n",
            "| United States|       0.212| Positive|\n",
            "| United States|       0.087| Positive|\n",
            "| United States|       0.068| Positive|\n",
            "|        Russia|       0.057| Positive|\n",
            "|United Kingdom|       0.171| Positive|\n",
            "|United Kingdom|       0.094| Positive|\n",
            "|         China|       0.118| Positive|\n",
            "| United States|       0.264| Positive|\n",
            "|        Canada|       0.171| Positive|\n",
            "|        Israel|       0.106| Positive|\n",
            "| United States|       0.062| Positive|\n",
            "|        Canada|        0.21| Positive|\n",
            "|United Kingdom|       0.125| Positive|\n",
            "| United States|       0.091| Positive|\n",
            "|         India|       0.154| Positive|\n",
            "|         Spain|       0.128| Positive|\n",
            "|United Kingdom|       0.144| Positive|\n",
            "| United States|       0.425| Positive|\n",
            "|        Sweden|       0.104| Positive|\n",
            "|        Canada|       0.144| Positive|\n",
            "|        Taiwan|       0.115| Positive|\n",
            "|United Kingdom|       0.375| Positive|\n",
            "|   Netherlands|       0.128| Positive|\n",
            "|  South Africa|       0.319| Positive|\n",
            "|        Sweden|       0.135| Positive|\n",
            "|United Kingdom|       0.192| Positive|\n",
            "| United States|        0.21| Positive|\n",
            "+--------------+------------+---------+\n",
            "only showing top 50 rows\n",
            "\n"
          ]
        }
      ]
    },
    {
      "cell_type": "code",
      "source": [
        "xdf3NEG = df3NEG.groupBy(\"Country\",\"Sentiment\").mean(\"negSentiment\")\n",
        "xdf3NEG.sort(desc(\"avg(negSentiment)\")).persist().show(100)\n",
        "#xdf3NEG.show(100)"
      ],
      "metadata": {
        "colab": {
          "base_uri": "https://localhost:8080/"
        },
        "id": "WYfrBdn2XtPp",
        "outputId": "d941020e-7186-41f7-9d2a-cdac380baf4d"
      },
      "execution_count": 59,
      "outputs": [
        {
          "output_type": "stream",
          "name": "stdout",
          "text": [
            "+--------------------+---------+-------------------+\n",
            "|             Country|Sentiment|  avg(negSentiment)|\n",
            "+--------------------+---------+-------------------+\n",
            "|              Zambia| Negative| 0.6700000166893005|\n",
            "|        Burkina Faso| Negative|0.37050001323223114|\n",
            "|                Chad| Negative| 0.3490000069141388|\n",
            "|             Algeria| Negative|0.34200000762939453|\n",
            "|             Iceland| Negative|  0.335999995470047|\n",
            "|               Syria| Negative|0.32600000500679016|\n",
            "|            Eswatini| Negative| 0.3240000009536743|\n",
            "|        Sierra Leone| Negative| 0.3149999976158142|\n",
            "|              Warsaw| Negative|             0.3125|\n",
            "|             Moldova| Negative| 0.3114999905228615|\n",
            "|              Cyprus| Negative| 0.2884000062942505|\n",
            "|Bosnia and Herzeg...| Negative| 0.2857499923557043|\n",
            "|              Taiwan| Negative|0.27919999659061434|\n",
            "|                Oman| Negative| 0.2760000005364418|\n",
            "|             Tunisia| Negative|0.27000001072883606|\n",
            "|               Libya| Negative| 0.2680000066757202|\n",
            "|             Uruguay| Negative|0.26600000262260437|\n",
            "|            Mongolia| Negative|0.26600000262260437|\n",
            "|             Croatia| Negative| 0.2639999985694885|\n",
            "|          Kyrgyzstan| Negative| 0.2619999945163727|\n",
            "|     North Macedonia| Negative| 0.2574999928474426|\n",
            "|               Chile| Negative| 0.2544285697596414|\n",
            "|            Colombia| Negative|0.24877778026792738|\n",
            "|           Lithuania| Negative|0.24609999880194663|\n",
            "|            Maldives| Negative|0.24499999980131784|\n",
            "|              Poland| Negative|0.24347787574592944|\n",
            "|              Russia| Negative|0.24299999978393316|\n",
            "|              Africa| Negative|0.24214285718543188|\n",
            "|         Afghanistan| Negative| 0.2420000061392784|\n",
            "|             Nigeria| Negative| 0.2413225820468318|\n",
            "|             Romania| Negative|0.24099999964237212|\n",
            "|             Hungary| Negative|0.23660869378110636|\n",
            "|             Ecuador| Negative| 0.2357499971985817|\n",
            "|        Saudi Arabia| Negative|0.23500000259705953|\n",
            "|             Czechia| Negative| 0.2338823527097702|\n",
            "|            Bulgaria| Negative| 0.2327500032261014|\n",
            "|             Finland| Negative|0.23244444794125027|\n",
            "|             Ukraine| Negative| 0.2311219498515129|\n",
            "|             Oceania| Negative|0.23100000619888306|\n",
            "|          Luxembourg| Negative|0.23000000417232513|\n",
            "|             Estonia| Negative|0.22869230749515387|\n",
            "|             Jamaica| Negative| 0.2280000001192093|\n",
            "|               China| Negative| 0.2265238112636975|\n",
            "|            Portugal| Negative|0.22643478247134582|\n",
            "|            Zimbabwe| Negative|0.22599999979138374|\n",
            "|          The Gambia| Negative|0.22599999606609344|\n",
            "|              Sweden| Negative|0.22542857192456722|\n",
            "|         South Korea| Negative| 0.2245714259999139|\n",
            "|             Germany| Negative|0.22442857229283877|\n",
            "|            Malaysia| Negative| 0.2225000038743019|\n",
            "|               India| Negative|0.22200000138339385|\n",
            "|              Latvia| Negative|0.22100000083446503|\n",
            "|            Slovenia| Negative|0.22099999835093817|\n",
            "|               Qatar| Negative| 0.2206666717926661|\n",
            "|               Japan| Negative|0.21947222265104452|\n",
            "|              Brazil| Negative| 0.2145909106528217|\n",
            "|           Indonesia| Negative|0.21376470388735042|\n",
            "|               Nepal| Negative|0.21249999850988388|\n",
            "|               Kenya| Negative|0.21086667055884997|\n",
            "|              France| Negative|0.21035365942047862|\n",
            "|              Israel| Negative|0.20963636582547968|\n",
            "|       United States| Negative| 0.2065091381016454|\n",
            "|              Canada| Negative|0.20553846215494934|\n",
            "|               Spain| Negative|0.20529787258264867|\n",
            "|            Pakistan| Negative|0.20526470594546375|\n",
            "|              Norway| Negative|0.20492307784465644|\n",
            "|Palestinian Terri...| Negative|0.20399999618530273|\n",
            "|              Belize| Negative|0.20399999618530273|\n",
            "|             Austria| Negative|0.20387499872595072|\n",
            "|         Netherlands| Negative|0.20232758549009933|\n",
            "|               Italy| Negative|0.20080000006339765|\n",
            "|             Lebanon| Negative|0.20024999603629112|\n",
            "|              Jordan| Negative|0.19999999552965164|\n",
            "|              Turkey| Negative|0.19840000066906213|\n",
            "|            Ethiopia| Negative|0.19800000190734862|\n",
            "|              Europe| Negative|0.19799999999148504|\n",
            "|      United Kingdom| Negative| 0.1972713184348026|\n",
            "|         Switzerland| Negative|0.19652631643571353|\n",
            "|United Arab Emirates| Negative| 0.1959999998410543|\n",
            "|              Kosovo| Negative| 0.1946666638056437|\n",
            "|         New Zealand| Negative|0.19230000153183938|\n",
            "|             Ireland| Negative| 0.1916896551847458|\n",
            "|              Mexico| Negative|0.19076470460961847|\n",
            "|               Haiti| Negative|0.18833333005507788|\n",
            "|             Myanmar| Negative|0.18566666295131048|\n",
            "|          Antarctica| Negative|0.18450000137090683|\n",
            "|              Greece| Negative| 0.1831818175586787|\n",
            "|           Venezuela| Negative|0.18310526464330523|\n",
            "|            Tanzania| Negative| 0.1830000001937151|\n",
            "|              Rwanda| Negative|0.18299999833106995|\n",
            "|        South Africa| Negative|0.18203703700392335|\n",
            "|            Paraguay| Negative|  0.181750001385808|\n",
            "|           Australia| Negative|0.18174074314258717|\n",
            "|             Morocco| Negative| 0.1810000017285347|\n",
            "|            Guernsey| Negative| 0.1809999942779541|\n",
            "|             Belgium| Negative|0.17981818250634454|\n",
            "|          Azerbaijan| Negative|0.17949999868869781|\n",
            "|                Cuba| Negative|0.17900000512599945|\n",
            "|           Argentina| Negative|0.17900000054102677|\n",
            "|             Belarus| Negative|0.17799999192357063|\n",
            "+--------------------+---------+-------------------+\n",
            "only showing top 100 rows\n",
            "\n"
          ]
        }
      ]
    },
    {
      "cell_type": "code",
      "source": [
        "xdf3POS = df3POS.groupBy(\"Country\",\"Sentiment\").mean(\"posSentiment\")\n",
        "xdf3POS.sort(desc(\"avg(posSentiment)\")).persist().show(20)"
      ],
      "metadata": {
        "colab": {
          "base_uri": "https://localhost:8080/"
        },
        "id": "sDrDRoCla0Cd",
        "outputId": "35e0b627-e541-469c-b478-e392211e9b47"
      },
      "execution_count": 60,
      "outputs": [
        {
          "output_type": "stream",
          "name": "stdout",
          "text": [
            "+--------------------+---------+-------------------+\n",
            "|             Country|Sentiment|  avg(posSentiment)|\n",
            "+--------------------+---------+-------------------+\n",
            "|          Azerbaijan| Positive| 0.6039999723434448|\n",
            "|               Syria| Positive| 0.5889999866485596|\n",
            "|               Ghana| Positive|0.42499999701976776|\n",
            "|            Paraguay| Positive|0.37700000405311584|\n",
            "|       North America| Positive| 0.3400000035762787|\n",
            "|          Mauritania| Positive|  0.335999995470047|\n",
            "|              Zambia| Positive| 0.3199999928474426|\n",
            "|              Cyprus| Positive| 0.3043333366513252|\n",
            "|            Zimbabwe| Positive|0.28060000091791154|\n",
            "|              Rwanda| Positive|0.27300000190734863|\n",
            "|        Vatican City| Positive|0.26899999380111694|\n",
            "|          Luxembourg| Positive|0.26899999380111694|\n",
            "|                Laos| Positive|0.26750000193715096|\n",
            "|United Arab Emirates| Positive| 0.2667500041425228|\n",
            "|         El Salvador| Positive|0.26600000262260437|\n",
            "|               Egypt| Positive|0.26266666998465854|\n",
            "|              Uganda| Positive| 0.2590000033378601|\n",
            "|         Philippines| Positive|0.24200000117222467|\n",
            "|                Iran| Positive| 0.2392857096024922|\n",
            "|              Guyana| Positive| 0.2370000034570694|\n",
            "+--------------------+---------+-------------------+\n",
            "only showing top 20 rows\n",
            "\n"
          ]
        }
      ]
    },
    {
      "cell_type": "code",
      "source": [
        "xdf3NEU = df3NEU.groupBy(\"Country\",\"Sentiment\").mean(\"neuSentiment\")\n",
        "xdf3NEU.show(20)"
      ],
      "metadata": {
        "colab": {
          "base_uri": "https://localhost:8080/"
        },
        "id": "-17eBtQobDV3",
        "outputId": "5545ae7e-d63c-46bb-9a09-36ea7103ec7a"
      },
      "execution_count": 61,
      "outputs": [
        {
          "output_type": "stream",
          "name": "stdout",
          "text": [
            "+--------------------+---------+------------------+\n",
            "|             Country|Sentiment| avg(neuSentiment)|\n",
            "+--------------------+---------+------------------+\n",
            "|              Monaco|  Neutral|               1.0|\n",
            "|             Denmark|  Neutral|               1.0|\n",
            "|            Djibouti|  Neutral|               1.0|\n",
            "|United Arab Emirates|  Neutral|               1.0|\n",
            "|             Ukraine|  Neutral|               1.0|\n",
            "|         South Korea|  Neutral|               1.0|\n",
            "|               Ghana|  Neutral|               1.0|\n",
            "|              Canada|  Neutral|0.9945416667809089|\n",
            "|             Finland|  Neutral|               1.0|\n",
            "|        Saudi Arabia|  Neutral|               1.0|\n",
            "|          Bangladesh|  Neutral|               1.0|\n",
            "|             Belgium|  Neutral|               1.0|\n",
            "|              Warsaw|  Neutral|               1.0|\n",
            "|           Indonesia|  Neutral|               1.0|\n",
            "|               Spain|  Neutral|0.9967000007629394|\n",
            "|               Japan|  Neutral|0.9961538463830948|\n",
            "|         El Salvador|  Neutral|               1.0|\n",
            "|           Sri Lanka|  Neutral|               1.0|\n",
            "|            Paraguay|  Neutral|               1.0|\n",
            "|             Germany|  Neutral|0.9931621624005808|\n",
            "+--------------------+---------+------------------+\n",
            "only showing top 20 rows\n",
            "\n"
          ]
        }
      ]
    },
    {
      "cell_type": "code",
      "source": [
        "pandas_dfNEG = xdf3NEG.toPandas()\n",
        "pandas_dfPOS = xdf3POS.toPandas()\n",
        "pandas_dfNEU = xdf3NEU.toPandas()\n",
        "pandas_dfPOS"
      ],
      "metadata": {
        "colab": {
          "base_uri": "https://localhost:8080/",
          "height": 424
        },
        "id": "mE8MakHq_rZX",
        "outputId": "1948c1d9-f2d0-442f-bb8b-e70d9ea0fe86"
      },
      "execution_count": 62,
      "outputs": [
        {
          "output_type": "execute_result",
          "data": {
            "text/plain": [
              "         Country Sentiment  avg(posSentiment)\n",
              "0        Liberia  Positive           0.121000\n",
              "1       Tanzania  Positive           0.125000\n",
              "2    South Korea  Positive           0.150000\n",
              "3        Algeria  Positive           0.191000\n",
              "4         Zambia  Positive           0.320000\n",
              "..           ...       ...                ...\n",
              "120       Norway  Positive           0.157909\n",
              "121  Switzerland  Positive           0.195882\n",
              "122      Uruguay  Positive           0.145000\n",
              "123         Iran  Positive           0.239286\n",
              "124      Belarus  Positive           0.101500\n",
              "\n",
              "[125 rows x 3 columns]"
            ],
            "text/html": [
              "\n",
              "  <div id=\"df-de03b8ef-a3ab-4a6c-bddf-df668259ae1e\">\n",
              "    <div class=\"colab-df-container\">\n",
              "      <div>\n",
              "<style scoped>\n",
              "    .dataframe tbody tr th:only-of-type {\n",
              "        vertical-align: middle;\n",
              "    }\n",
              "\n",
              "    .dataframe tbody tr th {\n",
              "        vertical-align: top;\n",
              "    }\n",
              "\n",
              "    .dataframe thead th {\n",
              "        text-align: right;\n",
              "    }\n",
              "</style>\n",
              "<table border=\"1\" class=\"dataframe\">\n",
              "  <thead>\n",
              "    <tr style=\"text-align: right;\">\n",
              "      <th></th>\n",
              "      <th>Country</th>\n",
              "      <th>Sentiment</th>\n",
              "      <th>avg(posSentiment)</th>\n",
              "    </tr>\n",
              "  </thead>\n",
              "  <tbody>\n",
              "    <tr>\n",
              "      <th>0</th>\n",
              "      <td>Liberia</td>\n",
              "      <td>Positive</td>\n",
              "      <td>0.121000</td>\n",
              "    </tr>\n",
              "    <tr>\n",
              "      <th>1</th>\n",
              "      <td>Tanzania</td>\n",
              "      <td>Positive</td>\n",
              "      <td>0.125000</td>\n",
              "    </tr>\n",
              "    <tr>\n",
              "      <th>2</th>\n",
              "      <td>South Korea</td>\n",
              "      <td>Positive</td>\n",
              "      <td>0.150000</td>\n",
              "    </tr>\n",
              "    <tr>\n",
              "      <th>3</th>\n",
              "      <td>Algeria</td>\n",
              "      <td>Positive</td>\n",
              "      <td>0.191000</td>\n",
              "    </tr>\n",
              "    <tr>\n",
              "      <th>4</th>\n",
              "      <td>Zambia</td>\n",
              "      <td>Positive</td>\n",
              "      <td>0.320000</td>\n",
              "    </tr>\n",
              "    <tr>\n",
              "      <th>...</th>\n",
              "      <td>...</td>\n",
              "      <td>...</td>\n",
              "      <td>...</td>\n",
              "    </tr>\n",
              "    <tr>\n",
              "      <th>120</th>\n",
              "      <td>Norway</td>\n",
              "      <td>Positive</td>\n",
              "      <td>0.157909</td>\n",
              "    </tr>\n",
              "    <tr>\n",
              "      <th>121</th>\n",
              "      <td>Switzerland</td>\n",
              "      <td>Positive</td>\n",
              "      <td>0.195882</td>\n",
              "    </tr>\n",
              "    <tr>\n",
              "      <th>122</th>\n",
              "      <td>Uruguay</td>\n",
              "      <td>Positive</td>\n",
              "      <td>0.145000</td>\n",
              "    </tr>\n",
              "    <tr>\n",
              "      <th>123</th>\n",
              "      <td>Iran</td>\n",
              "      <td>Positive</td>\n",
              "      <td>0.239286</td>\n",
              "    </tr>\n",
              "    <tr>\n",
              "      <th>124</th>\n",
              "      <td>Belarus</td>\n",
              "      <td>Positive</td>\n",
              "      <td>0.101500</td>\n",
              "    </tr>\n",
              "  </tbody>\n",
              "</table>\n",
              "<p>125 rows × 3 columns</p>\n",
              "</div>\n",
              "      <button class=\"colab-df-convert\" onclick=\"convertToInteractive('df-de03b8ef-a3ab-4a6c-bddf-df668259ae1e')\"\n",
              "              title=\"Convert this dataframe to an interactive table.\"\n",
              "              style=\"display:none;\">\n",
              "        \n",
              "  <svg xmlns=\"http://www.w3.org/2000/svg\" height=\"24px\"viewBox=\"0 0 24 24\"\n",
              "       width=\"24px\">\n",
              "    <path d=\"M0 0h24v24H0V0z\" fill=\"none\"/>\n",
              "    <path d=\"M18.56 5.44l.94 2.06.94-2.06 2.06-.94-2.06-.94-.94-2.06-.94 2.06-2.06.94zm-11 1L8.5 8.5l.94-2.06 2.06-.94-2.06-.94L8.5 2.5l-.94 2.06-2.06.94zm10 10l.94 2.06.94-2.06 2.06-.94-2.06-.94-.94-2.06-.94 2.06-2.06.94z\"/><path d=\"M17.41 7.96l-1.37-1.37c-.4-.4-.92-.59-1.43-.59-.52 0-1.04.2-1.43.59L10.3 9.45l-7.72 7.72c-.78.78-.78 2.05 0 2.83L4 21.41c.39.39.9.59 1.41.59.51 0 1.02-.2 1.41-.59l7.78-7.78 2.81-2.81c.8-.78.8-2.07 0-2.86zM5.41 20L4 18.59l7.72-7.72 1.47 1.35L5.41 20z\"/>\n",
              "  </svg>\n",
              "      </button>\n",
              "      \n",
              "  <style>\n",
              "    .colab-df-container {\n",
              "      display:flex;\n",
              "      flex-wrap:wrap;\n",
              "      gap: 12px;\n",
              "    }\n",
              "\n",
              "    .colab-df-convert {\n",
              "      background-color: #E8F0FE;\n",
              "      border: none;\n",
              "      border-radius: 50%;\n",
              "      cursor: pointer;\n",
              "      display: none;\n",
              "      fill: #1967D2;\n",
              "      height: 32px;\n",
              "      padding: 0 0 0 0;\n",
              "      width: 32px;\n",
              "    }\n",
              "\n",
              "    .colab-df-convert:hover {\n",
              "      background-color: #E2EBFA;\n",
              "      box-shadow: 0px 1px 2px rgba(60, 64, 67, 0.3), 0px 1px 3px 1px rgba(60, 64, 67, 0.15);\n",
              "      fill: #174EA6;\n",
              "    }\n",
              "\n",
              "    [theme=dark] .colab-df-convert {\n",
              "      background-color: #3B4455;\n",
              "      fill: #D2E3FC;\n",
              "    }\n",
              "\n",
              "    [theme=dark] .colab-df-convert:hover {\n",
              "      background-color: #434B5C;\n",
              "      box-shadow: 0px 1px 3px 1px rgba(0, 0, 0, 0.15);\n",
              "      filter: drop-shadow(0px 1px 2px rgba(0, 0, 0, 0.3));\n",
              "      fill: #FFFFFF;\n",
              "    }\n",
              "  </style>\n",
              "\n",
              "      <script>\n",
              "        const buttonEl =\n",
              "          document.querySelector('#df-de03b8ef-a3ab-4a6c-bddf-df668259ae1e button.colab-df-convert');\n",
              "        buttonEl.style.display =\n",
              "          google.colab.kernel.accessAllowed ? 'block' : 'none';\n",
              "\n",
              "        async function convertToInteractive(key) {\n",
              "          const element = document.querySelector('#df-de03b8ef-a3ab-4a6c-bddf-df668259ae1e');\n",
              "          const dataTable =\n",
              "            await google.colab.kernel.invokeFunction('convertToInteractive',\n",
              "                                                     [key], {});\n",
              "          if (!dataTable) return;\n",
              "\n",
              "          const docLinkHtml = 'Like what you see? Visit the ' +\n",
              "            '<a target=\"_blank\" href=https://colab.research.google.com/notebooks/data_table.ipynb>data table notebook</a>'\n",
              "            + ' to learn more about interactive tables.';\n",
              "          element.innerHTML = '';\n",
              "          dataTable['output_type'] = 'display_data';\n",
              "          await google.colab.output.renderOutput(dataTable, element);\n",
              "          const docLink = document.createElement('div');\n",
              "          docLink.innerHTML = docLinkHtml;\n",
              "          element.appendChild(docLink);\n",
              "        }\n",
              "      </script>\n",
              "    </div>\n",
              "  </div>\n",
              "  "
            ]
          },
          "metadata": {},
          "execution_count": 62
        }
      ]
    },
    {
      "cell_type": "code",
      "source": [
        "\n",
        "fig = px.choropleth(pandas_dfPOS, locations=\"Country\",\n",
        "                    color_continuous_scale=px.colors.sequential.Plasma, title='Positive Sentiment',\n",
        "                    locationmode= 'country names' , color='avg(posSentiment)',\n",
        "                    range_color=[0,1],projection='natural earth',\n",
        "                    scope ='world') \n",
        "fig.show()     "
      ],
      "metadata": {
        "colab": {
          "base_uri": "https://localhost:8080/",
          "height": 542
        },
        "id": "PLNwJWACiDYG",
        "outputId": "96704ef9-1408-41a5-c0ee-c69acfbd64b1"
      },
      "execution_count": 240,
      "outputs": [
        {
          "output_type": "display_data",
          "data": {
            "text/html": [
              "<html>\n",
              "<head><meta charset=\"utf-8\" /></head>\n",
              "<body>\n",
              "    <div>            <script src=\"https://cdnjs.cloudflare.com/ajax/libs/mathjax/2.7.5/MathJax.js?config=TeX-AMS-MML_SVG\"></script><script type=\"text/javascript\">if (window.MathJax) {MathJax.Hub.Config({SVG: {font: \"STIX-Web\"}});}</script>                <script type=\"text/javascript\">window.PlotlyConfig = {MathJaxConfig: 'local'};</script>\n",
              "        <script src=\"https://cdn.plot.ly/plotly-2.8.3.min.js\"></script>                <div id=\"6b58be65-d6c0-4ad8-b7bd-0283f3fb377b\" class=\"plotly-graph-div\" style=\"height:525px; width:100%;\"></div>            <script type=\"text/javascript\">                                    window.PLOTLYENV=window.PLOTLYENV || {};                                    if (document.getElementById(\"6b58be65-d6c0-4ad8-b7bd-0283f3fb377b\")) {                    Plotly.newPlot(                        \"6b58be65-d6c0-4ad8-b7bd-0283f3fb377b\",                        [{\"coloraxis\":\"coloraxis\",\"geo\":\"geo\",\"hovertemplate\":\"Country=%{location}<br>avg(posSentiment)=%{z}<extra></extra>\",\"locationmode\":\"country names\",\"locations\":[\"South Korea\",\"Finland\",\"Canada\",\"Russia\",\"Azerbaijan\",\"Czechia\",\"Philippines\",\"El Salvador\",\"Saudi Arabia\",\"Hungary\",\"Laos\",\"New Zealand\",\"Austria\",\"Pakistan\",\"Panama\",\"Jordan\",\"Thailand\",\"Ireland\",\"Sweden\",\"Australia\",\"Namibia\",\"Denmark\",\"Taiwan\",\"Nigeria\",\"Somalia\",\"Myanmar\",\"Portugal\",\"Latvia\",\"South Africa\",\"Italy\",\"Antarctica\",\"Bolivia\",\"Nepal\",\"United States\",\"Uganda\",\"Singapore\",\"Japan\",\"Estonia\",\"Mexico\",\"Cambodia\",\"Argentina\",\"Serbia\",\"Brazil\",\"Georgia\",\"France\",\"Germany\",\"Dominican Republic\",\"Romania\",\"Luxembourg\",\"United Kingdom\",\"Venezuela\",\"Colombia\",\"Poland\",\"Malaysia\",\"North America\",\"Kenya\",\"Vietnam\",\"Spain\",\"Indonesia\",\"Sri Lanka\",\"Egypt\",\"China\",\"Bangladesh\",\"United Arab Emirates\",\"Ukraine\",\"Netherlands\",\"Israel\",\"Belgium\",\"Ecuador\",\"India\",\"Norway\",\"Switzerland\"],\"name\":\"\",\"z\":[0.23100000619888306,0.24050000309944153,0.2305074633279843,0.15199999511241913,0.31700000166893005,0.18700000643730164,0.24640000462532044,0.18799999356269836,0.2810000032186508,0.1849999949336052,0.20499999821186066,0.21550000458955765,0.19633333881696066,0.18933332877026665,0.1662500025704503,0.27900001406669617,0.37566666801770526,0.13349999859929085,0.22033332784970602,0.1968000003695488,0.29600000381469727,0.2550000051657359,0.13849999962581527,0.22699999809265137,0.22300000488758087,0.12999999523162842,0.1727999970316887,0.17800000309944153,0.20766666531562805,0.10999999940395355,0.4390000104904175,0.2840000092983246,0.18799999356269836,0.1919003625103421,0.16899999976158142,0.18400000035762787,0.19718749960884452,0.2460000067949295,0.2029999941587448,0.16450000554323196,0.5960000157356262,0.18400000035762787,0.2281250013038516,0.17033333579699197,0.2529999999837442,0.18278571218252182,0.17100000381469727,0.2530000001192093,0.07199999690055847,0.20517021338356303,0.10449999943375587,0.12199999888737996,0.1550000011920929,0.2028999999165535,0.1329999975860119,0.367000013589859,0.21300000324845314,0.3429999977350235,0.19005882279837832,0.22499999403953552,0.07849999889731407,0.20238571651279927,0.1543333282073339,0.16766666372617087,0.20539999917149543,0.26100000739097595,0.11349999904632568,0.1420000046491623,0.3059999942779541,0.20768749892401198,0.04399999976158142,0.14075000397861004],\"type\":\"choropleth\"}],                        {\"template\":{\"data\":{\"bar\":[{\"error_x\":{\"color\":\"#2a3f5f\"},\"error_y\":{\"color\":\"#2a3f5f\"},\"marker\":{\"line\":{\"color\":\"#E5ECF6\",\"width\":0.5},\"pattern\":{\"fillmode\":\"overlay\",\"size\":10,\"solidity\":0.2}},\"type\":\"bar\"}],\"barpolar\":[{\"marker\":{\"line\":{\"color\":\"#E5ECF6\",\"width\":0.5},\"pattern\":{\"fillmode\":\"overlay\",\"size\":10,\"solidity\":0.2}},\"type\":\"barpolar\"}],\"carpet\":[{\"aaxis\":{\"endlinecolor\":\"#2a3f5f\",\"gridcolor\":\"white\",\"linecolor\":\"white\",\"minorgridcolor\":\"white\",\"startlinecolor\":\"#2a3f5f\"},\"baxis\":{\"endlinecolor\":\"#2a3f5f\",\"gridcolor\":\"white\",\"linecolor\":\"white\",\"minorgridcolor\":\"white\",\"startlinecolor\":\"#2a3f5f\"},\"type\":\"carpet\"}],\"choropleth\":[{\"colorbar\":{\"outlinewidth\":0,\"ticks\":\"\"},\"type\":\"choropleth\"}],\"contour\":[{\"colorbar\":{\"outlinewidth\":0,\"ticks\":\"\"},\"colorscale\":[[0.0,\"#0d0887\"],[0.1111111111111111,\"#46039f\"],[0.2222222222222222,\"#7201a8\"],[0.3333333333333333,\"#9c179e\"],[0.4444444444444444,\"#bd3786\"],[0.5555555555555556,\"#d8576b\"],[0.6666666666666666,\"#ed7953\"],[0.7777777777777778,\"#fb9f3a\"],[0.8888888888888888,\"#fdca26\"],[1.0,\"#f0f921\"]],\"type\":\"contour\"}],\"contourcarpet\":[{\"colorbar\":{\"outlinewidth\":0,\"ticks\":\"\"},\"type\":\"contourcarpet\"}],\"heatmap\":[{\"colorbar\":{\"outlinewidth\":0,\"ticks\":\"\"},\"colorscale\":[[0.0,\"#0d0887\"],[0.1111111111111111,\"#46039f\"],[0.2222222222222222,\"#7201a8\"],[0.3333333333333333,\"#9c179e\"],[0.4444444444444444,\"#bd3786\"],[0.5555555555555556,\"#d8576b\"],[0.6666666666666666,\"#ed7953\"],[0.7777777777777778,\"#fb9f3a\"],[0.8888888888888888,\"#fdca26\"],[1.0,\"#f0f921\"]],\"type\":\"heatmap\"}],\"heatmapgl\":[{\"colorbar\":{\"outlinewidth\":0,\"ticks\":\"\"},\"colorscale\":[[0.0,\"#0d0887\"],[0.1111111111111111,\"#46039f\"],[0.2222222222222222,\"#7201a8\"],[0.3333333333333333,\"#9c179e\"],[0.4444444444444444,\"#bd3786\"],[0.5555555555555556,\"#d8576b\"],[0.6666666666666666,\"#ed7953\"],[0.7777777777777778,\"#fb9f3a\"],[0.8888888888888888,\"#fdca26\"],[1.0,\"#f0f921\"]],\"type\":\"heatmapgl\"}],\"histogram\":[{\"marker\":{\"pattern\":{\"fillmode\":\"overlay\",\"size\":10,\"solidity\":0.2}},\"type\":\"histogram\"}],\"histogram2d\":[{\"colorbar\":{\"outlinewidth\":0,\"ticks\":\"\"},\"colorscale\":[[0.0,\"#0d0887\"],[0.1111111111111111,\"#46039f\"],[0.2222222222222222,\"#7201a8\"],[0.3333333333333333,\"#9c179e\"],[0.4444444444444444,\"#bd3786\"],[0.5555555555555556,\"#d8576b\"],[0.6666666666666666,\"#ed7953\"],[0.7777777777777778,\"#fb9f3a\"],[0.8888888888888888,\"#fdca26\"],[1.0,\"#f0f921\"]],\"type\":\"histogram2d\"}],\"histogram2dcontour\":[{\"colorbar\":{\"outlinewidth\":0,\"ticks\":\"\"},\"colorscale\":[[0.0,\"#0d0887\"],[0.1111111111111111,\"#46039f\"],[0.2222222222222222,\"#7201a8\"],[0.3333333333333333,\"#9c179e\"],[0.4444444444444444,\"#bd3786\"],[0.5555555555555556,\"#d8576b\"],[0.6666666666666666,\"#ed7953\"],[0.7777777777777778,\"#fb9f3a\"],[0.8888888888888888,\"#fdca26\"],[1.0,\"#f0f921\"]],\"type\":\"histogram2dcontour\"}],\"mesh3d\":[{\"colorbar\":{\"outlinewidth\":0,\"ticks\":\"\"},\"type\":\"mesh3d\"}],\"parcoords\":[{\"line\":{\"colorbar\":{\"outlinewidth\":0,\"ticks\":\"\"}},\"type\":\"parcoords\"}],\"pie\":[{\"automargin\":true,\"type\":\"pie\"}],\"scatter\":[{\"marker\":{\"colorbar\":{\"outlinewidth\":0,\"ticks\":\"\"}},\"type\":\"scatter\"}],\"scatter3d\":[{\"line\":{\"colorbar\":{\"outlinewidth\":0,\"ticks\":\"\"}},\"marker\":{\"colorbar\":{\"outlinewidth\":0,\"ticks\":\"\"}},\"type\":\"scatter3d\"}],\"scattercarpet\":[{\"marker\":{\"colorbar\":{\"outlinewidth\":0,\"ticks\":\"\"}},\"type\":\"scattercarpet\"}],\"scattergeo\":[{\"marker\":{\"colorbar\":{\"outlinewidth\":0,\"ticks\":\"\"}},\"type\":\"scattergeo\"}],\"scattergl\":[{\"marker\":{\"colorbar\":{\"outlinewidth\":0,\"ticks\":\"\"}},\"type\":\"scattergl\"}],\"scattermapbox\":[{\"marker\":{\"colorbar\":{\"outlinewidth\":0,\"ticks\":\"\"}},\"type\":\"scattermapbox\"}],\"scatterpolar\":[{\"marker\":{\"colorbar\":{\"outlinewidth\":0,\"ticks\":\"\"}},\"type\":\"scatterpolar\"}],\"scatterpolargl\":[{\"marker\":{\"colorbar\":{\"outlinewidth\":0,\"ticks\":\"\"}},\"type\":\"scatterpolargl\"}],\"scatterternary\":[{\"marker\":{\"colorbar\":{\"outlinewidth\":0,\"ticks\":\"\"}},\"type\":\"scatterternary\"}],\"surface\":[{\"colorbar\":{\"outlinewidth\":0,\"ticks\":\"\"},\"colorscale\":[[0.0,\"#0d0887\"],[0.1111111111111111,\"#46039f\"],[0.2222222222222222,\"#7201a8\"],[0.3333333333333333,\"#9c179e\"],[0.4444444444444444,\"#bd3786\"],[0.5555555555555556,\"#d8576b\"],[0.6666666666666666,\"#ed7953\"],[0.7777777777777778,\"#fb9f3a\"],[0.8888888888888888,\"#fdca26\"],[1.0,\"#f0f921\"]],\"type\":\"surface\"}],\"table\":[{\"cells\":{\"fill\":{\"color\":\"#EBF0F8\"},\"line\":{\"color\":\"white\"}},\"header\":{\"fill\":{\"color\":\"#C8D4E3\"},\"line\":{\"color\":\"white\"}},\"type\":\"table\"}]},\"layout\":{\"annotationdefaults\":{\"arrowcolor\":\"#2a3f5f\",\"arrowhead\":0,\"arrowwidth\":1},\"autotypenumbers\":\"strict\",\"coloraxis\":{\"colorbar\":{\"outlinewidth\":0,\"ticks\":\"\"}},\"colorscale\":{\"diverging\":[[0,\"#8e0152\"],[0.1,\"#c51b7d\"],[0.2,\"#de77ae\"],[0.3,\"#f1b6da\"],[0.4,\"#fde0ef\"],[0.5,\"#f7f7f7\"],[0.6,\"#e6f5d0\"],[0.7,\"#b8e186\"],[0.8,\"#7fbc41\"],[0.9,\"#4d9221\"],[1,\"#276419\"]],\"sequential\":[[0.0,\"#0d0887\"],[0.1111111111111111,\"#46039f\"],[0.2222222222222222,\"#7201a8\"],[0.3333333333333333,\"#9c179e\"],[0.4444444444444444,\"#bd3786\"],[0.5555555555555556,\"#d8576b\"],[0.6666666666666666,\"#ed7953\"],[0.7777777777777778,\"#fb9f3a\"],[0.8888888888888888,\"#fdca26\"],[1.0,\"#f0f921\"]],\"sequentialminus\":[[0.0,\"#0d0887\"],[0.1111111111111111,\"#46039f\"],[0.2222222222222222,\"#7201a8\"],[0.3333333333333333,\"#9c179e\"],[0.4444444444444444,\"#bd3786\"],[0.5555555555555556,\"#d8576b\"],[0.6666666666666666,\"#ed7953\"],[0.7777777777777778,\"#fb9f3a\"],[0.8888888888888888,\"#fdca26\"],[1.0,\"#f0f921\"]]},\"colorway\":[\"#636efa\",\"#EF553B\",\"#00cc96\",\"#ab63fa\",\"#FFA15A\",\"#19d3f3\",\"#FF6692\",\"#B6E880\",\"#FF97FF\",\"#FECB52\"],\"font\":{\"color\":\"#2a3f5f\"},\"geo\":{\"bgcolor\":\"white\",\"lakecolor\":\"white\",\"landcolor\":\"#E5ECF6\",\"showlakes\":true,\"showland\":true,\"subunitcolor\":\"white\"},\"hoverlabel\":{\"align\":\"left\"},\"hovermode\":\"closest\",\"mapbox\":{\"style\":\"light\"},\"paper_bgcolor\":\"white\",\"plot_bgcolor\":\"#E5ECF6\",\"polar\":{\"angularaxis\":{\"gridcolor\":\"white\",\"linecolor\":\"white\",\"ticks\":\"\"},\"bgcolor\":\"#E5ECF6\",\"radialaxis\":{\"gridcolor\":\"white\",\"linecolor\":\"white\",\"ticks\":\"\"}},\"scene\":{\"xaxis\":{\"backgroundcolor\":\"#E5ECF6\",\"gridcolor\":\"white\",\"gridwidth\":2,\"linecolor\":\"white\",\"showbackground\":true,\"ticks\":\"\",\"zerolinecolor\":\"white\"},\"yaxis\":{\"backgroundcolor\":\"#E5ECF6\",\"gridcolor\":\"white\",\"gridwidth\":2,\"linecolor\":\"white\",\"showbackground\":true,\"ticks\":\"\",\"zerolinecolor\":\"white\"},\"zaxis\":{\"backgroundcolor\":\"#E5ECF6\",\"gridcolor\":\"white\",\"gridwidth\":2,\"linecolor\":\"white\",\"showbackground\":true,\"ticks\":\"\",\"zerolinecolor\":\"white\"}},\"shapedefaults\":{\"line\":{\"color\":\"#2a3f5f\"}},\"ternary\":{\"aaxis\":{\"gridcolor\":\"white\",\"linecolor\":\"white\",\"ticks\":\"\"},\"baxis\":{\"gridcolor\":\"white\",\"linecolor\":\"white\",\"ticks\":\"\"},\"bgcolor\":\"#E5ECF6\",\"caxis\":{\"gridcolor\":\"white\",\"linecolor\":\"white\",\"ticks\":\"\"}},\"title\":{\"x\":0.05},\"xaxis\":{\"automargin\":true,\"gridcolor\":\"white\",\"linecolor\":\"white\",\"ticks\":\"\",\"title\":{\"standoff\":15},\"zerolinecolor\":\"white\",\"zerolinewidth\":2},\"yaxis\":{\"automargin\":true,\"gridcolor\":\"white\",\"linecolor\":\"white\",\"ticks\":\"\",\"title\":{\"standoff\":15},\"zerolinecolor\":\"white\",\"zerolinewidth\":2}}},\"geo\":{\"domain\":{\"x\":[0.0,1.0],\"y\":[0.0,1.0]},\"projection\":{\"type\":\"natural earth\"},\"center\":{},\"scope\":\"world\"},\"coloraxis\":{\"colorbar\":{\"title\":{\"text\":\"avg(posSentiment)\"}},\"colorscale\":[[0.0,\"#0d0887\"],[0.1111111111111111,\"#46039f\"],[0.2222222222222222,\"#7201a8\"],[0.3333333333333333,\"#9c179e\"],[0.4444444444444444,\"#bd3786\"],[0.5555555555555556,\"#d8576b\"],[0.6666666666666666,\"#ed7953\"],[0.7777777777777778,\"#fb9f3a\"],[0.8888888888888888,\"#fdca26\"],[1.0,\"#f0f921\"]],\"cmin\":0,\"cmax\":1},\"legend\":{\"tracegroupgap\":0},\"title\":{\"text\":\"Positive Sentiment\"}},                        {\"responsive\": true}                    ).then(function(){\n",
              "                            \n",
              "var gd = document.getElementById('6b58be65-d6c0-4ad8-b7bd-0283f3fb377b');\n",
              "var x = new MutationObserver(function (mutations, observer) {{\n",
              "        var display = window.getComputedStyle(gd).display;\n",
              "        if (!display || display === 'none') {{\n",
              "            console.log([gd, 'removed!']);\n",
              "            Plotly.purge(gd);\n",
              "            observer.disconnect();\n",
              "        }}\n",
              "}});\n",
              "\n",
              "// Listen for the removal of the full notebook cells\n",
              "var notebookContainer = gd.closest('#notebook-container');\n",
              "if (notebookContainer) {{\n",
              "    x.observe(notebookContainer, {childList: true});\n",
              "}}\n",
              "\n",
              "// Listen for the clearing of the current output cell\n",
              "var outputEl = gd.closest('.output');\n",
              "if (outputEl) {{\n",
              "    x.observe(outputEl, {childList: true});\n",
              "}}\n",
              "\n",
              "                        })                };                            </script>        </div>\n",
              "</body>\n",
              "</html>"
            ]
          },
          "metadata": {}
        }
      ]
    },
    {
      "cell_type": "code",
      "source": [
        "fig = px.choropleth(pandas_dfNEG, locations=\"Country\",\n",
        "                    color_continuous_scale=px.colors.sequential.Plasma, title='Negative Sentiment',\n",
        "                    locationmode= 'country names' , color='avg(negSentiment)',\n",
        "                    range_color=[0,1],projection='natural earth',\n",
        "                    scope ='world') \n",
        "fig.show()    "
      ],
      "metadata": {
        "colab": {
          "base_uri": "https://localhost:8080/",
          "height": 542
        },
        "id": "a4-giBjnrKCl",
        "outputId": "e328d778-b77a-498a-ff98-4eb850aa094e"
      },
      "execution_count": 241,
      "outputs": [
        {
          "output_type": "display_data",
          "data": {
            "text/html": [
              "<html>\n",
              "<head><meta charset=\"utf-8\" /></head>\n",
              "<body>\n",
              "    <div>            <script src=\"https://cdnjs.cloudflare.com/ajax/libs/mathjax/2.7.5/MathJax.js?config=TeX-AMS-MML_SVG\"></script><script type=\"text/javascript\">if (window.MathJax) {MathJax.Hub.Config({SVG: {font: \"STIX-Web\"}});}</script>                <script type=\"text/javascript\">window.PlotlyConfig = {MathJaxConfig: 'local'};</script>\n",
              "        <script src=\"https://cdn.plot.ly/plotly-2.8.3.min.js\"></script>                <div id=\"ebae2fd8-6f1c-4b96-bb2d-3439b9762fd9\" class=\"plotly-graph-div\" style=\"height:525px; width:100%;\"></div>            <script type=\"text/javascript\">                                    window.PLOTLYENV=window.PLOTLYENV || {};                                    if (document.getElementById(\"ebae2fd8-6f1c-4b96-bb2d-3439b9762fd9\")) {                    Plotly.newPlot(                        \"ebae2fd8-6f1c-4b96-bb2d-3439b9762fd9\",                        [{\"coloraxis\":\"coloraxis\",\"geo\":\"geo\",\"hovertemplate\":\"Country=%{location}<br>avg(negSentiment)=%{z}<extra></extra>\",\"locationmode\":\"country names\",\"locations\":[\"Saudi Arabia\",\"Georgia\",\"Italy\",\"Ghana\",\"Panama\",\"North Macedonia\",\"Qatar\",\"Canada\",\"Lebanon\",\"Israel\",\"Australia\",\"Serbia\",\"Russia\",\"Colombia\",\"Jordan\",\"Lithuania\",\"Palestinian Territory\",\"Malaysia\",\"United Kingdom\",\"Pakistan\",\"Sri Lanka\",\"Kazakhstan\",\"Estonia\",\"Sudan\",\"South Korea\",\"C\\u00f4te d'Ivoire\",\"Costa Rica\",\"Philippines\",\"Japan\",\"Spain\",\"Netherlands\",\"Ecuador\",\"Luxembourg\",\"Syria\",\"Fiji\",\"Czechia\",\"Belgium\",\"Maldives\",\"Bulgaria\",\"Kenya\",\"Germany\",\"Chile\",\"South Africa\",\"Uganda\",\"Afghanistan\",\"Brazil\",\"New Zealand\",\"North America\",\"Kuwait\",\"Laos\",\"Guernsey\",\"Taiwan\",\"Slovakia\",\"Antarctica\",\"India\",\"Vatican City\",\"United Arab Emirates\",\"Latvia\",\"Egypt\",\"Indonesia\",\"El Salvador\",\"Hungary\",\"Finland\",\"Algeria\",\"Greece\",\"Belarus\",\"Denmark\",\"Ukraine\",\"Gulf of Mexico\",\"Sweden\",\"Norway\",\"Libya\",\"Ireland\",\"Venezuela\",\"China\",\"Mexico\",\"Iraq\",\"Vietnam\",\"Peru\",\"Romania\",\"Thailand\",\"Argentina\",\"United States\",\"Switzerland\",\"Singapore\",\"Turkey\",\"Nigeria\",\"Moldova\",\"France\",\"Iran\",\"Poland\",\"Portugal\"],\"name\":\"\",\"z\":[0.2635714262723923,0.17549999989569187,0.20599999899665514,0.25866666436195374,0.18740000128746032,0.15700000524520874,0.29120000302791593,0.202436975383458,0.125,0.21500000109275183,0.21888750032521784,0.08900000154972076,0.16366667052110037,0.27650000154972076,0.10599999874830246,0.18400000035762787,0.18799999356269836,0.3154285727512269,0.2273786416620884,0.2745833352415098,0.39266666769981384,0.07900000363588333,0.13100000098347664,0.125,0.21950000151991844,0.2879999876022339,0.25599999725818634,0.24938888889220026,0.17750000208616257,0.23466667160391808,0.24250000342726707,0.1594999972730875,0.0689999982714653,0.1860000044107437,0.1860000044107437,0.23999999463558197,0.19433333476384482,0.28733333945274353,0.1550000011920929,0.33649999648332596,0.18112499942071736,0.1895000021904707,0.22477778130107456,0.22049999982118607,0.07400000095367432,0.19622222003009585,0.17333333070079485,0.19599999487400055,0.17900000512599945,0.19633333384990692,0.17599999904632568,0.1870000043085643,0.777999997138977,0.21899999678134918,0.22858974461754164,0.12600000202655792,0.36233333746592206,0.2094999998807907,0.244571430342538,0.19407692093115586,0.2329999953508377,0.17291666815678278,0.21524999663233757,0.27900001406669617,0.2214999943971634,0.1080000028014183,0.14733333637317023,0.19968421051376745,0.2529999911785126,0.25200000405311584,0.28383333546419937,0.26600000262260437,0.22969230894859022,0.1860000044107437,0.18923809503515562,0.26057142870766775,0.18000000715255737,0.2174999974668026,0.08699999749660492,0.26569230739886945,0.20844444135824838,0.2391428564276014,0.20047830956862686,0.22799999799047196,0.18175000045448542,0.14149999991059303,0.23000000417232513,0.125,0.1979333331187566,0.16690909523855557,0.2245000017186006,0.2396666631102562],\"type\":\"choropleth\"}],                        {\"template\":{\"data\":{\"bar\":[{\"error_x\":{\"color\":\"#2a3f5f\"},\"error_y\":{\"color\":\"#2a3f5f\"},\"marker\":{\"line\":{\"color\":\"#E5ECF6\",\"width\":0.5},\"pattern\":{\"fillmode\":\"overlay\",\"size\":10,\"solidity\":0.2}},\"type\":\"bar\"}],\"barpolar\":[{\"marker\":{\"line\":{\"color\":\"#E5ECF6\",\"width\":0.5},\"pattern\":{\"fillmode\":\"overlay\",\"size\":10,\"solidity\":0.2}},\"type\":\"barpolar\"}],\"carpet\":[{\"aaxis\":{\"endlinecolor\":\"#2a3f5f\",\"gridcolor\":\"white\",\"linecolor\":\"white\",\"minorgridcolor\":\"white\",\"startlinecolor\":\"#2a3f5f\"},\"baxis\":{\"endlinecolor\":\"#2a3f5f\",\"gridcolor\":\"white\",\"linecolor\":\"white\",\"minorgridcolor\":\"white\",\"startlinecolor\":\"#2a3f5f\"},\"type\":\"carpet\"}],\"choropleth\":[{\"colorbar\":{\"outlinewidth\":0,\"ticks\":\"\"},\"type\":\"choropleth\"}],\"contour\":[{\"colorbar\":{\"outlinewidth\":0,\"ticks\":\"\"},\"colorscale\":[[0.0,\"#0d0887\"],[0.1111111111111111,\"#46039f\"],[0.2222222222222222,\"#7201a8\"],[0.3333333333333333,\"#9c179e\"],[0.4444444444444444,\"#bd3786\"],[0.5555555555555556,\"#d8576b\"],[0.6666666666666666,\"#ed7953\"],[0.7777777777777778,\"#fb9f3a\"],[0.8888888888888888,\"#fdca26\"],[1.0,\"#f0f921\"]],\"type\":\"contour\"}],\"contourcarpet\":[{\"colorbar\":{\"outlinewidth\":0,\"ticks\":\"\"},\"type\":\"contourcarpet\"}],\"heatmap\":[{\"colorbar\":{\"outlinewidth\":0,\"ticks\":\"\"},\"colorscale\":[[0.0,\"#0d0887\"],[0.1111111111111111,\"#46039f\"],[0.2222222222222222,\"#7201a8\"],[0.3333333333333333,\"#9c179e\"],[0.4444444444444444,\"#bd3786\"],[0.5555555555555556,\"#d8576b\"],[0.6666666666666666,\"#ed7953\"],[0.7777777777777778,\"#fb9f3a\"],[0.8888888888888888,\"#fdca26\"],[1.0,\"#f0f921\"]],\"type\":\"heatmap\"}],\"heatmapgl\":[{\"colorbar\":{\"outlinewidth\":0,\"ticks\":\"\"},\"colorscale\":[[0.0,\"#0d0887\"],[0.1111111111111111,\"#46039f\"],[0.2222222222222222,\"#7201a8\"],[0.3333333333333333,\"#9c179e\"],[0.4444444444444444,\"#bd3786\"],[0.5555555555555556,\"#d8576b\"],[0.6666666666666666,\"#ed7953\"],[0.7777777777777778,\"#fb9f3a\"],[0.8888888888888888,\"#fdca26\"],[1.0,\"#f0f921\"]],\"type\":\"heatmapgl\"}],\"histogram\":[{\"marker\":{\"pattern\":{\"fillmode\":\"overlay\",\"size\":10,\"solidity\":0.2}},\"type\":\"histogram\"}],\"histogram2d\":[{\"colorbar\":{\"outlinewidth\":0,\"ticks\":\"\"},\"colorscale\":[[0.0,\"#0d0887\"],[0.1111111111111111,\"#46039f\"],[0.2222222222222222,\"#7201a8\"],[0.3333333333333333,\"#9c179e\"],[0.4444444444444444,\"#bd3786\"],[0.5555555555555556,\"#d8576b\"],[0.6666666666666666,\"#ed7953\"],[0.7777777777777778,\"#fb9f3a\"],[0.8888888888888888,\"#fdca26\"],[1.0,\"#f0f921\"]],\"type\":\"histogram2d\"}],\"histogram2dcontour\":[{\"colorbar\":{\"outlinewidth\":0,\"ticks\":\"\"},\"colorscale\":[[0.0,\"#0d0887\"],[0.1111111111111111,\"#46039f\"],[0.2222222222222222,\"#7201a8\"],[0.3333333333333333,\"#9c179e\"],[0.4444444444444444,\"#bd3786\"],[0.5555555555555556,\"#d8576b\"],[0.6666666666666666,\"#ed7953\"],[0.7777777777777778,\"#fb9f3a\"],[0.8888888888888888,\"#fdca26\"],[1.0,\"#f0f921\"]],\"type\":\"histogram2dcontour\"}],\"mesh3d\":[{\"colorbar\":{\"outlinewidth\":0,\"ticks\":\"\"},\"type\":\"mesh3d\"}],\"parcoords\":[{\"line\":{\"colorbar\":{\"outlinewidth\":0,\"ticks\":\"\"}},\"type\":\"parcoords\"}],\"pie\":[{\"automargin\":true,\"type\":\"pie\"}],\"scatter\":[{\"marker\":{\"colorbar\":{\"outlinewidth\":0,\"ticks\":\"\"}},\"type\":\"scatter\"}],\"scatter3d\":[{\"line\":{\"colorbar\":{\"outlinewidth\":0,\"ticks\":\"\"}},\"marker\":{\"colorbar\":{\"outlinewidth\":0,\"ticks\":\"\"}},\"type\":\"scatter3d\"}],\"scattercarpet\":[{\"marker\":{\"colorbar\":{\"outlinewidth\":0,\"ticks\":\"\"}},\"type\":\"scattercarpet\"}],\"scattergeo\":[{\"marker\":{\"colorbar\":{\"outlinewidth\":0,\"ticks\":\"\"}},\"type\":\"scattergeo\"}],\"scattergl\":[{\"marker\":{\"colorbar\":{\"outlinewidth\":0,\"ticks\":\"\"}},\"type\":\"scattergl\"}],\"scattermapbox\":[{\"marker\":{\"colorbar\":{\"outlinewidth\":0,\"ticks\":\"\"}},\"type\":\"scattermapbox\"}],\"scatterpolar\":[{\"marker\":{\"colorbar\":{\"outlinewidth\":0,\"ticks\":\"\"}},\"type\":\"scatterpolar\"}],\"scatterpolargl\":[{\"marker\":{\"colorbar\":{\"outlinewidth\":0,\"ticks\":\"\"}},\"type\":\"scatterpolargl\"}],\"scatterternary\":[{\"marker\":{\"colorbar\":{\"outlinewidth\":0,\"ticks\":\"\"}},\"type\":\"scatterternary\"}],\"surface\":[{\"colorbar\":{\"outlinewidth\":0,\"ticks\":\"\"},\"colorscale\":[[0.0,\"#0d0887\"],[0.1111111111111111,\"#46039f\"],[0.2222222222222222,\"#7201a8\"],[0.3333333333333333,\"#9c179e\"],[0.4444444444444444,\"#bd3786\"],[0.5555555555555556,\"#d8576b\"],[0.6666666666666666,\"#ed7953\"],[0.7777777777777778,\"#fb9f3a\"],[0.8888888888888888,\"#fdca26\"],[1.0,\"#f0f921\"]],\"type\":\"surface\"}],\"table\":[{\"cells\":{\"fill\":{\"color\":\"#EBF0F8\"},\"line\":{\"color\":\"white\"}},\"header\":{\"fill\":{\"color\":\"#C8D4E3\"},\"line\":{\"color\":\"white\"}},\"type\":\"table\"}]},\"layout\":{\"annotationdefaults\":{\"arrowcolor\":\"#2a3f5f\",\"arrowhead\":0,\"arrowwidth\":1},\"autotypenumbers\":\"strict\",\"coloraxis\":{\"colorbar\":{\"outlinewidth\":0,\"ticks\":\"\"}},\"colorscale\":{\"diverging\":[[0,\"#8e0152\"],[0.1,\"#c51b7d\"],[0.2,\"#de77ae\"],[0.3,\"#f1b6da\"],[0.4,\"#fde0ef\"],[0.5,\"#f7f7f7\"],[0.6,\"#e6f5d0\"],[0.7,\"#b8e186\"],[0.8,\"#7fbc41\"],[0.9,\"#4d9221\"],[1,\"#276419\"]],\"sequential\":[[0.0,\"#0d0887\"],[0.1111111111111111,\"#46039f\"],[0.2222222222222222,\"#7201a8\"],[0.3333333333333333,\"#9c179e\"],[0.4444444444444444,\"#bd3786\"],[0.5555555555555556,\"#d8576b\"],[0.6666666666666666,\"#ed7953\"],[0.7777777777777778,\"#fb9f3a\"],[0.8888888888888888,\"#fdca26\"],[1.0,\"#f0f921\"]],\"sequentialminus\":[[0.0,\"#0d0887\"],[0.1111111111111111,\"#46039f\"],[0.2222222222222222,\"#7201a8\"],[0.3333333333333333,\"#9c179e\"],[0.4444444444444444,\"#bd3786\"],[0.5555555555555556,\"#d8576b\"],[0.6666666666666666,\"#ed7953\"],[0.7777777777777778,\"#fb9f3a\"],[0.8888888888888888,\"#fdca26\"],[1.0,\"#f0f921\"]]},\"colorway\":[\"#636efa\",\"#EF553B\",\"#00cc96\",\"#ab63fa\",\"#FFA15A\",\"#19d3f3\",\"#FF6692\",\"#B6E880\",\"#FF97FF\",\"#FECB52\"],\"font\":{\"color\":\"#2a3f5f\"},\"geo\":{\"bgcolor\":\"white\",\"lakecolor\":\"white\",\"landcolor\":\"#E5ECF6\",\"showlakes\":true,\"showland\":true,\"subunitcolor\":\"white\"},\"hoverlabel\":{\"align\":\"left\"},\"hovermode\":\"closest\",\"mapbox\":{\"style\":\"light\"},\"paper_bgcolor\":\"white\",\"plot_bgcolor\":\"#E5ECF6\",\"polar\":{\"angularaxis\":{\"gridcolor\":\"white\",\"linecolor\":\"white\",\"ticks\":\"\"},\"bgcolor\":\"#E5ECF6\",\"radialaxis\":{\"gridcolor\":\"white\",\"linecolor\":\"white\",\"ticks\":\"\"}},\"scene\":{\"xaxis\":{\"backgroundcolor\":\"#E5ECF6\",\"gridcolor\":\"white\",\"gridwidth\":2,\"linecolor\":\"white\",\"showbackground\":true,\"ticks\":\"\",\"zerolinecolor\":\"white\"},\"yaxis\":{\"backgroundcolor\":\"#E5ECF6\",\"gridcolor\":\"white\",\"gridwidth\":2,\"linecolor\":\"white\",\"showbackground\":true,\"ticks\":\"\",\"zerolinecolor\":\"white\"},\"zaxis\":{\"backgroundcolor\":\"#E5ECF6\",\"gridcolor\":\"white\",\"gridwidth\":2,\"linecolor\":\"white\",\"showbackground\":true,\"ticks\":\"\",\"zerolinecolor\":\"white\"}},\"shapedefaults\":{\"line\":{\"color\":\"#2a3f5f\"}},\"ternary\":{\"aaxis\":{\"gridcolor\":\"white\",\"linecolor\":\"white\",\"ticks\":\"\"},\"baxis\":{\"gridcolor\":\"white\",\"linecolor\":\"white\",\"ticks\":\"\"},\"bgcolor\":\"#E5ECF6\",\"caxis\":{\"gridcolor\":\"white\",\"linecolor\":\"white\",\"ticks\":\"\"}},\"title\":{\"x\":0.05},\"xaxis\":{\"automargin\":true,\"gridcolor\":\"white\",\"linecolor\":\"white\",\"ticks\":\"\",\"title\":{\"standoff\":15},\"zerolinecolor\":\"white\",\"zerolinewidth\":2},\"yaxis\":{\"automargin\":true,\"gridcolor\":\"white\",\"linecolor\":\"white\",\"ticks\":\"\",\"title\":{\"standoff\":15},\"zerolinecolor\":\"white\",\"zerolinewidth\":2}}},\"geo\":{\"domain\":{\"x\":[0.0,1.0],\"y\":[0.0,1.0]},\"projection\":{\"type\":\"natural earth\"},\"center\":{},\"scope\":\"world\"},\"coloraxis\":{\"colorbar\":{\"title\":{\"text\":\"avg(negSentiment)\"}},\"colorscale\":[[0.0,\"#0d0887\"],[0.1111111111111111,\"#46039f\"],[0.2222222222222222,\"#7201a8\"],[0.3333333333333333,\"#9c179e\"],[0.4444444444444444,\"#bd3786\"],[0.5555555555555556,\"#d8576b\"],[0.6666666666666666,\"#ed7953\"],[0.7777777777777778,\"#fb9f3a\"],[0.8888888888888888,\"#fdca26\"],[1.0,\"#f0f921\"]],\"cmin\":0,\"cmax\":1},\"legend\":{\"tracegroupgap\":0},\"title\":{\"text\":\"Negative Sentiment\"}},                        {\"responsive\": true}                    ).then(function(){\n",
              "                            \n",
              "var gd = document.getElementById('ebae2fd8-6f1c-4b96-bb2d-3439b9762fd9');\n",
              "var x = new MutationObserver(function (mutations, observer) {{\n",
              "        var display = window.getComputedStyle(gd).display;\n",
              "        if (!display || display === 'none') {{\n",
              "            console.log([gd, 'removed!']);\n",
              "            Plotly.purge(gd);\n",
              "            observer.disconnect();\n",
              "        }}\n",
              "}});\n",
              "\n",
              "// Listen for the removal of the full notebook cells\n",
              "var notebookContainer = gd.closest('#notebook-container');\n",
              "if (notebookContainer) {{\n",
              "    x.observe(notebookContainer, {childList: true});\n",
              "}}\n",
              "\n",
              "// Listen for the clearing of the current output cell\n",
              "var outputEl = gd.closest('.output');\n",
              "if (outputEl) {{\n",
              "    x.observe(outputEl, {childList: true});\n",
              "}}\n",
              "\n",
              "                        })                };                            </script>        </div>\n",
              "</body>\n",
              "</html>"
            ]
          },
          "metadata": {}
        }
      ]
    },
    {
      "cell_type": "code",
      "source": [
        "fig = px.choropleth(pandas_dfNEU, locations=\"Country\",\n",
        "                    color_continuous_scale=px.colors.sequential.Plasma, title='Neutral Sentiment',\n",
        "                    locationmode= 'country names' , color='avg(neuSentiment)',\n",
        "                    range_color=[0,1],projection='natural earth',\n",
        "                    scope ='world') \n",
        "fig.show()"
      ],
      "metadata": {
        "colab": {
          "base_uri": "https://localhost:8080/",
          "height": 542
        },
        "id": "GQR4Yp-BrWbD",
        "outputId": "2b5ce329-9a43-477d-8c1c-c2b95880f642"
      },
      "execution_count": 242,
      "outputs": [
        {
          "output_type": "display_data",
          "data": {
            "text/html": [
              "<html>\n",
              "<head><meta charset=\"utf-8\" /></head>\n",
              "<body>\n",
              "    <div>            <script src=\"https://cdnjs.cloudflare.com/ajax/libs/mathjax/2.7.5/MathJax.js?config=TeX-AMS-MML_SVG\"></script><script type=\"text/javascript\">if (window.MathJax) {MathJax.Hub.Config({SVG: {font: \"STIX-Web\"}});}</script>                <script type=\"text/javascript\">window.PlotlyConfig = {MathJaxConfig: 'local'};</script>\n",
              "        <script src=\"https://cdn.plot.ly/plotly-2.8.3.min.js\"></script>                <div id=\"cfa135be-1ba5-4974-b49b-983dbd644cb3\" class=\"plotly-graph-div\" style=\"height:525px; width:100%;\"></div>            <script type=\"text/javascript\">                                    window.PLOTLYENV=window.PLOTLYENV || {};                                    if (document.getElementById(\"cfa135be-1ba5-4974-b49b-983dbd644cb3\")) {                    Plotly.newPlot(                        \"cfa135be-1ba5-4974-b49b-983dbd644cb3\",                        [{\"coloraxis\":\"coloraxis\",\"geo\":\"geo\",\"hovertemplate\":\"Country=%{location}<br>avg(neuSentiment)=%{z}<extra></extra>\",\"locationmode\":\"country names\",\"locations\":[\"Denmark\",\"United Arab Emirates\",\"Ukraine\",\"South Korea\",\"Canada\",\"Finland\",\"Saudi Arabia\",\"Bangladesh\",\"Belgium\",\"Indonesia\",\"Spain\",\"Japan\",\"Palestinian Territory\",\"El Salvador\",\"Sri Lanka\",\"Niger\",\"Germany\",\"Switzerland\",\"Peru\",\"Gulf of Thailand\",\"China\",\"Sweden\",\"Austria\",\"Costa Rica\",\"Jordan\",\"Panama\",\"Morocco\",\"Libya\",\"North Korea\",\"Maldives\",\"Qatar\",\"Russia\",\"Myanmar\",\"Italy\",\"United Kingdom\",\"Africa\",\"Iran\",\"Taiwan\",\"Yemen\",\"United States\",\"Mexico\",\"Kuwait\",\"Poland\",\"North America\",\"Afghanistan\",\"Europe\",\"North Macedonia\",\"Argentina\",\"Egypt\",\"Colombia\",\"Brazil\",\"Laos\",\"Cambodia\",\"Venezuela\",\"Kenya\",\"Algeria\",\"Philippines\",\"Ecuador\",\"Romania\",\"New Zealand\",\"Australia\",\"Turkey\",\"France\",\"Nigeria\",\"Georgia\",\"Hungary\",\"Lebanon\",\"Singapore\",\"Angola\",\"Mongolia\",\"Tunisia\",\"Bolivia\",\"Portugal\",\"Vietnam\",\"Estonia\",\"Antarctica\",\"India\",\"Netherlands\",\"Greece\",\"Ireland\",\"Oman\",\"Pakistan\",\"Zimbabwe\",\"Bosnia and Herzegovina\",\"Israel\",\"Iraq\",\"South Africa\",\"Thailand\",\"Czechia\",\"Senegal\",\"Norway\",\"Malaysia\"],\"name\":\"\",\"z\":[1.0,1.0,1.0,1.0,0.9899800002574921,1.0,1.0,1.0,1.0,1.0,1.0,0.9432500004768372,1.0,1.0,1.0,1.0,1.0,1.0,1.0,1.0,0.9939722220102946,1.0,1.0,1.0,1.0,1.0,1.0,1.0,1.0,1.0,1.0,1.0,1.0,0.9773000001907348,0.9928315790076004,1.0,1.0,0.9858125001192093,1.0,0.9972704544663429,1.0,0.9716250002384186,1.0,1.0,1.0,1.0,1.0,1.0,1.0,1.0,1.0,1.0,1.0,1.0,1.0,1.0,1.0,1.0,1.0,1.0,0.9903749997417132,1.0,1.0,1.0,1.0,1.0,1.0,1.0,1.0,1.0,1.0,1.0,1.0,1.0,1.0,1.0,0.9977941179976744,1.0,1.0,1.0,1.0,1.0,1.0,1.0,1.0,1.0,1.0,1.0,1.0,1.0,1.0,1.0],\"type\":\"choropleth\"}],                        {\"template\":{\"data\":{\"bar\":[{\"error_x\":{\"color\":\"#2a3f5f\"},\"error_y\":{\"color\":\"#2a3f5f\"},\"marker\":{\"line\":{\"color\":\"#E5ECF6\",\"width\":0.5},\"pattern\":{\"fillmode\":\"overlay\",\"size\":10,\"solidity\":0.2}},\"type\":\"bar\"}],\"barpolar\":[{\"marker\":{\"line\":{\"color\":\"#E5ECF6\",\"width\":0.5},\"pattern\":{\"fillmode\":\"overlay\",\"size\":10,\"solidity\":0.2}},\"type\":\"barpolar\"}],\"carpet\":[{\"aaxis\":{\"endlinecolor\":\"#2a3f5f\",\"gridcolor\":\"white\",\"linecolor\":\"white\",\"minorgridcolor\":\"white\",\"startlinecolor\":\"#2a3f5f\"},\"baxis\":{\"endlinecolor\":\"#2a3f5f\",\"gridcolor\":\"white\",\"linecolor\":\"white\",\"minorgridcolor\":\"white\",\"startlinecolor\":\"#2a3f5f\"},\"type\":\"carpet\"}],\"choropleth\":[{\"colorbar\":{\"outlinewidth\":0,\"ticks\":\"\"},\"type\":\"choropleth\"}],\"contour\":[{\"colorbar\":{\"outlinewidth\":0,\"ticks\":\"\"},\"colorscale\":[[0.0,\"#0d0887\"],[0.1111111111111111,\"#46039f\"],[0.2222222222222222,\"#7201a8\"],[0.3333333333333333,\"#9c179e\"],[0.4444444444444444,\"#bd3786\"],[0.5555555555555556,\"#d8576b\"],[0.6666666666666666,\"#ed7953\"],[0.7777777777777778,\"#fb9f3a\"],[0.8888888888888888,\"#fdca26\"],[1.0,\"#f0f921\"]],\"type\":\"contour\"}],\"contourcarpet\":[{\"colorbar\":{\"outlinewidth\":0,\"ticks\":\"\"},\"type\":\"contourcarpet\"}],\"heatmap\":[{\"colorbar\":{\"outlinewidth\":0,\"ticks\":\"\"},\"colorscale\":[[0.0,\"#0d0887\"],[0.1111111111111111,\"#46039f\"],[0.2222222222222222,\"#7201a8\"],[0.3333333333333333,\"#9c179e\"],[0.4444444444444444,\"#bd3786\"],[0.5555555555555556,\"#d8576b\"],[0.6666666666666666,\"#ed7953\"],[0.7777777777777778,\"#fb9f3a\"],[0.8888888888888888,\"#fdca26\"],[1.0,\"#f0f921\"]],\"type\":\"heatmap\"}],\"heatmapgl\":[{\"colorbar\":{\"outlinewidth\":0,\"ticks\":\"\"},\"colorscale\":[[0.0,\"#0d0887\"],[0.1111111111111111,\"#46039f\"],[0.2222222222222222,\"#7201a8\"],[0.3333333333333333,\"#9c179e\"],[0.4444444444444444,\"#bd3786\"],[0.5555555555555556,\"#d8576b\"],[0.6666666666666666,\"#ed7953\"],[0.7777777777777778,\"#fb9f3a\"],[0.8888888888888888,\"#fdca26\"],[1.0,\"#f0f921\"]],\"type\":\"heatmapgl\"}],\"histogram\":[{\"marker\":{\"pattern\":{\"fillmode\":\"overlay\",\"size\":10,\"solidity\":0.2}},\"type\":\"histogram\"}],\"histogram2d\":[{\"colorbar\":{\"outlinewidth\":0,\"ticks\":\"\"},\"colorscale\":[[0.0,\"#0d0887\"],[0.1111111111111111,\"#46039f\"],[0.2222222222222222,\"#7201a8\"],[0.3333333333333333,\"#9c179e\"],[0.4444444444444444,\"#bd3786\"],[0.5555555555555556,\"#d8576b\"],[0.6666666666666666,\"#ed7953\"],[0.7777777777777778,\"#fb9f3a\"],[0.8888888888888888,\"#fdca26\"],[1.0,\"#f0f921\"]],\"type\":\"histogram2d\"}],\"histogram2dcontour\":[{\"colorbar\":{\"outlinewidth\":0,\"ticks\":\"\"},\"colorscale\":[[0.0,\"#0d0887\"],[0.1111111111111111,\"#46039f\"],[0.2222222222222222,\"#7201a8\"],[0.3333333333333333,\"#9c179e\"],[0.4444444444444444,\"#bd3786\"],[0.5555555555555556,\"#d8576b\"],[0.6666666666666666,\"#ed7953\"],[0.7777777777777778,\"#fb9f3a\"],[0.8888888888888888,\"#fdca26\"],[1.0,\"#f0f921\"]],\"type\":\"histogram2dcontour\"}],\"mesh3d\":[{\"colorbar\":{\"outlinewidth\":0,\"ticks\":\"\"},\"type\":\"mesh3d\"}],\"parcoords\":[{\"line\":{\"colorbar\":{\"outlinewidth\":0,\"ticks\":\"\"}},\"type\":\"parcoords\"}],\"pie\":[{\"automargin\":true,\"type\":\"pie\"}],\"scatter\":[{\"marker\":{\"colorbar\":{\"outlinewidth\":0,\"ticks\":\"\"}},\"type\":\"scatter\"}],\"scatter3d\":[{\"line\":{\"colorbar\":{\"outlinewidth\":0,\"ticks\":\"\"}},\"marker\":{\"colorbar\":{\"outlinewidth\":0,\"ticks\":\"\"}},\"type\":\"scatter3d\"}],\"scattercarpet\":[{\"marker\":{\"colorbar\":{\"outlinewidth\":0,\"ticks\":\"\"}},\"type\":\"scattercarpet\"}],\"scattergeo\":[{\"marker\":{\"colorbar\":{\"outlinewidth\":0,\"ticks\":\"\"}},\"type\":\"scattergeo\"}],\"scattergl\":[{\"marker\":{\"colorbar\":{\"outlinewidth\":0,\"ticks\":\"\"}},\"type\":\"scattergl\"}],\"scattermapbox\":[{\"marker\":{\"colorbar\":{\"outlinewidth\":0,\"ticks\":\"\"}},\"type\":\"scattermapbox\"}],\"scatterpolar\":[{\"marker\":{\"colorbar\":{\"outlinewidth\":0,\"ticks\":\"\"}},\"type\":\"scatterpolar\"}],\"scatterpolargl\":[{\"marker\":{\"colorbar\":{\"outlinewidth\":0,\"ticks\":\"\"}},\"type\":\"scatterpolargl\"}],\"scatterternary\":[{\"marker\":{\"colorbar\":{\"outlinewidth\":0,\"ticks\":\"\"}},\"type\":\"scatterternary\"}],\"surface\":[{\"colorbar\":{\"outlinewidth\":0,\"ticks\":\"\"},\"colorscale\":[[0.0,\"#0d0887\"],[0.1111111111111111,\"#46039f\"],[0.2222222222222222,\"#7201a8\"],[0.3333333333333333,\"#9c179e\"],[0.4444444444444444,\"#bd3786\"],[0.5555555555555556,\"#d8576b\"],[0.6666666666666666,\"#ed7953\"],[0.7777777777777778,\"#fb9f3a\"],[0.8888888888888888,\"#fdca26\"],[1.0,\"#f0f921\"]],\"type\":\"surface\"}],\"table\":[{\"cells\":{\"fill\":{\"color\":\"#EBF0F8\"},\"line\":{\"color\":\"white\"}},\"header\":{\"fill\":{\"color\":\"#C8D4E3\"},\"line\":{\"color\":\"white\"}},\"type\":\"table\"}]},\"layout\":{\"annotationdefaults\":{\"arrowcolor\":\"#2a3f5f\",\"arrowhead\":0,\"arrowwidth\":1},\"autotypenumbers\":\"strict\",\"coloraxis\":{\"colorbar\":{\"outlinewidth\":0,\"ticks\":\"\"}},\"colorscale\":{\"diverging\":[[0,\"#8e0152\"],[0.1,\"#c51b7d\"],[0.2,\"#de77ae\"],[0.3,\"#f1b6da\"],[0.4,\"#fde0ef\"],[0.5,\"#f7f7f7\"],[0.6,\"#e6f5d0\"],[0.7,\"#b8e186\"],[0.8,\"#7fbc41\"],[0.9,\"#4d9221\"],[1,\"#276419\"]],\"sequential\":[[0.0,\"#0d0887\"],[0.1111111111111111,\"#46039f\"],[0.2222222222222222,\"#7201a8\"],[0.3333333333333333,\"#9c179e\"],[0.4444444444444444,\"#bd3786\"],[0.5555555555555556,\"#d8576b\"],[0.6666666666666666,\"#ed7953\"],[0.7777777777777778,\"#fb9f3a\"],[0.8888888888888888,\"#fdca26\"],[1.0,\"#f0f921\"]],\"sequentialminus\":[[0.0,\"#0d0887\"],[0.1111111111111111,\"#46039f\"],[0.2222222222222222,\"#7201a8\"],[0.3333333333333333,\"#9c179e\"],[0.4444444444444444,\"#bd3786\"],[0.5555555555555556,\"#d8576b\"],[0.6666666666666666,\"#ed7953\"],[0.7777777777777778,\"#fb9f3a\"],[0.8888888888888888,\"#fdca26\"],[1.0,\"#f0f921\"]]},\"colorway\":[\"#636efa\",\"#EF553B\",\"#00cc96\",\"#ab63fa\",\"#FFA15A\",\"#19d3f3\",\"#FF6692\",\"#B6E880\",\"#FF97FF\",\"#FECB52\"],\"font\":{\"color\":\"#2a3f5f\"},\"geo\":{\"bgcolor\":\"white\",\"lakecolor\":\"white\",\"landcolor\":\"#E5ECF6\",\"showlakes\":true,\"showland\":true,\"subunitcolor\":\"white\"},\"hoverlabel\":{\"align\":\"left\"},\"hovermode\":\"closest\",\"mapbox\":{\"style\":\"light\"},\"paper_bgcolor\":\"white\",\"plot_bgcolor\":\"#E5ECF6\",\"polar\":{\"angularaxis\":{\"gridcolor\":\"white\",\"linecolor\":\"white\",\"ticks\":\"\"},\"bgcolor\":\"#E5ECF6\",\"radialaxis\":{\"gridcolor\":\"white\",\"linecolor\":\"white\",\"ticks\":\"\"}},\"scene\":{\"xaxis\":{\"backgroundcolor\":\"#E5ECF6\",\"gridcolor\":\"white\",\"gridwidth\":2,\"linecolor\":\"white\",\"showbackground\":true,\"ticks\":\"\",\"zerolinecolor\":\"white\"},\"yaxis\":{\"backgroundcolor\":\"#E5ECF6\",\"gridcolor\":\"white\",\"gridwidth\":2,\"linecolor\":\"white\",\"showbackground\":true,\"ticks\":\"\",\"zerolinecolor\":\"white\"},\"zaxis\":{\"backgroundcolor\":\"#E5ECF6\",\"gridcolor\":\"white\",\"gridwidth\":2,\"linecolor\":\"white\",\"showbackground\":true,\"ticks\":\"\",\"zerolinecolor\":\"white\"}},\"shapedefaults\":{\"line\":{\"color\":\"#2a3f5f\"}},\"ternary\":{\"aaxis\":{\"gridcolor\":\"white\",\"linecolor\":\"white\",\"ticks\":\"\"},\"baxis\":{\"gridcolor\":\"white\",\"linecolor\":\"white\",\"ticks\":\"\"},\"bgcolor\":\"#E5ECF6\",\"caxis\":{\"gridcolor\":\"white\",\"linecolor\":\"white\",\"ticks\":\"\"}},\"title\":{\"x\":0.05},\"xaxis\":{\"automargin\":true,\"gridcolor\":\"white\",\"linecolor\":\"white\",\"ticks\":\"\",\"title\":{\"standoff\":15},\"zerolinecolor\":\"white\",\"zerolinewidth\":2},\"yaxis\":{\"automargin\":true,\"gridcolor\":\"white\",\"linecolor\":\"white\",\"ticks\":\"\",\"title\":{\"standoff\":15},\"zerolinecolor\":\"white\",\"zerolinewidth\":2}}},\"geo\":{\"domain\":{\"x\":[0.0,1.0],\"y\":[0.0,1.0]},\"projection\":{\"type\":\"natural earth\"},\"center\":{},\"scope\":\"world\"},\"coloraxis\":{\"colorbar\":{\"title\":{\"text\":\"avg(neuSentiment)\"}},\"colorscale\":[[0.0,\"#0d0887\"],[0.1111111111111111,\"#46039f\"],[0.2222222222222222,\"#7201a8\"],[0.3333333333333333,\"#9c179e\"],[0.4444444444444444,\"#bd3786\"],[0.5555555555555556,\"#d8576b\"],[0.6666666666666666,\"#ed7953\"],[0.7777777777777778,\"#fb9f3a\"],[0.8888888888888888,\"#fdca26\"],[1.0,\"#f0f921\"]],\"cmin\":0,\"cmax\":1},\"legend\":{\"tracegroupgap\":0},\"title\":{\"text\":\"Neutral Sentiment\"}},                        {\"responsive\": true}                    ).then(function(){\n",
              "                            \n",
              "var gd = document.getElementById('cfa135be-1ba5-4974-b49b-983dbd644cb3');\n",
              "var x = new MutationObserver(function (mutations, observer) {{\n",
              "        var display = window.getComputedStyle(gd).display;\n",
              "        if (!display || display === 'none') {{\n",
              "            console.log([gd, 'removed!']);\n",
              "            Plotly.purge(gd);\n",
              "            observer.disconnect();\n",
              "        }}\n",
              "}});\n",
              "\n",
              "// Listen for the removal of the full notebook cells\n",
              "var notebookContainer = gd.closest('#notebook-container');\n",
              "if (notebookContainer) {{\n",
              "    x.observe(notebookContainer, {childList: true});\n",
              "}}\n",
              "\n",
              "// Listen for the clearing of the current output cell\n",
              "var outputEl = gd.closest('.output');\n",
              "if (outputEl) {{\n",
              "    x.observe(outputEl, {childList: true});\n",
              "}}\n",
              "\n",
              "                        })                };                            </script>        </div>\n",
              "</body>\n",
              "</html>"
            ]
          },
          "metadata": {}
        }
      ]
    },
    {
      "cell_type": "code",
      "source": [
        "fig = px.choropleth(pandas_dfPOS, locations=\"Country\",\n",
        "                    color_continuous_scale=px.colors.sequential.Plasma, title='Positive Sentiment month July',\n",
        "                    locationmode= 'country names' , color='avg(posSentiment)',\n",
        "                    range_color=[0,1],projection='natural earth',\n",
        "                    scope ='world') \n",
        "fig.show()    "
      ],
      "metadata": {
        "colab": {
          "base_uri": "https://localhost:8080/",
          "height": 542
        },
        "id": "DOgQo8u8yNI4",
        "outputId": "d0b60613-2606-4a25-a23f-119a15ed7b63"
      },
      "execution_count": 18,
      "outputs": [
        {
          "output_type": "display_data",
          "data": {
            "text/html": [
              "<html>\n",
              "<head><meta charset=\"utf-8\" /></head>\n",
              "<body>\n",
              "    <div>            <script src=\"https://cdnjs.cloudflare.com/ajax/libs/mathjax/2.7.5/MathJax.js?config=TeX-AMS-MML_SVG\"></script><script type=\"text/javascript\">if (window.MathJax) {MathJax.Hub.Config({SVG: {font: \"STIX-Web\"}});}</script>                <script type=\"text/javascript\">window.PlotlyConfig = {MathJaxConfig: 'local'};</script>\n",
              "        <script src=\"https://cdn.plot.ly/plotly-2.8.3.min.js\"></script>                <div id=\"a323cab5-f324-4272-b5f0-681db290fcfb\" class=\"plotly-graph-div\" style=\"height:525px; width:100%;\"></div>            <script type=\"text/javascript\">                                    window.PLOTLYENV=window.PLOTLYENV || {};                                    if (document.getElementById(\"a323cab5-f324-4272-b5f0-681db290fcfb\")) {                    Plotly.newPlot(                        \"a323cab5-f324-4272-b5f0-681db290fcfb\",                        [{\"coloraxis\":\"coloraxis\",\"geo\":\"geo\",\"hovertemplate\":\"Country=%{location}<br>avg(posSentiment)=%{z}<extra></extra>\",\"locationmode\":\"country names\",\"locations\":[\"Senkaku Islands / Diaoyudao Islands / Diaoyutai Islands\",\"Fiji\",\"South Korea\",\"Algeria\",\"Finland\",\"Lesotho\",\"Canada\",\"Greece\",\"Russia\",\"Peru\",\"Turkey\",\"Papua New Guinea\",\"Czechia\",\"Mali\",\"Philippines\",\"Saudi Arabia\",\"Hungary\",\"Laos\",\"Austria\",\"New Zealand\",\"Honduras\",\"Kosovo\",\"Pakistan\",\"Panama\",\"Bosnia and Herzegovina\",\"Thailand\",\"Ireland\",\"North Korea\",\"Cyprus\",\"Iceland\",\"Sweden\",\"Australia\",\"Denmark\",\"Nigeria\",\"Taiwan\",\"Somalia\",\"Mongolia\",\"Portugal\",\"Italy\",\"South Africa\",\"Haiti\",\"Bahrain\",\"Antarctica\",\"Nepal\",\"Cuba\",\"United States\",\"North Macedonia\",\"Soul Buoy\",\"Uganda\",\"Zimbabwe\",\"Uzbekistan\",\"Singapore\",\"Trinidad and Tobago\",\"Japan\",\"Estonia\",\"Mexico\",\"Guatemala\",\"Greenland\",\"Cambodia\",\"Argentina\",\"Serbia\",\"Europe\",\"Brazil\",\"Montenegro\",\"France\",\"Oceania\",\"Germany\",\"Dominican Republic\",\"Vatican City\",\"Romania\",\"Africa\",\"Afghanistan\",\"Kuwait\",\"United Kingdom\",\"Venezuela\",\"Colombia\",\"Poland\",\"Malaysia\",\"North America\",\"Vietnam\",\"Kenya\",\"Spain\",\"Indonesia\",\"Qatar\",\"Sri Lanka\",\"Egypt\",\"China\",\"Bangladesh\",\"Ghana\",\"United Arab Emirates\",\"Jamaica\",\"Ukraine\",\"Netherlands\",\"Israel\",\"Belgium\",\"Chile\",\"Ecuador\",\"India\",\"Norway\",\"Switzerland\",\"Iran\",\"Belarus\"],\"name\":\"\",\"z\":[0.1752500031143427,0.3360000103712082,0.2020000017115048,0.5350000262260437,0.17342857590743474,0.1720000058412552,0.19989177564489635,0.2591666653752327,0.1674999983182975,0.18100000048677126,0.16233333200216293,0.1720000058412552,0.1662857128041131,0.17399999499320984,0.2080000013113022,0.17114285752177238,0.19861538564929596,0.1340000033378601,0.2224000036716461,0.21099999994039537,0.1089999998609225,0.47599998116493225,0.13942857193095343,0.2610000018030405,0.18766666948795319,0.2659999966621399,0.21136363680389794,0.35899999737739563,0.1938000053167343,0.13699999451637268,0.19410526399549685,0.20380172396785226,0.14312500040978193,0.19585714489221573,0.2165999948978424,0.18949999287724495,0.13199999928474426,0.15311111013094583,0.18466666961709657,0.15724999643862247,0.3400000035762787,0.5519999861717224,0.18150000274181366,0.28299999237060547,0.22833333412806192,0.20761397580288887,0.10533333073059718,0.09300000220537186,0.18975000083446503,0.1720000058412552,0.10300000011920929,0.19450000002980233,0.16133333245913187,0.208833330993851,0.1120000034570694,0.1906666656335195,0.20900000631809235,0.09099999815225601,0.16100000217556953,0.12799999780125088,0.1805000025779009,0.1613999992609024,0.19017646856167736,0.32099999487400055,0.20099999954303105,0.22699999809265137,0.18776086936502354,0.16433333605527878,0.12399999797344208,0.2298000007867813,0.15800000727176666,0.33799999952316284,0.07699999958276749,0.19464912299851053,0.1292999990284443,0.15840000361204148,0.1825833348557353,0.11880000159144402,0.1322500016540289,0.1502500008791685,0.06300000101327896,0.23031818189404227,0.1325882348944159,0.125,0.08525000046938658,0.2930000126361847,0.16706666660805544,0.16419999897480012,0.36166666944821674,0.08300000056624413,0.1340000033378601,0.20287499967962502,0.20695238223388082,0.16566666712363562,0.1762000009417534,0.08699999749660492,0.25500000019868213,0.16867618968799,0.21866665904720625,0.1369999987738473,0.1887499988079071,0.0820000022649765],\"type\":\"choropleth\"}],                        {\"template\":{\"data\":{\"bar\":[{\"error_x\":{\"color\":\"#2a3f5f\"},\"error_y\":{\"color\":\"#2a3f5f\"},\"marker\":{\"line\":{\"color\":\"#E5ECF6\",\"width\":0.5},\"pattern\":{\"fillmode\":\"overlay\",\"size\":10,\"solidity\":0.2}},\"type\":\"bar\"}],\"barpolar\":[{\"marker\":{\"line\":{\"color\":\"#E5ECF6\",\"width\":0.5},\"pattern\":{\"fillmode\":\"overlay\",\"size\":10,\"solidity\":0.2}},\"type\":\"barpolar\"}],\"carpet\":[{\"aaxis\":{\"endlinecolor\":\"#2a3f5f\",\"gridcolor\":\"white\",\"linecolor\":\"white\",\"minorgridcolor\":\"white\",\"startlinecolor\":\"#2a3f5f\"},\"baxis\":{\"endlinecolor\":\"#2a3f5f\",\"gridcolor\":\"white\",\"linecolor\":\"white\",\"minorgridcolor\":\"white\",\"startlinecolor\":\"#2a3f5f\"},\"type\":\"carpet\"}],\"choropleth\":[{\"colorbar\":{\"outlinewidth\":0,\"ticks\":\"\"},\"type\":\"choropleth\"}],\"contour\":[{\"colorbar\":{\"outlinewidth\":0,\"ticks\":\"\"},\"colorscale\":[[0.0,\"#0d0887\"],[0.1111111111111111,\"#46039f\"],[0.2222222222222222,\"#7201a8\"],[0.3333333333333333,\"#9c179e\"],[0.4444444444444444,\"#bd3786\"],[0.5555555555555556,\"#d8576b\"],[0.6666666666666666,\"#ed7953\"],[0.7777777777777778,\"#fb9f3a\"],[0.8888888888888888,\"#fdca26\"],[1.0,\"#f0f921\"]],\"type\":\"contour\"}],\"contourcarpet\":[{\"colorbar\":{\"outlinewidth\":0,\"ticks\":\"\"},\"type\":\"contourcarpet\"}],\"heatmap\":[{\"colorbar\":{\"outlinewidth\":0,\"ticks\":\"\"},\"colorscale\":[[0.0,\"#0d0887\"],[0.1111111111111111,\"#46039f\"],[0.2222222222222222,\"#7201a8\"],[0.3333333333333333,\"#9c179e\"],[0.4444444444444444,\"#bd3786\"],[0.5555555555555556,\"#d8576b\"],[0.6666666666666666,\"#ed7953\"],[0.7777777777777778,\"#fb9f3a\"],[0.8888888888888888,\"#fdca26\"],[1.0,\"#f0f921\"]],\"type\":\"heatmap\"}],\"heatmapgl\":[{\"colorbar\":{\"outlinewidth\":0,\"ticks\":\"\"},\"colorscale\":[[0.0,\"#0d0887\"],[0.1111111111111111,\"#46039f\"],[0.2222222222222222,\"#7201a8\"],[0.3333333333333333,\"#9c179e\"],[0.4444444444444444,\"#bd3786\"],[0.5555555555555556,\"#d8576b\"],[0.6666666666666666,\"#ed7953\"],[0.7777777777777778,\"#fb9f3a\"],[0.8888888888888888,\"#fdca26\"],[1.0,\"#f0f921\"]],\"type\":\"heatmapgl\"}],\"histogram\":[{\"marker\":{\"pattern\":{\"fillmode\":\"overlay\",\"size\":10,\"solidity\":0.2}},\"type\":\"histogram\"}],\"histogram2d\":[{\"colorbar\":{\"outlinewidth\":0,\"ticks\":\"\"},\"colorscale\":[[0.0,\"#0d0887\"],[0.1111111111111111,\"#46039f\"],[0.2222222222222222,\"#7201a8\"],[0.3333333333333333,\"#9c179e\"],[0.4444444444444444,\"#bd3786\"],[0.5555555555555556,\"#d8576b\"],[0.6666666666666666,\"#ed7953\"],[0.7777777777777778,\"#fb9f3a\"],[0.8888888888888888,\"#fdca26\"],[1.0,\"#f0f921\"]],\"type\":\"histogram2d\"}],\"histogram2dcontour\":[{\"colorbar\":{\"outlinewidth\":0,\"ticks\":\"\"},\"colorscale\":[[0.0,\"#0d0887\"],[0.1111111111111111,\"#46039f\"],[0.2222222222222222,\"#7201a8\"],[0.3333333333333333,\"#9c179e\"],[0.4444444444444444,\"#bd3786\"],[0.5555555555555556,\"#d8576b\"],[0.6666666666666666,\"#ed7953\"],[0.7777777777777778,\"#fb9f3a\"],[0.8888888888888888,\"#fdca26\"],[1.0,\"#f0f921\"]],\"type\":\"histogram2dcontour\"}],\"mesh3d\":[{\"colorbar\":{\"outlinewidth\":0,\"ticks\":\"\"},\"type\":\"mesh3d\"}],\"parcoords\":[{\"line\":{\"colorbar\":{\"outlinewidth\":0,\"ticks\":\"\"}},\"type\":\"parcoords\"}],\"pie\":[{\"automargin\":true,\"type\":\"pie\"}],\"scatter\":[{\"marker\":{\"colorbar\":{\"outlinewidth\":0,\"ticks\":\"\"}},\"type\":\"scatter\"}],\"scatter3d\":[{\"line\":{\"colorbar\":{\"outlinewidth\":0,\"ticks\":\"\"}},\"marker\":{\"colorbar\":{\"outlinewidth\":0,\"ticks\":\"\"}},\"type\":\"scatter3d\"}],\"scattercarpet\":[{\"marker\":{\"colorbar\":{\"outlinewidth\":0,\"ticks\":\"\"}},\"type\":\"scattercarpet\"}],\"scattergeo\":[{\"marker\":{\"colorbar\":{\"outlinewidth\":0,\"ticks\":\"\"}},\"type\":\"scattergeo\"}],\"scattergl\":[{\"marker\":{\"colorbar\":{\"outlinewidth\":0,\"ticks\":\"\"}},\"type\":\"scattergl\"}],\"scattermapbox\":[{\"marker\":{\"colorbar\":{\"outlinewidth\":0,\"ticks\":\"\"}},\"type\":\"scattermapbox\"}],\"scatterpolar\":[{\"marker\":{\"colorbar\":{\"outlinewidth\":0,\"ticks\":\"\"}},\"type\":\"scatterpolar\"}],\"scatterpolargl\":[{\"marker\":{\"colorbar\":{\"outlinewidth\":0,\"ticks\":\"\"}},\"type\":\"scatterpolargl\"}],\"scatterternary\":[{\"marker\":{\"colorbar\":{\"outlinewidth\":0,\"ticks\":\"\"}},\"type\":\"scatterternary\"}],\"surface\":[{\"colorbar\":{\"outlinewidth\":0,\"ticks\":\"\"},\"colorscale\":[[0.0,\"#0d0887\"],[0.1111111111111111,\"#46039f\"],[0.2222222222222222,\"#7201a8\"],[0.3333333333333333,\"#9c179e\"],[0.4444444444444444,\"#bd3786\"],[0.5555555555555556,\"#d8576b\"],[0.6666666666666666,\"#ed7953\"],[0.7777777777777778,\"#fb9f3a\"],[0.8888888888888888,\"#fdca26\"],[1.0,\"#f0f921\"]],\"type\":\"surface\"}],\"table\":[{\"cells\":{\"fill\":{\"color\":\"#EBF0F8\"},\"line\":{\"color\":\"white\"}},\"header\":{\"fill\":{\"color\":\"#C8D4E3\"},\"line\":{\"color\":\"white\"}},\"type\":\"table\"}]},\"layout\":{\"annotationdefaults\":{\"arrowcolor\":\"#2a3f5f\",\"arrowhead\":0,\"arrowwidth\":1},\"autotypenumbers\":\"strict\",\"coloraxis\":{\"colorbar\":{\"outlinewidth\":0,\"ticks\":\"\"}},\"colorscale\":{\"diverging\":[[0,\"#8e0152\"],[0.1,\"#c51b7d\"],[0.2,\"#de77ae\"],[0.3,\"#f1b6da\"],[0.4,\"#fde0ef\"],[0.5,\"#f7f7f7\"],[0.6,\"#e6f5d0\"],[0.7,\"#b8e186\"],[0.8,\"#7fbc41\"],[0.9,\"#4d9221\"],[1,\"#276419\"]],\"sequential\":[[0.0,\"#0d0887\"],[0.1111111111111111,\"#46039f\"],[0.2222222222222222,\"#7201a8\"],[0.3333333333333333,\"#9c179e\"],[0.4444444444444444,\"#bd3786\"],[0.5555555555555556,\"#d8576b\"],[0.6666666666666666,\"#ed7953\"],[0.7777777777777778,\"#fb9f3a\"],[0.8888888888888888,\"#fdca26\"],[1.0,\"#f0f921\"]],\"sequentialminus\":[[0.0,\"#0d0887\"],[0.1111111111111111,\"#46039f\"],[0.2222222222222222,\"#7201a8\"],[0.3333333333333333,\"#9c179e\"],[0.4444444444444444,\"#bd3786\"],[0.5555555555555556,\"#d8576b\"],[0.6666666666666666,\"#ed7953\"],[0.7777777777777778,\"#fb9f3a\"],[0.8888888888888888,\"#fdca26\"],[1.0,\"#f0f921\"]]},\"colorway\":[\"#636efa\",\"#EF553B\",\"#00cc96\",\"#ab63fa\",\"#FFA15A\",\"#19d3f3\",\"#FF6692\",\"#B6E880\",\"#FF97FF\",\"#FECB52\"],\"font\":{\"color\":\"#2a3f5f\"},\"geo\":{\"bgcolor\":\"white\",\"lakecolor\":\"white\",\"landcolor\":\"#E5ECF6\",\"showlakes\":true,\"showland\":true,\"subunitcolor\":\"white\"},\"hoverlabel\":{\"align\":\"left\"},\"hovermode\":\"closest\",\"mapbox\":{\"style\":\"light\"},\"paper_bgcolor\":\"white\",\"plot_bgcolor\":\"#E5ECF6\",\"polar\":{\"angularaxis\":{\"gridcolor\":\"white\",\"linecolor\":\"white\",\"ticks\":\"\"},\"bgcolor\":\"#E5ECF6\",\"radialaxis\":{\"gridcolor\":\"white\",\"linecolor\":\"white\",\"ticks\":\"\"}},\"scene\":{\"xaxis\":{\"backgroundcolor\":\"#E5ECF6\",\"gridcolor\":\"white\",\"gridwidth\":2,\"linecolor\":\"white\",\"showbackground\":true,\"ticks\":\"\",\"zerolinecolor\":\"white\"},\"yaxis\":{\"backgroundcolor\":\"#E5ECF6\",\"gridcolor\":\"white\",\"gridwidth\":2,\"linecolor\":\"white\",\"showbackground\":true,\"ticks\":\"\",\"zerolinecolor\":\"white\"},\"zaxis\":{\"backgroundcolor\":\"#E5ECF6\",\"gridcolor\":\"white\",\"gridwidth\":2,\"linecolor\":\"white\",\"showbackground\":true,\"ticks\":\"\",\"zerolinecolor\":\"white\"}},\"shapedefaults\":{\"line\":{\"color\":\"#2a3f5f\"}},\"ternary\":{\"aaxis\":{\"gridcolor\":\"white\",\"linecolor\":\"white\",\"ticks\":\"\"},\"baxis\":{\"gridcolor\":\"white\",\"linecolor\":\"white\",\"ticks\":\"\"},\"bgcolor\":\"#E5ECF6\",\"caxis\":{\"gridcolor\":\"white\",\"linecolor\":\"white\",\"ticks\":\"\"}},\"title\":{\"x\":0.05},\"xaxis\":{\"automargin\":true,\"gridcolor\":\"white\",\"linecolor\":\"white\",\"ticks\":\"\",\"title\":{\"standoff\":15},\"zerolinecolor\":\"white\",\"zerolinewidth\":2},\"yaxis\":{\"automargin\":true,\"gridcolor\":\"white\",\"linecolor\":\"white\",\"ticks\":\"\",\"title\":{\"standoff\":15},\"zerolinecolor\":\"white\",\"zerolinewidth\":2}}},\"geo\":{\"domain\":{\"x\":[0.0,1.0],\"y\":[0.0,1.0]},\"projection\":{\"type\":\"natural earth\"},\"center\":{},\"scope\":\"world\"},\"coloraxis\":{\"colorbar\":{\"title\":{\"text\":\"avg(posSentiment)\"}},\"colorscale\":[[0.0,\"#0d0887\"],[0.1111111111111111,\"#46039f\"],[0.2222222222222222,\"#7201a8\"],[0.3333333333333333,\"#9c179e\"],[0.4444444444444444,\"#bd3786\"],[0.5555555555555556,\"#d8576b\"],[0.6666666666666666,\"#ed7953\"],[0.7777777777777778,\"#fb9f3a\"],[0.8888888888888888,\"#fdca26\"],[1.0,\"#f0f921\"]],\"cmin\":0,\"cmax\":1},\"legend\":{\"tracegroupgap\":0},\"title\":{\"text\":\"Positive Sentiment month July\"}},                        {\"responsive\": true}                    ).then(function(){\n",
              "                            \n",
              "var gd = document.getElementById('a323cab5-f324-4272-b5f0-681db290fcfb');\n",
              "var x = new MutationObserver(function (mutations, observer) {{\n",
              "        var display = window.getComputedStyle(gd).display;\n",
              "        if (!display || display === 'none') {{\n",
              "            console.log([gd, 'removed!']);\n",
              "            Plotly.purge(gd);\n",
              "            observer.disconnect();\n",
              "        }}\n",
              "}});\n",
              "\n",
              "// Listen for the removal of the full notebook cells\n",
              "var notebookContainer = gd.closest('#notebook-container');\n",
              "if (notebookContainer) {{\n",
              "    x.observe(notebookContainer, {childList: true});\n",
              "}}\n",
              "\n",
              "// Listen for the clearing of the current output cell\n",
              "var outputEl = gd.closest('.output');\n",
              "if (outputEl) {{\n",
              "    x.observe(outputEl, {childList: true});\n",
              "}}\n",
              "\n",
              "                        })                };                            </script>        </div>\n",
              "</body>\n",
              "</html>"
            ]
          },
          "metadata": {}
        }
      ]
    },
    {
      "cell_type": "code",
      "source": [
        "fig = px.choropleth(pandas_dfNEG, locations=\"Country\",\n",
        "                    color_continuous_scale=px.colors.sequential.Plasma, title='Negative Sentiment month July',\n",
        "                    locationmode= 'country names' , color='avg(negSentiment)',\n",
        "                    range_color=[0,1],projection='natural earth',\n",
        "                    scope ='world') \n",
        "fig.show()"
      ],
      "metadata": {
        "colab": {
          "base_uri": "https://localhost:8080/",
          "height": 542
        },
        "id": "Nm6VAE5NyU20",
        "outputId": "f77a5456-54c2-4758-90cf-232cbb679810"
      },
      "execution_count": 19,
      "outputs": [
        {
          "output_type": "display_data",
          "data": {
            "text/html": [
              "<html>\n",
              "<head><meta charset=\"utf-8\" /></head>\n",
              "<body>\n",
              "    <div>            <script src=\"https://cdnjs.cloudflare.com/ajax/libs/mathjax/2.7.5/MathJax.js?config=TeX-AMS-MML_SVG\"></script><script type=\"text/javascript\">if (window.MathJax) {MathJax.Hub.Config({SVG: {font: \"STIX-Web\"}});}</script>                <script type=\"text/javascript\">window.PlotlyConfig = {MathJaxConfig: 'local'};</script>\n",
              "        <script src=\"https://cdn.plot.ly/plotly-2.8.3.min.js\"></script>                <div id=\"31adf3d9-8ed3-4100-8c06-00301e83626d\" class=\"plotly-graph-div\" style=\"height:525px; width:100%;\"></div>            <script type=\"text/javascript\">                                    window.PLOTLYENV=window.PLOTLYENV || {};                                    if (document.getElementById(\"31adf3d9-8ed3-4100-8c06-00301e83626d\")) {                    Plotly.newPlot(                        \"31adf3d9-8ed3-4100-8c06-00301e83626d\",                        [{\"coloraxis\":\"coloraxis\",\"geo\":\"geo\",\"hovertemplate\":\"Country=%{location}<br>avg(negSentiment)=%{z}<extra></extra>\",\"locationmode\":\"country names\",\"locations\":[\"Saudi Arabia\",\"Georgia\",\"Azerbaijan\",\"Trinidad and Tobago\",\"South Pole\",\"East Timor\",\"Senkaku Islands / Diaoyudao Islands / Diaoyutai Islands\",\"Italy\",\"Ghana\",\"Oceania\",\"Panama\",\"North Macedonia\",\"Nicaragua\",\"Honduras\",\"Asia\",\"Canada\",\"Lebanon\",\"Israel\",\"Australia\",\"Serbia\",\"Russia\",\"Colombia\",\"Lithuania\",\"Palestinian Territory\",\"Malaysia\",\"United Kingdom\",\"Pakistan\",\"Sri Lanka\",\"Croatia\",\"Cambodia\",\"Estonia\",\"South Korea\",\"Costa Rica\",\"Philippines\",\"Myanmar\",\"Japan\",\"Netherlands\",\"Spain\",\"Ecuador\",\"Fiji\",\"Syria\",\"Luxembourg\",\"Czechia\",\"Sahrawi Arab Democratic Republic\",\"Belgium\",\"Kenya\",\"Monaco\",\"Bulgaria\",\"Germany\",\"South America\",\"North Korea\",\"Bolivia\",\"Africa\",\"Chile\",\"Democratic Republic of the Congo\",\"Uruguay\",\"South Africa\",\"Uganda\",\"Bangladesh\",\"Gabon\",\"Brazil\",\"Cameroon\",\"New Zealand\",\"North America\",\"Taiwan\",\"Slovakia\",\"Antarctica\",\"India\",\"United Arab Emirates\",\"Zambia\",\"Latvia\",\"Egypt\",\"Dominican Republic\",\"Indonesia\",\"Europe\",\"El Salvador\",\"Hungary\",\"Iceland\",\"Finland\",\"Greece\",\"Zimbabwe\",\"Guatemala\",\"Eritrea\",\"Belarus\",\"Denmark\",\"Liberia\",\"Malta\",\"Ukraine\",\"Sweden\",\"Norway\",\"Cyprus\",\"Jamaica\",\"East Siberian Sea\",\"Ireland\",\"Venezuela\",\"Tanzania\",\"Mexico\",\"China\",\"Iraq\",\"Vietnam\",\"Bosnia and Herzegovina\",\"Peru\",\"Romania\",\"Albania\",\"The Bahamas\",\"Argentina\",\"Thailand\",\"Ethiopia\",\"United States\",\"Switzerland\",\"Singapore\",\"Nigeria\",\"Turkey\",\"Austria\",\"Belize\",\"Moldova\",\"Paraguay\",\"Armenia\",\"Mongolia\",\"North Pole\",\"France\",\"Poland\",\"Iran\",\"Portugal\"],\"name\":\"\",\"z\":[0.31700000166893005,0.3100000023841858,0.16950000077486038,0.23600000143051147,0.10599999874830246,0.17299999296665192,0.15599999949336052,0.18924999857942262,0.27199999801814556,0.12600000202655792,0.16833333174387613,0.13699999451637268,0.3059999942779541,0.46399998664855957,0.23100000619888306,0.22030144884534505,0.24300000071525574,0.14542857397879874,0.22448186570575818,0.18100000048677126,0.19381818231759648,0.22262499667704105,0.27033333232005435,0.31200000643730164,0.17888889296187294,0.2225166047369972,0.15925926246024943,0.17755555568469894,0.16699999570846558,0.28550000488758087,0.15899999936421713,0.13199999928474426,0.20399999618530273,0.21659090945666487,0.19550000131130219,0.20033999994397164,0.2025384627855741,0.2141111104024781,0.20700000023299997,0.21699999272823334,0.14800000190734863,0.1120000034570694,0.1578000009059906,0.10000000149011612,0.2043333351612091,0.27919999957084657,0.36800000071525574,0.2370000034570694,0.2148850571321345,0.25699999928474426,0.22699999809265137,0.414000004529953,0.18299999833106995,0.18607692363170478,0.1940000057220459,0.13699999824166298,0.22642856942755835,0.1971666639049848,0.2893333286046982,0.20800000429153442,0.2138518519975521,0.18000000715255737,0.21853333314259846,0.18325000256299973,0.18999999998645348,0.08900000154972076,0.21299999952316284,0.21598000034689904,0.18216666827599207,0.19300000369548798,0.18066666026910147,0.3634999990463257,0.29383333896597225,0.1765937504824251,0.2795714299593653,0.11999999731779099,0.21312000066041947,0.19633333633343378,0.14546153809015566,0.19144444581535128,0.21199999749660492,0.3059999942779541,0.23100000619888306,0.2889999970793724,0.23194117668796987,0.09099999815225601,0.10300000011920929,0.21919736962177253,0.16357894751586413,0.21699999868869782,0.16500000059604644,0.12600000202655792,0.3100000023841858,0.22159999992166246,0.19036666477719943,0.20014285721949168,0.20053124893456697,0.18809803823630014,0.21199999749660492,0.20624999701976776,0.2749999985098839,0.17266666806406444,0.1944285716329302,0.2849999964237213,0.2240000069141388,0.18332142861826078,0.12899999959128244,0.13379999995231628,0.21196162391110046,0.19495000019669534,0.1772142866892474,0.2250714280775615,0.27019999623298646,0.21342856969152177,0.14800000190734863,0.14800000190734863,0.16466666758060455,0.15516666819651923,0.3747142766203199,0.16200000047683716,0.228853657296518,0.22394117614363923,0.2407142807330404,0.19990000016987325],\"type\":\"choropleth\"}],                        {\"template\":{\"data\":{\"bar\":[{\"error_x\":{\"color\":\"#2a3f5f\"},\"error_y\":{\"color\":\"#2a3f5f\"},\"marker\":{\"line\":{\"color\":\"#E5ECF6\",\"width\":0.5},\"pattern\":{\"fillmode\":\"overlay\",\"size\":10,\"solidity\":0.2}},\"type\":\"bar\"}],\"barpolar\":[{\"marker\":{\"line\":{\"color\":\"#E5ECF6\",\"width\":0.5},\"pattern\":{\"fillmode\":\"overlay\",\"size\":10,\"solidity\":0.2}},\"type\":\"barpolar\"}],\"carpet\":[{\"aaxis\":{\"endlinecolor\":\"#2a3f5f\",\"gridcolor\":\"white\",\"linecolor\":\"white\",\"minorgridcolor\":\"white\",\"startlinecolor\":\"#2a3f5f\"},\"baxis\":{\"endlinecolor\":\"#2a3f5f\",\"gridcolor\":\"white\",\"linecolor\":\"white\",\"minorgridcolor\":\"white\",\"startlinecolor\":\"#2a3f5f\"},\"type\":\"carpet\"}],\"choropleth\":[{\"colorbar\":{\"outlinewidth\":0,\"ticks\":\"\"},\"type\":\"choropleth\"}],\"contour\":[{\"colorbar\":{\"outlinewidth\":0,\"ticks\":\"\"},\"colorscale\":[[0.0,\"#0d0887\"],[0.1111111111111111,\"#46039f\"],[0.2222222222222222,\"#7201a8\"],[0.3333333333333333,\"#9c179e\"],[0.4444444444444444,\"#bd3786\"],[0.5555555555555556,\"#d8576b\"],[0.6666666666666666,\"#ed7953\"],[0.7777777777777778,\"#fb9f3a\"],[0.8888888888888888,\"#fdca26\"],[1.0,\"#f0f921\"]],\"type\":\"contour\"}],\"contourcarpet\":[{\"colorbar\":{\"outlinewidth\":0,\"ticks\":\"\"},\"type\":\"contourcarpet\"}],\"heatmap\":[{\"colorbar\":{\"outlinewidth\":0,\"ticks\":\"\"},\"colorscale\":[[0.0,\"#0d0887\"],[0.1111111111111111,\"#46039f\"],[0.2222222222222222,\"#7201a8\"],[0.3333333333333333,\"#9c179e\"],[0.4444444444444444,\"#bd3786\"],[0.5555555555555556,\"#d8576b\"],[0.6666666666666666,\"#ed7953\"],[0.7777777777777778,\"#fb9f3a\"],[0.8888888888888888,\"#fdca26\"],[1.0,\"#f0f921\"]],\"type\":\"heatmap\"}],\"heatmapgl\":[{\"colorbar\":{\"outlinewidth\":0,\"ticks\":\"\"},\"colorscale\":[[0.0,\"#0d0887\"],[0.1111111111111111,\"#46039f\"],[0.2222222222222222,\"#7201a8\"],[0.3333333333333333,\"#9c179e\"],[0.4444444444444444,\"#bd3786\"],[0.5555555555555556,\"#d8576b\"],[0.6666666666666666,\"#ed7953\"],[0.7777777777777778,\"#fb9f3a\"],[0.8888888888888888,\"#fdca26\"],[1.0,\"#f0f921\"]],\"type\":\"heatmapgl\"}],\"histogram\":[{\"marker\":{\"pattern\":{\"fillmode\":\"overlay\",\"size\":10,\"solidity\":0.2}},\"type\":\"histogram\"}],\"histogram2d\":[{\"colorbar\":{\"outlinewidth\":0,\"ticks\":\"\"},\"colorscale\":[[0.0,\"#0d0887\"],[0.1111111111111111,\"#46039f\"],[0.2222222222222222,\"#7201a8\"],[0.3333333333333333,\"#9c179e\"],[0.4444444444444444,\"#bd3786\"],[0.5555555555555556,\"#d8576b\"],[0.6666666666666666,\"#ed7953\"],[0.7777777777777778,\"#fb9f3a\"],[0.8888888888888888,\"#fdca26\"],[1.0,\"#f0f921\"]],\"type\":\"histogram2d\"}],\"histogram2dcontour\":[{\"colorbar\":{\"outlinewidth\":0,\"ticks\":\"\"},\"colorscale\":[[0.0,\"#0d0887\"],[0.1111111111111111,\"#46039f\"],[0.2222222222222222,\"#7201a8\"],[0.3333333333333333,\"#9c179e\"],[0.4444444444444444,\"#bd3786\"],[0.5555555555555556,\"#d8576b\"],[0.6666666666666666,\"#ed7953\"],[0.7777777777777778,\"#fb9f3a\"],[0.8888888888888888,\"#fdca26\"],[1.0,\"#f0f921\"]],\"type\":\"histogram2dcontour\"}],\"mesh3d\":[{\"colorbar\":{\"outlinewidth\":0,\"ticks\":\"\"},\"type\":\"mesh3d\"}],\"parcoords\":[{\"line\":{\"colorbar\":{\"outlinewidth\":0,\"ticks\":\"\"}},\"type\":\"parcoords\"}],\"pie\":[{\"automargin\":true,\"type\":\"pie\"}],\"scatter\":[{\"marker\":{\"colorbar\":{\"outlinewidth\":0,\"ticks\":\"\"}},\"type\":\"scatter\"}],\"scatter3d\":[{\"line\":{\"colorbar\":{\"outlinewidth\":0,\"ticks\":\"\"}},\"marker\":{\"colorbar\":{\"outlinewidth\":0,\"ticks\":\"\"}},\"type\":\"scatter3d\"}],\"scattercarpet\":[{\"marker\":{\"colorbar\":{\"outlinewidth\":0,\"ticks\":\"\"}},\"type\":\"scattercarpet\"}],\"scattergeo\":[{\"marker\":{\"colorbar\":{\"outlinewidth\":0,\"ticks\":\"\"}},\"type\":\"scattergeo\"}],\"scattergl\":[{\"marker\":{\"colorbar\":{\"outlinewidth\":0,\"ticks\":\"\"}},\"type\":\"scattergl\"}],\"scattermapbox\":[{\"marker\":{\"colorbar\":{\"outlinewidth\":0,\"ticks\":\"\"}},\"type\":\"scattermapbox\"}],\"scatterpolar\":[{\"marker\":{\"colorbar\":{\"outlinewidth\":0,\"ticks\":\"\"}},\"type\":\"scatterpolar\"}],\"scatterpolargl\":[{\"marker\":{\"colorbar\":{\"outlinewidth\":0,\"ticks\":\"\"}},\"type\":\"scatterpolargl\"}],\"scatterternary\":[{\"marker\":{\"colorbar\":{\"outlinewidth\":0,\"ticks\":\"\"}},\"type\":\"scatterternary\"}],\"surface\":[{\"colorbar\":{\"outlinewidth\":0,\"ticks\":\"\"},\"colorscale\":[[0.0,\"#0d0887\"],[0.1111111111111111,\"#46039f\"],[0.2222222222222222,\"#7201a8\"],[0.3333333333333333,\"#9c179e\"],[0.4444444444444444,\"#bd3786\"],[0.5555555555555556,\"#d8576b\"],[0.6666666666666666,\"#ed7953\"],[0.7777777777777778,\"#fb9f3a\"],[0.8888888888888888,\"#fdca26\"],[1.0,\"#f0f921\"]],\"type\":\"surface\"}],\"table\":[{\"cells\":{\"fill\":{\"color\":\"#EBF0F8\"},\"line\":{\"color\":\"white\"}},\"header\":{\"fill\":{\"color\":\"#C8D4E3\"},\"line\":{\"color\":\"white\"}},\"type\":\"table\"}]},\"layout\":{\"annotationdefaults\":{\"arrowcolor\":\"#2a3f5f\",\"arrowhead\":0,\"arrowwidth\":1},\"autotypenumbers\":\"strict\",\"coloraxis\":{\"colorbar\":{\"outlinewidth\":0,\"ticks\":\"\"}},\"colorscale\":{\"diverging\":[[0,\"#8e0152\"],[0.1,\"#c51b7d\"],[0.2,\"#de77ae\"],[0.3,\"#f1b6da\"],[0.4,\"#fde0ef\"],[0.5,\"#f7f7f7\"],[0.6,\"#e6f5d0\"],[0.7,\"#b8e186\"],[0.8,\"#7fbc41\"],[0.9,\"#4d9221\"],[1,\"#276419\"]],\"sequential\":[[0.0,\"#0d0887\"],[0.1111111111111111,\"#46039f\"],[0.2222222222222222,\"#7201a8\"],[0.3333333333333333,\"#9c179e\"],[0.4444444444444444,\"#bd3786\"],[0.5555555555555556,\"#d8576b\"],[0.6666666666666666,\"#ed7953\"],[0.7777777777777778,\"#fb9f3a\"],[0.8888888888888888,\"#fdca26\"],[1.0,\"#f0f921\"]],\"sequentialminus\":[[0.0,\"#0d0887\"],[0.1111111111111111,\"#46039f\"],[0.2222222222222222,\"#7201a8\"],[0.3333333333333333,\"#9c179e\"],[0.4444444444444444,\"#bd3786\"],[0.5555555555555556,\"#d8576b\"],[0.6666666666666666,\"#ed7953\"],[0.7777777777777778,\"#fb9f3a\"],[0.8888888888888888,\"#fdca26\"],[1.0,\"#f0f921\"]]},\"colorway\":[\"#636efa\",\"#EF553B\",\"#00cc96\",\"#ab63fa\",\"#FFA15A\",\"#19d3f3\",\"#FF6692\",\"#B6E880\",\"#FF97FF\",\"#FECB52\"],\"font\":{\"color\":\"#2a3f5f\"},\"geo\":{\"bgcolor\":\"white\",\"lakecolor\":\"white\",\"landcolor\":\"#E5ECF6\",\"showlakes\":true,\"showland\":true,\"subunitcolor\":\"white\"},\"hoverlabel\":{\"align\":\"left\"},\"hovermode\":\"closest\",\"mapbox\":{\"style\":\"light\"},\"paper_bgcolor\":\"white\",\"plot_bgcolor\":\"#E5ECF6\",\"polar\":{\"angularaxis\":{\"gridcolor\":\"white\",\"linecolor\":\"white\",\"ticks\":\"\"},\"bgcolor\":\"#E5ECF6\",\"radialaxis\":{\"gridcolor\":\"white\",\"linecolor\":\"white\",\"ticks\":\"\"}},\"scene\":{\"xaxis\":{\"backgroundcolor\":\"#E5ECF6\",\"gridcolor\":\"white\",\"gridwidth\":2,\"linecolor\":\"white\",\"showbackground\":true,\"ticks\":\"\",\"zerolinecolor\":\"white\"},\"yaxis\":{\"backgroundcolor\":\"#E5ECF6\",\"gridcolor\":\"white\",\"gridwidth\":2,\"linecolor\":\"white\",\"showbackground\":true,\"ticks\":\"\",\"zerolinecolor\":\"white\"},\"zaxis\":{\"backgroundcolor\":\"#E5ECF6\",\"gridcolor\":\"white\",\"gridwidth\":2,\"linecolor\":\"white\",\"showbackground\":true,\"ticks\":\"\",\"zerolinecolor\":\"white\"}},\"shapedefaults\":{\"line\":{\"color\":\"#2a3f5f\"}},\"ternary\":{\"aaxis\":{\"gridcolor\":\"white\",\"linecolor\":\"white\",\"ticks\":\"\"},\"baxis\":{\"gridcolor\":\"white\",\"linecolor\":\"white\",\"ticks\":\"\"},\"bgcolor\":\"#E5ECF6\",\"caxis\":{\"gridcolor\":\"white\",\"linecolor\":\"white\",\"ticks\":\"\"}},\"title\":{\"x\":0.05},\"xaxis\":{\"automargin\":true,\"gridcolor\":\"white\",\"linecolor\":\"white\",\"ticks\":\"\",\"title\":{\"standoff\":15},\"zerolinecolor\":\"white\",\"zerolinewidth\":2},\"yaxis\":{\"automargin\":true,\"gridcolor\":\"white\",\"linecolor\":\"white\",\"ticks\":\"\",\"title\":{\"standoff\":15},\"zerolinecolor\":\"white\",\"zerolinewidth\":2}}},\"geo\":{\"domain\":{\"x\":[0.0,1.0],\"y\":[0.0,1.0]},\"projection\":{\"type\":\"natural earth\"},\"center\":{},\"scope\":\"world\"},\"coloraxis\":{\"colorbar\":{\"title\":{\"text\":\"avg(negSentiment)\"}},\"colorscale\":[[0.0,\"#0d0887\"],[0.1111111111111111,\"#46039f\"],[0.2222222222222222,\"#7201a8\"],[0.3333333333333333,\"#9c179e\"],[0.4444444444444444,\"#bd3786\"],[0.5555555555555556,\"#d8576b\"],[0.6666666666666666,\"#ed7953\"],[0.7777777777777778,\"#fb9f3a\"],[0.8888888888888888,\"#fdca26\"],[1.0,\"#f0f921\"]],\"cmin\":0,\"cmax\":1},\"legend\":{\"tracegroupgap\":0},\"title\":{\"text\":\"Negative Sentiment month July\"}},                        {\"responsive\": true}                    ).then(function(){\n",
              "                            \n",
              "var gd = document.getElementById('31adf3d9-8ed3-4100-8c06-00301e83626d');\n",
              "var x = new MutationObserver(function (mutations, observer) {{\n",
              "        var display = window.getComputedStyle(gd).display;\n",
              "        if (!display || display === 'none') {{\n",
              "            console.log([gd, 'removed!']);\n",
              "            Plotly.purge(gd);\n",
              "            observer.disconnect();\n",
              "        }}\n",
              "}});\n",
              "\n",
              "// Listen for the removal of the full notebook cells\n",
              "var notebookContainer = gd.closest('#notebook-container');\n",
              "if (notebookContainer) {{\n",
              "    x.observe(notebookContainer, {childList: true});\n",
              "}}\n",
              "\n",
              "// Listen for the clearing of the current output cell\n",
              "var outputEl = gd.closest('.output');\n",
              "if (outputEl) {{\n",
              "    x.observe(outputEl, {childList: true});\n",
              "}}\n",
              "\n",
              "                        })                };                            </script>        </div>\n",
              "</body>\n",
              "</html>"
            ]
          },
          "metadata": {}
        }
      ]
    },
    {
      "cell_type": "code",
      "source": [
        "fig = px.choropleth(pandas_dfPOS, locations=\"Country\",\n",
        "                    color_continuous_scale=px.colors.sequential.Plasma, title='Positive Sentiment month February',\n",
        "                    locationmode= 'country names' , color='avg(posSentiment)',\n",
        "                    range_color=[0,1],projection='natural earth',\n",
        "                    scope ='world') \n",
        "fig.show()    "
      ],
      "metadata": {
        "colab": {
          "base_uri": "https://localhost:8080/",
          "height": 542
        },
        "id": "hO2CbvNNtRfM",
        "outputId": "5c44f4bc-3036-40ef-9e15-304d2d60d33e"
      },
      "execution_count": 63,
      "outputs": [
        {
          "output_type": "display_data",
          "data": {
            "text/html": [
              "<html>\n",
              "<head><meta charset=\"utf-8\" /></head>\n",
              "<body>\n",
              "    <div>            <script src=\"https://cdnjs.cloudflare.com/ajax/libs/mathjax/2.7.5/MathJax.js?config=TeX-AMS-MML_SVG\"></script><script type=\"text/javascript\">if (window.MathJax) {MathJax.Hub.Config({SVG: {font: \"STIX-Web\"}});}</script>                <script type=\"text/javascript\">window.PlotlyConfig = {MathJaxConfig: 'local'};</script>\n",
              "        <script src=\"https://cdn.plot.ly/plotly-2.8.3.min.js\"></script>                <div id=\"fdfd67fb-3b78-4e99-bbd2-ebaa1fa5a0b7\" class=\"plotly-graph-div\" style=\"height:525px; width:100%;\"></div>            <script type=\"text/javascript\">                                    window.PLOTLYENV=window.PLOTLYENV || {};                                    if (document.getElementById(\"fdfd67fb-3b78-4e99-bbd2-ebaa1fa5a0b7\")) {                    Plotly.newPlot(                        \"fdfd67fb-3b78-4e99-bbd2-ebaa1fa5a0b7\",                        [{\"coloraxis\":\"coloraxis\",\"geo\":\"geo\",\"hovertemplate\":\"Country=%{location}<br>avg(posSentiment)=%{z}<extra></extra>\",\"locationmode\":\"country names\",\"locations\":[\"Liberia\",\"Tanzania\",\"South Korea\",\"Algeria\",\"Zambia\",\"Finland\",\"Lesotho\",\"Burkina Faso\",\"Canada\",\"Greece\",\"Mauritania\",\"Russia\",\"Peru\",\"Turkey\",\"Azerbaijan\",\"Czechia\",\"Mali\",\"Philippines\",\"Saudi Arabia\",\"El Salvador\",\"Hungary\",\"Laos\",\"Austria\",\"New Zealand\",\"Yemen\",\"Kosovo\",\"Oman\",\"Pakistan\",\"Bosnia and Herzegovina\",\"Jordan\",\"Thailand\",\"Ireland\",\"Slovakia\",\"Iceland\",\"Cyprus\",\"Sweden\",\"Australia\",\"Namibia\",\"Nauru\",\"Denmark\",\"Taiwan\",\"Nigeria\",\"Warsaw\",\"Somalia\",\"Mongolia\",\"Costa Rica\",\"Myanmar\",\"Portugal\",\"Latvia\",\"South Africa\",\"Italy\",\"Haiti\",\"C\\u00f4te d'Ivoire\",\"Bahrain\",\"Antarctica\",\"Senegal\",\"Nepal\",\"Cuba\",\"Paraguay\",\"United States\",\"Uganda\",\"Zimbabwe\",\"Moldova\",\"Singapore\",\"Japan\",\"Estonia\",\"Mexico\",\"Greenland\",\"Argentina\",\"Serbia\",\"Europe\",\"Brazil\",\"Georgia\",\"Montenegro\",\"France\",\"Germany\",\"Dominican Republic\",\"Slovenia\",\"Vatican City\",\"Ethiopia\",\"Croatia\",\"Romania\",\"Luxembourg\",\"Africa\",\"Guyana\",\"Kuwait\",\"Lithuania\",\"United Kingdom\",\"Palestinian Territory\",\"Venezuela\",\"Lebanon\",\"Colombia\",\"Poland\",\"Malaysia\",\"Rwanda\",\"Maldives\",\"Kazakhstan\",\"North America\",\"Kenya\",\"Vietnam\",\"Gabon\",\"Spain\",\"Indonesia\",\"Sri Lanka\",\"Bulgaria\",\"Egypt\",\"Syria\",\"China\",\"Bangladesh\",\"Ghana\",\"United Arab Emirates\",\"Jamaica\",\"Netherlands\",\"Ukraine\",\"Israel\",\"Belgium\",\"Armenia\",\"Chile\",\"Ecuador\",\"India\",\"Norway\",\"Switzerland\",\"Uruguay\",\"Iran\",\"Belarus\"],\"name\":\"\",\"z\":[0.12099999934434891,0.12500000248352686,0.14999999850988388,0.19099999964237213,0.3199999928474426,0.18308571406773158,0.1824999935925007,0.05000000074505806,0.166475556327237,0.16950000232706466,0.335999995470047,0.17929999865591525,0.1832857100026948,0.20037499978207052,0.6039999723434448,0.19249999821186065,0.17900000512599945,0.24200000117222467,0.14000000059604645,0.26600000262260437,0.13653333410620688,0.26750000193715096,0.14660000056028366,0.10983333364129066,0.16849999874830246,0.13899999856948853,0.0989999994635582,0.12470588307170306,0.21737500000745058,0.1720000058412552,0.23179999887943267,0.17674999849663842,0.17180000096559525,0.1915000006556511,0.3043333366513252,0.14810344897981348,0.14786666880051294,0.08799999952316284,0.1589999943971634,0.17171428671904973,0.16112499963492155,0.20659999847412108,0.11500000208616257,0.161599999666214,0.23399999737739563,0.1655000001192093,0.07100000232458115,0.20188235272379482,0.15460000038146973,0.17491666553542018,0.1570857128926686,0.09399999678134918,0.22200000286102295,0.16699999570846558,0.17299999296665192,0.08699999749660492,0.06400000303983688,0.18000000715255737,0.37700000405311584,0.1795467283890069,0.2590000033378601,0.28060000091791154,0.14400000125169754,0.21779999881982803,0.18552941303042805,0.154363636943427,0.15035714262298175,0.13899999856948853,0.17023077148657578,0.17633333305517832,0.18629411958596287,0.1758999966084957,0.2212500013411045,0.16849999874830246,0.18825925865934956,0.17488349507589943,0.14349999651312828,0.20719999969005584,0.26899999380111694,0.1596666673819224,0.22160000056028367,0.16920000240206717,0.26899999380111694,0.14733333140611649,0.2370000034570694,0.1730000041425228,0.17542857463870729,0.17025740382713447,0.16500000655651093,0.13320000246167182,0.19599999487400055,0.09125000005587935,0.18283018933714562,0.1788000002503395,0.27300000190734863,0.1420000046491623,0.12133333583672841,0.3400000035762787,0.1649999994445931,0.1339999958872795,0.15700000524520874,0.1595250006765127,0.12100000182787578,0.12099999934434891,0.10000000149011612,0.26266666998465854,0.5889999866485596,0.1625454556196928,0.18299999833106995,0.42499999701976776,0.2667500041425228,0.13866666704416275,0.19279487402393267,0.22549315031668912,0.182571429759264,0.18174193667307978,0.18050000071525574,0.1469999998807907,0.11100000143051147,0.18737647077616523,0.15790909054604443,0.1958823537125307,0.14499999831120172,0.2392857096024922,0.1015000008046627],\"type\":\"choropleth\"}],                        {\"template\":{\"data\":{\"bar\":[{\"error_x\":{\"color\":\"#2a3f5f\"},\"error_y\":{\"color\":\"#2a3f5f\"},\"marker\":{\"line\":{\"color\":\"#E5ECF6\",\"width\":0.5},\"pattern\":{\"fillmode\":\"overlay\",\"size\":10,\"solidity\":0.2}},\"type\":\"bar\"}],\"barpolar\":[{\"marker\":{\"line\":{\"color\":\"#E5ECF6\",\"width\":0.5},\"pattern\":{\"fillmode\":\"overlay\",\"size\":10,\"solidity\":0.2}},\"type\":\"barpolar\"}],\"carpet\":[{\"aaxis\":{\"endlinecolor\":\"#2a3f5f\",\"gridcolor\":\"white\",\"linecolor\":\"white\",\"minorgridcolor\":\"white\",\"startlinecolor\":\"#2a3f5f\"},\"baxis\":{\"endlinecolor\":\"#2a3f5f\",\"gridcolor\":\"white\",\"linecolor\":\"white\",\"minorgridcolor\":\"white\",\"startlinecolor\":\"#2a3f5f\"},\"type\":\"carpet\"}],\"choropleth\":[{\"colorbar\":{\"outlinewidth\":0,\"ticks\":\"\"},\"type\":\"choropleth\"}],\"contour\":[{\"colorbar\":{\"outlinewidth\":0,\"ticks\":\"\"},\"colorscale\":[[0.0,\"#0d0887\"],[0.1111111111111111,\"#46039f\"],[0.2222222222222222,\"#7201a8\"],[0.3333333333333333,\"#9c179e\"],[0.4444444444444444,\"#bd3786\"],[0.5555555555555556,\"#d8576b\"],[0.6666666666666666,\"#ed7953\"],[0.7777777777777778,\"#fb9f3a\"],[0.8888888888888888,\"#fdca26\"],[1.0,\"#f0f921\"]],\"type\":\"contour\"}],\"contourcarpet\":[{\"colorbar\":{\"outlinewidth\":0,\"ticks\":\"\"},\"type\":\"contourcarpet\"}],\"heatmap\":[{\"colorbar\":{\"outlinewidth\":0,\"ticks\":\"\"},\"colorscale\":[[0.0,\"#0d0887\"],[0.1111111111111111,\"#46039f\"],[0.2222222222222222,\"#7201a8\"],[0.3333333333333333,\"#9c179e\"],[0.4444444444444444,\"#bd3786\"],[0.5555555555555556,\"#d8576b\"],[0.6666666666666666,\"#ed7953\"],[0.7777777777777778,\"#fb9f3a\"],[0.8888888888888888,\"#fdca26\"],[1.0,\"#f0f921\"]],\"type\":\"heatmap\"}],\"heatmapgl\":[{\"colorbar\":{\"outlinewidth\":0,\"ticks\":\"\"},\"colorscale\":[[0.0,\"#0d0887\"],[0.1111111111111111,\"#46039f\"],[0.2222222222222222,\"#7201a8\"],[0.3333333333333333,\"#9c179e\"],[0.4444444444444444,\"#bd3786\"],[0.5555555555555556,\"#d8576b\"],[0.6666666666666666,\"#ed7953\"],[0.7777777777777778,\"#fb9f3a\"],[0.8888888888888888,\"#fdca26\"],[1.0,\"#f0f921\"]],\"type\":\"heatmapgl\"}],\"histogram\":[{\"marker\":{\"pattern\":{\"fillmode\":\"overlay\",\"size\":10,\"solidity\":0.2}},\"type\":\"histogram\"}],\"histogram2d\":[{\"colorbar\":{\"outlinewidth\":0,\"ticks\":\"\"},\"colorscale\":[[0.0,\"#0d0887\"],[0.1111111111111111,\"#46039f\"],[0.2222222222222222,\"#7201a8\"],[0.3333333333333333,\"#9c179e\"],[0.4444444444444444,\"#bd3786\"],[0.5555555555555556,\"#d8576b\"],[0.6666666666666666,\"#ed7953\"],[0.7777777777777778,\"#fb9f3a\"],[0.8888888888888888,\"#fdca26\"],[1.0,\"#f0f921\"]],\"type\":\"histogram2d\"}],\"histogram2dcontour\":[{\"colorbar\":{\"outlinewidth\":0,\"ticks\":\"\"},\"colorscale\":[[0.0,\"#0d0887\"],[0.1111111111111111,\"#46039f\"],[0.2222222222222222,\"#7201a8\"],[0.3333333333333333,\"#9c179e\"],[0.4444444444444444,\"#bd3786\"],[0.5555555555555556,\"#d8576b\"],[0.6666666666666666,\"#ed7953\"],[0.7777777777777778,\"#fb9f3a\"],[0.8888888888888888,\"#fdca26\"],[1.0,\"#f0f921\"]],\"type\":\"histogram2dcontour\"}],\"mesh3d\":[{\"colorbar\":{\"outlinewidth\":0,\"ticks\":\"\"},\"type\":\"mesh3d\"}],\"parcoords\":[{\"line\":{\"colorbar\":{\"outlinewidth\":0,\"ticks\":\"\"}},\"type\":\"parcoords\"}],\"pie\":[{\"automargin\":true,\"type\":\"pie\"}],\"scatter\":[{\"marker\":{\"colorbar\":{\"outlinewidth\":0,\"ticks\":\"\"}},\"type\":\"scatter\"}],\"scatter3d\":[{\"line\":{\"colorbar\":{\"outlinewidth\":0,\"ticks\":\"\"}},\"marker\":{\"colorbar\":{\"outlinewidth\":0,\"ticks\":\"\"}},\"type\":\"scatter3d\"}],\"scattercarpet\":[{\"marker\":{\"colorbar\":{\"outlinewidth\":0,\"ticks\":\"\"}},\"type\":\"scattercarpet\"}],\"scattergeo\":[{\"marker\":{\"colorbar\":{\"outlinewidth\":0,\"ticks\":\"\"}},\"type\":\"scattergeo\"}],\"scattergl\":[{\"marker\":{\"colorbar\":{\"outlinewidth\":0,\"ticks\":\"\"}},\"type\":\"scattergl\"}],\"scattermapbox\":[{\"marker\":{\"colorbar\":{\"outlinewidth\":0,\"ticks\":\"\"}},\"type\":\"scattermapbox\"}],\"scatterpolar\":[{\"marker\":{\"colorbar\":{\"outlinewidth\":0,\"ticks\":\"\"}},\"type\":\"scatterpolar\"}],\"scatterpolargl\":[{\"marker\":{\"colorbar\":{\"outlinewidth\":0,\"ticks\":\"\"}},\"type\":\"scatterpolargl\"}],\"scatterternary\":[{\"marker\":{\"colorbar\":{\"outlinewidth\":0,\"ticks\":\"\"}},\"type\":\"scatterternary\"}],\"surface\":[{\"colorbar\":{\"outlinewidth\":0,\"ticks\":\"\"},\"colorscale\":[[0.0,\"#0d0887\"],[0.1111111111111111,\"#46039f\"],[0.2222222222222222,\"#7201a8\"],[0.3333333333333333,\"#9c179e\"],[0.4444444444444444,\"#bd3786\"],[0.5555555555555556,\"#d8576b\"],[0.6666666666666666,\"#ed7953\"],[0.7777777777777778,\"#fb9f3a\"],[0.8888888888888888,\"#fdca26\"],[1.0,\"#f0f921\"]],\"type\":\"surface\"}],\"table\":[{\"cells\":{\"fill\":{\"color\":\"#EBF0F8\"},\"line\":{\"color\":\"white\"}},\"header\":{\"fill\":{\"color\":\"#C8D4E3\"},\"line\":{\"color\":\"white\"}},\"type\":\"table\"}]},\"layout\":{\"annotationdefaults\":{\"arrowcolor\":\"#2a3f5f\",\"arrowhead\":0,\"arrowwidth\":1},\"autotypenumbers\":\"strict\",\"coloraxis\":{\"colorbar\":{\"outlinewidth\":0,\"ticks\":\"\"}},\"colorscale\":{\"diverging\":[[0,\"#8e0152\"],[0.1,\"#c51b7d\"],[0.2,\"#de77ae\"],[0.3,\"#f1b6da\"],[0.4,\"#fde0ef\"],[0.5,\"#f7f7f7\"],[0.6,\"#e6f5d0\"],[0.7,\"#b8e186\"],[0.8,\"#7fbc41\"],[0.9,\"#4d9221\"],[1,\"#276419\"]],\"sequential\":[[0.0,\"#0d0887\"],[0.1111111111111111,\"#46039f\"],[0.2222222222222222,\"#7201a8\"],[0.3333333333333333,\"#9c179e\"],[0.4444444444444444,\"#bd3786\"],[0.5555555555555556,\"#d8576b\"],[0.6666666666666666,\"#ed7953\"],[0.7777777777777778,\"#fb9f3a\"],[0.8888888888888888,\"#fdca26\"],[1.0,\"#f0f921\"]],\"sequentialminus\":[[0.0,\"#0d0887\"],[0.1111111111111111,\"#46039f\"],[0.2222222222222222,\"#7201a8\"],[0.3333333333333333,\"#9c179e\"],[0.4444444444444444,\"#bd3786\"],[0.5555555555555556,\"#d8576b\"],[0.6666666666666666,\"#ed7953\"],[0.7777777777777778,\"#fb9f3a\"],[0.8888888888888888,\"#fdca26\"],[1.0,\"#f0f921\"]]},\"colorway\":[\"#636efa\",\"#EF553B\",\"#00cc96\",\"#ab63fa\",\"#FFA15A\",\"#19d3f3\",\"#FF6692\",\"#B6E880\",\"#FF97FF\",\"#FECB52\"],\"font\":{\"color\":\"#2a3f5f\"},\"geo\":{\"bgcolor\":\"white\",\"lakecolor\":\"white\",\"landcolor\":\"#E5ECF6\",\"showlakes\":true,\"showland\":true,\"subunitcolor\":\"white\"},\"hoverlabel\":{\"align\":\"left\"},\"hovermode\":\"closest\",\"mapbox\":{\"style\":\"light\"},\"paper_bgcolor\":\"white\",\"plot_bgcolor\":\"#E5ECF6\",\"polar\":{\"angularaxis\":{\"gridcolor\":\"white\",\"linecolor\":\"white\",\"ticks\":\"\"},\"bgcolor\":\"#E5ECF6\",\"radialaxis\":{\"gridcolor\":\"white\",\"linecolor\":\"white\",\"ticks\":\"\"}},\"scene\":{\"xaxis\":{\"backgroundcolor\":\"#E5ECF6\",\"gridcolor\":\"white\",\"gridwidth\":2,\"linecolor\":\"white\",\"showbackground\":true,\"ticks\":\"\",\"zerolinecolor\":\"white\"},\"yaxis\":{\"backgroundcolor\":\"#E5ECF6\",\"gridcolor\":\"white\",\"gridwidth\":2,\"linecolor\":\"white\",\"showbackground\":true,\"ticks\":\"\",\"zerolinecolor\":\"white\"},\"zaxis\":{\"backgroundcolor\":\"#E5ECF6\",\"gridcolor\":\"white\",\"gridwidth\":2,\"linecolor\":\"white\",\"showbackground\":true,\"ticks\":\"\",\"zerolinecolor\":\"white\"}},\"shapedefaults\":{\"line\":{\"color\":\"#2a3f5f\"}},\"ternary\":{\"aaxis\":{\"gridcolor\":\"white\",\"linecolor\":\"white\",\"ticks\":\"\"},\"baxis\":{\"gridcolor\":\"white\",\"linecolor\":\"white\",\"ticks\":\"\"},\"bgcolor\":\"#E5ECF6\",\"caxis\":{\"gridcolor\":\"white\",\"linecolor\":\"white\",\"ticks\":\"\"}},\"title\":{\"x\":0.05},\"xaxis\":{\"automargin\":true,\"gridcolor\":\"white\",\"linecolor\":\"white\",\"ticks\":\"\",\"title\":{\"standoff\":15},\"zerolinecolor\":\"white\",\"zerolinewidth\":2},\"yaxis\":{\"automargin\":true,\"gridcolor\":\"white\",\"linecolor\":\"white\",\"ticks\":\"\",\"title\":{\"standoff\":15},\"zerolinecolor\":\"white\",\"zerolinewidth\":2}}},\"geo\":{\"domain\":{\"x\":[0.0,1.0],\"y\":[0.0,1.0]},\"projection\":{\"type\":\"natural earth\"},\"center\":{},\"scope\":\"world\"},\"coloraxis\":{\"colorbar\":{\"title\":{\"text\":\"avg(posSentiment)\"}},\"colorscale\":[[0.0,\"#0d0887\"],[0.1111111111111111,\"#46039f\"],[0.2222222222222222,\"#7201a8\"],[0.3333333333333333,\"#9c179e\"],[0.4444444444444444,\"#bd3786\"],[0.5555555555555556,\"#d8576b\"],[0.6666666666666666,\"#ed7953\"],[0.7777777777777778,\"#fb9f3a\"],[0.8888888888888888,\"#fdca26\"],[1.0,\"#f0f921\"]],\"cmin\":0,\"cmax\":1},\"legend\":{\"tracegroupgap\":0},\"title\":{\"text\":\"Positive Sentiment month February\"}},                        {\"responsive\": true}                    ).then(function(){\n",
              "                            \n",
              "var gd = document.getElementById('fdfd67fb-3b78-4e99-bbd2-ebaa1fa5a0b7');\n",
              "var x = new MutationObserver(function (mutations, observer) {{\n",
              "        var display = window.getComputedStyle(gd).display;\n",
              "        if (!display || display === 'none') {{\n",
              "            console.log([gd, 'removed!']);\n",
              "            Plotly.purge(gd);\n",
              "            observer.disconnect();\n",
              "        }}\n",
              "}});\n",
              "\n",
              "// Listen for the removal of the full notebook cells\n",
              "var notebookContainer = gd.closest('#notebook-container');\n",
              "if (notebookContainer) {{\n",
              "    x.observe(notebookContainer, {childList: true});\n",
              "}}\n",
              "\n",
              "// Listen for the clearing of the current output cell\n",
              "var outputEl = gd.closest('.output');\n",
              "if (outputEl) {{\n",
              "    x.observe(outputEl, {childList: true});\n",
              "}}\n",
              "\n",
              "                        })                };                            </script>        </div>\n",
              "</body>\n",
              "</html>"
            ]
          },
          "metadata": {}
        }
      ]
    },
    {
      "cell_type": "code",
      "source": [
        "fig = px.choropleth(pandas_dfNEG, locations=\"Country\",\n",
        "                    color_continuous_scale=px.colors.sequential.Plasma, title='Negative Sentiment month February',\n",
        "                    locationmode= 'country names' , color='avg(negSentiment)',\n",
        "                    range_color=[0,1],projection='natural earth',\n",
        "                    scope ='world') \n",
        "fig.show()"
      ],
      "metadata": {
        "colab": {
          "base_uri": "https://localhost:8080/",
          "height": 542
        },
        "id": "RLqkEUWRtSTa",
        "outputId": "4d09f836-43b0-4ea0-e6ee-c6229b22bddb"
      },
      "execution_count": 64,
      "outputs": [
        {
          "output_type": "display_data",
          "data": {
            "text/html": [
              "<html>\n",
              "<head><meta charset=\"utf-8\" /></head>\n",
              "<body>\n",
              "    <div>            <script src=\"https://cdnjs.cloudflare.com/ajax/libs/mathjax/2.7.5/MathJax.js?config=TeX-AMS-MML_SVG\"></script><script type=\"text/javascript\">if (window.MathJax) {MathJax.Hub.Config({SVG: {font: \"STIX-Web\"}});}</script>                <script type=\"text/javascript\">window.PlotlyConfig = {MathJaxConfig: 'local'};</script>\n",
              "        <script src=\"https://cdn.plot.ly/plotly-2.8.3.min.js\"></script>                <div id=\"4b0923cd-cf77-4fff-88f7-1ac065fbfbe6\" class=\"plotly-graph-div\" style=\"height:525px; width:100%;\"></div>            <script type=\"text/javascript\">                                    window.PLOTLYENV=window.PLOTLYENV || {};                                    if (document.getElementById(\"4b0923cd-cf77-4fff-88f7-1ac065fbfbe6\")) {                    Plotly.newPlot(                        \"4b0923cd-cf77-4fff-88f7-1ac065fbfbe6\",                        [{\"coloraxis\":\"coloraxis\",\"geo\":\"geo\",\"hovertemplate\":\"Country=%{location}<br>avg(negSentiment)=%{z}<extra></extra>\",\"locationmode\":\"country names\",\"locations\":[\"Saudi Arabia\",\"Georgia\",\"Nepal\",\"Azerbaijan\",\"Tunisia\",\"Italy\",\"Ghana\",\"Oceania\",\"North Macedonia\",\"Nicaragua\",\"Qatar\",\"Canada\",\"Lebanon\",\"Israel\",\"Australia\",\"Serbia\",\"Russia\",\"The Gambia\",\"Jordan\",\"Colombia\",\"Lithuania\",\"Palestinian Territory\",\"Malaysia\",\"Cayman Islands\",\"United Kingdom\",\"Pakistan\",\"Sri Lanka\",\"Croatia\",\"Cambodia\",\"Estonia\",\"Somalia\",\"South Korea\",\"Costa Rica\",\"Myanmar\",\"Philippines\",\"Japan\",\"Netherlands\",\"Spain\",\"Ecuador\",\"Haiti\",\"Syria\",\"Luxembourg\",\"Czechia\",\"Belgium\",\"Maldives\",\"Bulgaria\",\"Kenya\",\"Germany\",\"Rwanda\",\"Mali\",\"Bolivia\",\"Africa\",\"Chile\",\"Uruguay\",\"South Africa\",\"Uganda\",\"Bangladesh\",\"Afghanistan\",\"Brazil\",\"Morocco\",\"New Zealand\",\"North America\",\"Kuwait\",\"Laos\",\"Guernsey\",\"Oman\",\"Taiwan\",\"Kyrgyzstan\",\"Slovakia\",\"Antarctica\",\"India\",\"Latvia\",\"United Arab Emirates\",\"Zambia\",\"Egypt\",\"Eswatini\",\"Europe\",\"Indonesia\",\"Namibia\",\"El Salvador\",\"Hungary\",\"Warsaw\",\"Iceland\",\"Finland\",\"Algeria\",\"Greece\",\"Zimbabwe\",\"Guatemala\",\"Belarus\",\"Denmark\",\"Liberia\",\"Malta\",\"Ukraine\",\"Sweden\",\"Norway\",\"Libya\",\"Cyprus\",\"Jamaica\",\"Ireland\",\"Slovenia\",\"Venezuela\",\"Tanzania\",\"Gibraltar\",\"Cuba\",\"Mexico\",\"China\",\"Iraq\",\"Vietnam\",\"Bosnia and Herzegovina\",\"Peru\",\"Romania\",\"Thailand\",\"Argentina\",\"Kosovo\",\"Burkina Faso\",\"Ethiopia\",\"Sierra Leone\",\"United States\",\"Switzerland\",\"Singapore\",\"Nigeria\",\"Turkey\",\"Austria\",\"Belize\",\"Moldova\",\"Paraguay\",\"Armenia\",\"Mongolia\",\"France\",\"Poland\",\"Iran\",\"Portugal\",\"Chad\"],\"name\":\"\",\"z\":[0.23500000259705953,0.1629999993102891,0.21249999850988388,0.17949999868869781,0.27000001072883606,0.20080000006339765,0.16700000103030885,0.23100000619888306,0.2574999928474426,0.17299999296665192,0.2206666717926661,0.20553846215494934,0.20024999603629112,0.20963636582547968,0.18174074314258717,0.1567777751220597,0.24299999978393316,0.22599999606609344,0.19999999552965164,0.24877778026792738,0.24609999880194663,0.20399999618530273,0.2225000038743019,0.15800000727176666,0.1972713184348026,0.20526470594546375,0.14299999922513962,0.2639999985694885,0.15800000727176666,0.22869230749515387,0.17399999499320984,0.2245714259999139,0.07599999755620956,0.18566666295131048,0.12300000339746475,0.21947222265104452,0.20232758549009933,0.20529787258264867,0.2357499971985817,0.18833333005507788,0.32600000500679016,0.23000000417232513,0.2338823527097702,0.17981818250634454,0.24499999980131784,0.2327500032261014,0.21086667055884997,0.22442857229283877,0.18299999833106995,0.1599999964237213,0.11900000274181366,0.24214285718543188,0.2544285697596414,0.26600000262260437,0.18203703700392335,0.1136000007390976,0.13650000467896461,0.2420000061392784,0.2145909106528217,0.1810000017285347,0.19230000153183938,0.07800000160932541,0.1623333344856898,0.13750000298023224,0.1809999942779541,0.2760000005364418,0.27919999659061434,0.2619999945163727,0.13000000144044557,0.18450000137090683,0.22200000138339385,0.22100000083446503,0.1959999998410543,0.6700000166893005,0.14400000125169754,0.3240000009536743,0.19799999999148504,0.21376470388735042,0.16599999368190765,0.1556666667262713,0.23660869378110636,0.3125,0.335999995470047,0.23244444794125027,0.34200000762939453,0.1831818175586787,0.22599999979138374,0.07999999821186066,0.17799999192357063,0.17029999941587448,0.16266666849454245,0.14333333323399225,0.2311219498515129,0.22542857192456722,0.20492307784465644,0.2680000066757202,0.2884000062942505,0.2280000001192093,0.1916896551847458,0.22099999835093817,0.18310526464330523,0.1830000001937151,0.1459999978542328,0.17900000512599945,0.19076470460961847,0.2265238112636975,0.17499999701976776,0.14399999752640724,0.2857499923557043,0.17262499872595072,0.24099999964237212,0.17076923010440972,0.17900000054102677,0.1946666638056437,0.37050001323223114,0.19800000190734862,0.3149999976158142,0.2065091381016454,0.19652631643571353,0.1745999976992607,0.2413225820468318,0.19840000066906213,0.20387499872595072,0.20399999618530273,0.3114999905228615,0.181750001385808,0.07050000131130219,0.26600000262260437,0.21035365942047862,0.24347787574592944,0.17600000649690628,0.22643478247134582,0.3490000069141388],\"type\":\"choropleth\"}],                        {\"template\":{\"data\":{\"bar\":[{\"error_x\":{\"color\":\"#2a3f5f\"},\"error_y\":{\"color\":\"#2a3f5f\"},\"marker\":{\"line\":{\"color\":\"#E5ECF6\",\"width\":0.5},\"pattern\":{\"fillmode\":\"overlay\",\"size\":10,\"solidity\":0.2}},\"type\":\"bar\"}],\"barpolar\":[{\"marker\":{\"line\":{\"color\":\"#E5ECF6\",\"width\":0.5},\"pattern\":{\"fillmode\":\"overlay\",\"size\":10,\"solidity\":0.2}},\"type\":\"barpolar\"}],\"carpet\":[{\"aaxis\":{\"endlinecolor\":\"#2a3f5f\",\"gridcolor\":\"white\",\"linecolor\":\"white\",\"minorgridcolor\":\"white\",\"startlinecolor\":\"#2a3f5f\"},\"baxis\":{\"endlinecolor\":\"#2a3f5f\",\"gridcolor\":\"white\",\"linecolor\":\"white\",\"minorgridcolor\":\"white\",\"startlinecolor\":\"#2a3f5f\"},\"type\":\"carpet\"}],\"choropleth\":[{\"colorbar\":{\"outlinewidth\":0,\"ticks\":\"\"},\"type\":\"choropleth\"}],\"contour\":[{\"colorbar\":{\"outlinewidth\":0,\"ticks\":\"\"},\"colorscale\":[[0.0,\"#0d0887\"],[0.1111111111111111,\"#46039f\"],[0.2222222222222222,\"#7201a8\"],[0.3333333333333333,\"#9c179e\"],[0.4444444444444444,\"#bd3786\"],[0.5555555555555556,\"#d8576b\"],[0.6666666666666666,\"#ed7953\"],[0.7777777777777778,\"#fb9f3a\"],[0.8888888888888888,\"#fdca26\"],[1.0,\"#f0f921\"]],\"type\":\"contour\"}],\"contourcarpet\":[{\"colorbar\":{\"outlinewidth\":0,\"ticks\":\"\"},\"type\":\"contourcarpet\"}],\"heatmap\":[{\"colorbar\":{\"outlinewidth\":0,\"ticks\":\"\"},\"colorscale\":[[0.0,\"#0d0887\"],[0.1111111111111111,\"#46039f\"],[0.2222222222222222,\"#7201a8\"],[0.3333333333333333,\"#9c179e\"],[0.4444444444444444,\"#bd3786\"],[0.5555555555555556,\"#d8576b\"],[0.6666666666666666,\"#ed7953\"],[0.7777777777777778,\"#fb9f3a\"],[0.8888888888888888,\"#fdca26\"],[1.0,\"#f0f921\"]],\"type\":\"heatmap\"}],\"heatmapgl\":[{\"colorbar\":{\"outlinewidth\":0,\"ticks\":\"\"},\"colorscale\":[[0.0,\"#0d0887\"],[0.1111111111111111,\"#46039f\"],[0.2222222222222222,\"#7201a8\"],[0.3333333333333333,\"#9c179e\"],[0.4444444444444444,\"#bd3786\"],[0.5555555555555556,\"#d8576b\"],[0.6666666666666666,\"#ed7953\"],[0.7777777777777778,\"#fb9f3a\"],[0.8888888888888888,\"#fdca26\"],[1.0,\"#f0f921\"]],\"type\":\"heatmapgl\"}],\"histogram\":[{\"marker\":{\"pattern\":{\"fillmode\":\"overlay\",\"size\":10,\"solidity\":0.2}},\"type\":\"histogram\"}],\"histogram2d\":[{\"colorbar\":{\"outlinewidth\":0,\"ticks\":\"\"},\"colorscale\":[[0.0,\"#0d0887\"],[0.1111111111111111,\"#46039f\"],[0.2222222222222222,\"#7201a8\"],[0.3333333333333333,\"#9c179e\"],[0.4444444444444444,\"#bd3786\"],[0.5555555555555556,\"#d8576b\"],[0.6666666666666666,\"#ed7953\"],[0.7777777777777778,\"#fb9f3a\"],[0.8888888888888888,\"#fdca26\"],[1.0,\"#f0f921\"]],\"type\":\"histogram2d\"}],\"histogram2dcontour\":[{\"colorbar\":{\"outlinewidth\":0,\"ticks\":\"\"},\"colorscale\":[[0.0,\"#0d0887\"],[0.1111111111111111,\"#46039f\"],[0.2222222222222222,\"#7201a8\"],[0.3333333333333333,\"#9c179e\"],[0.4444444444444444,\"#bd3786\"],[0.5555555555555556,\"#d8576b\"],[0.6666666666666666,\"#ed7953\"],[0.7777777777777778,\"#fb9f3a\"],[0.8888888888888888,\"#fdca26\"],[1.0,\"#f0f921\"]],\"type\":\"histogram2dcontour\"}],\"mesh3d\":[{\"colorbar\":{\"outlinewidth\":0,\"ticks\":\"\"},\"type\":\"mesh3d\"}],\"parcoords\":[{\"line\":{\"colorbar\":{\"outlinewidth\":0,\"ticks\":\"\"}},\"type\":\"parcoords\"}],\"pie\":[{\"automargin\":true,\"type\":\"pie\"}],\"scatter\":[{\"marker\":{\"colorbar\":{\"outlinewidth\":0,\"ticks\":\"\"}},\"type\":\"scatter\"}],\"scatter3d\":[{\"line\":{\"colorbar\":{\"outlinewidth\":0,\"ticks\":\"\"}},\"marker\":{\"colorbar\":{\"outlinewidth\":0,\"ticks\":\"\"}},\"type\":\"scatter3d\"}],\"scattercarpet\":[{\"marker\":{\"colorbar\":{\"outlinewidth\":0,\"ticks\":\"\"}},\"type\":\"scattercarpet\"}],\"scattergeo\":[{\"marker\":{\"colorbar\":{\"outlinewidth\":0,\"ticks\":\"\"}},\"type\":\"scattergeo\"}],\"scattergl\":[{\"marker\":{\"colorbar\":{\"outlinewidth\":0,\"ticks\":\"\"}},\"type\":\"scattergl\"}],\"scattermapbox\":[{\"marker\":{\"colorbar\":{\"outlinewidth\":0,\"ticks\":\"\"}},\"type\":\"scattermapbox\"}],\"scatterpolar\":[{\"marker\":{\"colorbar\":{\"outlinewidth\":0,\"ticks\":\"\"}},\"type\":\"scatterpolar\"}],\"scatterpolargl\":[{\"marker\":{\"colorbar\":{\"outlinewidth\":0,\"ticks\":\"\"}},\"type\":\"scatterpolargl\"}],\"scatterternary\":[{\"marker\":{\"colorbar\":{\"outlinewidth\":0,\"ticks\":\"\"}},\"type\":\"scatterternary\"}],\"surface\":[{\"colorbar\":{\"outlinewidth\":0,\"ticks\":\"\"},\"colorscale\":[[0.0,\"#0d0887\"],[0.1111111111111111,\"#46039f\"],[0.2222222222222222,\"#7201a8\"],[0.3333333333333333,\"#9c179e\"],[0.4444444444444444,\"#bd3786\"],[0.5555555555555556,\"#d8576b\"],[0.6666666666666666,\"#ed7953\"],[0.7777777777777778,\"#fb9f3a\"],[0.8888888888888888,\"#fdca26\"],[1.0,\"#f0f921\"]],\"type\":\"surface\"}],\"table\":[{\"cells\":{\"fill\":{\"color\":\"#EBF0F8\"},\"line\":{\"color\":\"white\"}},\"header\":{\"fill\":{\"color\":\"#C8D4E3\"},\"line\":{\"color\":\"white\"}},\"type\":\"table\"}]},\"layout\":{\"annotationdefaults\":{\"arrowcolor\":\"#2a3f5f\",\"arrowhead\":0,\"arrowwidth\":1},\"autotypenumbers\":\"strict\",\"coloraxis\":{\"colorbar\":{\"outlinewidth\":0,\"ticks\":\"\"}},\"colorscale\":{\"diverging\":[[0,\"#8e0152\"],[0.1,\"#c51b7d\"],[0.2,\"#de77ae\"],[0.3,\"#f1b6da\"],[0.4,\"#fde0ef\"],[0.5,\"#f7f7f7\"],[0.6,\"#e6f5d0\"],[0.7,\"#b8e186\"],[0.8,\"#7fbc41\"],[0.9,\"#4d9221\"],[1,\"#276419\"]],\"sequential\":[[0.0,\"#0d0887\"],[0.1111111111111111,\"#46039f\"],[0.2222222222222222,\"#7201a8\"],[0.3333333333333333,\"#9c179e\"],[0.4444444444444444,\"#bd3786\"],[0.5555555555555556,\"#d8576b\"],[0.6666666666666666,\"#ed7953\"],[0.7777777777777778,\"#fb9f3a\"],[0.8888888888888888,\"#fdca26\"],[1.0,\"#f0f921\"]],\"sequentialminus\":[[0.0,\"#0d0887\"],[0.1111111111111111,\"#46039f\"],[0.2222222222222222,\"#7201a8\"],[0.3333333333333333,\"#9c179e\"],[0.4444444444444444,\"#bd3786\"],[0.5555555555555556,\"#d8576b\"],[0.6666666666666666,\"#ed7953\"],[0.7777777777777778,\"#fb9f3a\"],[0.8888888888888888,\"#fdca26\"],[1.0,\"#f0f921\"]]},\"colorway\":[\"#636efa\",\"#EF553B\",\"#00cc96\",\"#ab63fa\",\"#FFA15A\",\"#19d3f3\",\"#FF6692\",\"#B6E880\",\"#FF97FF\",\"#FECB52\"],\"font\":{\"color\":\"#2a3f5f\"},\"geo\":{\"bgcolor\":\"white\",\"lakecolor\":\"white\",\"landcolor\":\"#E5ECF6\",\"showlakes\":true,\"showland\":true,\"subunitcolor\":\"white\"},\"hoverlabel\":{\"align\":\"left\"},\"hovermode\":\"closest\",\"mapbox\":{\"style\":\"light\"},\"paper_bgcolor\":\"white\",\"plot_bgcolor\":\"#E5ECF6\",\"polar\":{\"angularaxis\":{\"gridcolor\":\"white\",\"linecolor\":\"white\",\"ticks\":\"\"},\"bgcolor\":\"#E5ECF6\",\"radialaxis\":{\"gridcolor\":\"white\",\"linecolor\":\"white\",\"ticks\":\"\"}},\"scene\":{\"xaxis\":{\"backgroundcolor\":\"#E5ECF6\",\"gridcolor\":\"white\",\"gridwidth\":2,\"linecolor\":\"white\",\"showbackground\":true,\"ticks\":\"\",\"zerolinecolor\":\"white\"},\"yaxis\":{\"backgroundcolor\":\"#E5ECF6\",\"gridcolor\":\"white\",\"gridwidth\":2,\"linecolor\":\"white\",\"showbackground\":true,\"ticks\":\"\",\"zerolinecolor\":\"white\"},\"zaxis\":{\"backgroundcolor\":\"#E5ECF6\",\"gridcolor\":\"white\",\"gridwidth\":2,\"linecolor\":\"white\",\"showbackground\":true,\"ticks\":\"\",\"zerolinecolor\":\"white\"}},\"shapedefaults\":{\"line\":{\"color\":\"#2a3f5f\"}},\"ternary\":{\"aaxis\":{\"gridcolor\":\"white\",\"linecolor\":\"white\",\"ticks\":\"\"},\"baxis\":{\"gridcolor\":\"white\",\"linecolor\":\"white\",\"ticks\":\"\"},\"bgcolor\":\"#E5ECF6\",\"caxis\":{\"gridcolor\":\"white\",\"linecolor\":\"white\",\"ticks\":\"\"}},\"title\":{\"x\":0.05},\"xaxis\":{\"automargin\":true,\"gridcolor\":\"white\",\"linecolor\":\"white\",\"ticks\":\"\",\"title\":{\"standoff\":15},\"zerolinecolor\":\"white\",\"zerolinewidth\":2},\"yaxis\":{\"automargin\":true,\"gridcolor\":\"white\",\"linecolor\":\"white\",\"ticks\":\"\",\"title\":{\"standoff\":15},\"zerolinecolor\":\"white\",\"zerolinewidth\":2}}},\"geo\":{\"domain\":{\"x\":[0.0,1.0],\"y\":[0.0,1.0]},\"projection\":{\"type\":\"natural earth\"},\"center\":{},\"scope\":\"world\"},\"coloraxis\":{\"colorbar\":{\"title\":{\"text\":\"avg(negSentiment)\"}},\"colorscale\":[[0.0,\"#0d0887\"],[0.1111111111111111,\"#46039f\"],[0.2222222222222222,\"#7201a8\"],[0.3333333333333333,\"#9c179e\"],[0.4444444444444444,\"#bd3786\"],[0.5555555555555556,\"#d8576b\"],[0.6666666666666666,\"#ed7953\"],[0.7777777777777778,\"#fb9f3a\"],[0.8888888888888888,\"#fdca26\"],[1.0,\"#f0f921\"]],\"cmin\":0,\"cmax\":1},\"legend\":{\"tracegroupgap\":0},\"title\":{\"text\":\"Negative Sentiment month February\"}},                        {\"responsive\": true}                    ).then(function(){\n",
              "                            \n",
              "var gd = document.getElementById('4b0923cd-cf77-4fff-88f7-1ac065fbfbe6');\n",
              "var x = new MutationObserver(function (mutations, observer) {{\n",
              "        var display = window.getComputedStyle(gd).display;\n",
              "        if (!display || display === 'none') {{\n",
              "            console.log([gd, 'removed!']);\n",
              "            Plotly.purge(gd);\n",
              "            observer.disconnect();\n",
              "        }}\n",
              "}});\n",
              "\n",
              "// Listen for the removal of the full notebook cells\n",
              "var notebookContainer = gd.closest('#notebook-container');\n",
              "if (notebookContainer) {{\n",
              "    x.observe(notebookContainer, {childList: true});\n",
              "}}\n",
              "\n",
              "// Listen for the clearing of the current output cell\n",
              "var outputEl = gd.closest('.output');\n",
              "if (outputEl) {{\n",
              "    x.observe(outputEl, {childList: true});\n",
              "}}\n",
              "\n",
              "                        })                };                            </script>        </div>\n",
              "</body>\n",
              "</html>"
            ]
          },
          "metadata": {}
        }
      ]
    }
  ]
}